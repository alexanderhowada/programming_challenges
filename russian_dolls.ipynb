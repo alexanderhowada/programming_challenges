{
 "cells": [
  {
   "cell_type": "markdown",
   "id": "adbc93a8",
   "metadata": {
    "execution_time": [
     1665192020727
    ],
    "special_cell_type": "prompt_instructions"
   },
   "source": [
    "# Coding Exercise\n",
    "\n",
    "You must correctly implement the function described in the prompt below.\n",
    "\n",
    "Feel free to test out pieces of code to help you write the solution.\n",
    "\n",
    "Please thoroughly test that the final code implements the function correctly."
   ]
  },
  {
   "cell_type": "markdown",
   "id": "4b7f75fc",
   "metadata": {
    "execution_time": [
     1665191696167,
     1665192021021,
     1665460232960,
     1665462648750
    ],
    "special_cell_type": "prompt_task"
   },
   "source": [
    "## Prompt\n",
    "\n",
    "**Function signature:** `arrangements(N: int, visible: List[int], hidden: int) -> int`\n",
    "\n",
    "    Note to plugin users: there are html elements in this statement that will not appear correct in plugins.  Please use the statement to view them.\n",
    "\n",
    "    Russian Nesting Dolls are a set of dolls which nest inside each other.  The dolls are constructed in such a way that each doll will fit comfortably inside any larger doll, and no two dolls are the same size.  There are a finite number of ways to nest dolls inside one another so that a specific subset of the dolls is visible.  For example, with 3 dolls, there is only one way that they could be nested such that only the largest doll is visible, but there are 2 ways to nest the dolls if the largest and medium doll are visible (depending on which of the two larger dolls the smallest doll is inside).  In addition, if you are just given how many dolls are visible, there may be even more ways that the dolls could be nested.  For example, if you know there are 2 dolls visible in a 3-doll set, there are 3 ways they could be nested (see example 0).\n",
    "\n",
    "    Your clever friend has used an entire set of N nesting dolls in an arrangement on a table.  He assures you that all the nesting dolls are on the table, but you can only see a subset of the dolls.  In addition, he has placed a piece of cardboard in front of some of the dolls so that you cannot see which ones they are, and he tells you how many are behind the board.  He asks you how many possible ways he could have arranged the dolls such that the current configuration is on the table.\n",
    "\n",
    "    Each doll has a number painted on it from 1 to N, which identifies the size of the doll.  You can fit a doll labeled i inside a doll labeled j as long as i < j.  Your program will be given an int N, identifying how many dolls there are in the set, a List[int] visible, identifying which dolls you can see on the table, and an int hidden, identifying how many more dolls would be visible if the board was removed.  Two arrangements are different if any doll is nested immediately inside a different doll, or is nested in one arrangement but not in the other.\n",
    "\n",
    "    Notes\n",
    "    -The constraints are constructed so the return value will be <= 263 - 1.\n",
    " \n",
    "    Constraints\n",
    "    -N will be between 2 and 25, inclusive.\n",
    "    -hidden will be between 0 and N, inclusive.\n",
    "    -visible will have between 0 and N-hidden elements, inclusive.\n",
    "    -Each element of visible will be between 1 and N, inclusive.\n",
    "    -There will be no repeated elements in visible.\n",
    "    -There will be at least one configuration which is possible given the arguments.\n",
    " \n",
    "    Examples\n",
    "    0)\n",
    "        3\n",
    "    {}\n",
    "    2\n",
    "\n",
    "    Returns: 3\n",
    "    There are three dolls, two of which are behind the board.  Since no dolls are showing, the third doll must be nested inside one of the other two.  There are three possibilities:\n",
    "    1 and 3 are behind the board, 2 is nested inside 3\n",
    "    2 and 3 are behind the board, 1 is nested inside 2\n",
    "    2 and 3 are behind the board, 1 is nested inside 3\n",
    "\n",
    "    1)\n",
    "        3\n",
    "    {2}\n",
    "    1\n",
    "\n",
    "    Returns: 2\n",
    "    In this case, doll 2 is showing.  Since there is only one doll behind the board, it must be doll 3.  The only unknown is doll 1.  It could either be nested in doll 3 or doll 2.\n",
    "\n",
    "    2)\n",
    "        9\n",
    "    {9}\n",
    "    1\n",
    "\n",
    "    Returns: 255\n",
    "    Dolls 1-8 could either be behind the board or inside doll 9.  However, the case where 1-8 are all inside of 9 is not possible, because then there wouldn't be a doll behind the board.  So the answer is 28 - 1.\n",
    "\n",
    "    3)\n",
    "        20\n",
    "    {13,5,2,18}\n",
    "    3\n",
    "\n",
    "    Returns: 7163268480\n",
    "\n",
    "    "
   ]
  },
  {
   "cell_type": "markdown",
   "id": "2fa5fd31",
   "metadata": {
    "execution_time": [
     1665465227846,
     1665465352671,
     1665465385107
    ]
   },
   "source": [
    "The constraints are constructed so the output is smaller than 263-1, therefore I use brute force. \n",
    "\n",
    "The brute force algorithm is to simply generate all possible configurations.\n",
    "We will generate the configurations recursively by distributing the the largest dolls to the smallest.\n",
    "The state of the table will be represented by a 2d list[space][dolls], where the first index represent a space on the table, and the second index the dolls in the space."
   ]
  },
  {
   "cell_type": "code",
   "execution_count": 3,
   "id": "037a13dd",
   "metadata": {},
   "outputs": [
    {
     "data": {
      "text/plain": [
       "(0, [])"
      ]
     },
     "execution_count": 3,
     "metadata": {},
     "output_type": "execute_result"
    }
   ],
   "source": [
    "from typing import List\n",
    "import copy\n",
    "\n",
    "def get_configs(N, table, available):\n",
    "    if sum(available) == 0:\n",
    "        return [table]\n",
    "    \n",
    "    table_list = []\n",
    "    \n",
    "    #get last doll and set it to not available\n",
    "    last = len(available) - 1 - available[::-1].index(True)\n",
    "    available[last] = False\n",
    "    \n",
    "    #try to fit the doll at each space on the table\n",
    "    for i in range(len(table)):\n",
    "        if min(table[i]) > last: #condition to check if doll fit inside\n",
    "            t = copy.deepcopy(table)\n",
    "            t[i].append(last)\n",
    "            table_list.append(get_configs(N, t, available))\n",
    "            \n",
    "    return table_list\n",
    "\n",
    "def arrangements(N: int, visible: List[int], hidden: int) -> int:\n",
    "    #representation of the table\n",
    "    table = []*len(visible)+[]*hidden\n",
    "    for i, v in enumerate(visible):\n",
    "        table[i].append(v)\n",
    "    \n",
    "    #array to check if doll is not on the table\n",
    "    available = [False if v in visible else True for v in range(N)]\n",
    "        \n",
    "    configs = get_configs(N, table, available)\n",
    "    return len(configs), configs\n",
    "\n",
    "arrangements(3, [], 2)"
   ]
  },
  {
   "cell_type": "markdown",
   "id": "29529a06",
   "metadata": {
    "execution_time": [
     1665465579335
    ]
   },
   "source": [
    "The result is clearly wrong (the first result should be 3).\n",
    "The problem is that the table should be 2d lists"
   ]
  },
  {
   "cell_type": "code",
   "execution_count": 4,
   "id": "8d0de493",
   "metadata": {},
   "outputs": [
    {
     "ename": "ValueError",
     "evalue": "min() arg is an empty sequence",
     "output_type": "error",
     "traceback": [
      "\u001b[0;31m---------------------------------------------------------------------------\u001b[0m",
      "\u001b[0;31mValueError\u001b[0m                                Traceback (most recent call last)",
      "Cell \u001b[0;32mIn [4], line 12\u001b[0m\n\u001b[1;32m      9\u001b[0m     configs \u001b[38;5;241m=\u001b[39m get_configs(N, table, available)\n\u001b[1;32m     10\u001b[0m     \u001b[38;5;28;01mreturn\u001b[39;00m \u001b[38;5;28mlen\u001b[39m(configs), configs\n\u001b[0;32m---> 12\u001b[0m \u001b[43marrangements\u001b[49m\u001b[43m(\u001b[49m\u001b[38;5;241;43m3\u001b[39;49m\u001b[43m,\u001b[49m\u001b[43m \u001b[49m\u001b[43m[\u001b[49m\u001b[43m]\u001b[49m\u001b[43m,\u001b[49m\u001b[43m \u001b[49m\u001b[38;5;241;43m2\u001b[39;49m\u001b[43m)\u001b[49m\n",
      "Cell \u001b[0;32mIn [4], line 9\u001b[0m, in \u001b[0;36marrangements\u001b[0;34m(N, visible, hidden)\u001b[0m\n\u001b[1;32m      5\u001b[0m     table[i]\u001b[38;5;241m.\u001b[39mappend(v)\n\u001b[1;32m      7\u001b[0m available \u001b[38;5;241m=\u001b[39m [\u001b[38;5;28;01mFalse\u001b[39;00m \u001b[38;5;28;01mif\u001b[39;00m v \u001b[38;5;129;01min\u001b[39;00m visible \u001b[38;5;28;01melse\u001b[39;00m \u001b[38;5;28;01mTrue\u001b[39;00m \u001b[38;5;28;01mfor\u001b[39;00m v \u001b[38;5;129;01min\u001b[39;00m \u001b[38;5;28mrange\u001b[39m(N)]\n\u001b[0;32m----> 9\u001b[0m configs \u001b[38;5;241m=\u001b[39m \u001b[43mget_configs\u001b[49m\u001b[43m(\u001b[49m\u001b[43mN\u001b[49m\u001b[43m,\u001b[49m\u001b[43m \u001b[49m\u001b[43mtable\u001b[49m\u001b[43m,\u001b[49m\u001b[43m \u001b[49m\u001b[43mavailable\u001b[49m\u001b[43m)\u001b[49m\n\u001b[1;32m     10\u001b[0m \u001b[38;5;28;01mreturn\u001b[39;00m \u001b[38;5;28mlen\u001b[39m(configs), configs\n",
      "Cell \u001b[0;32mIn [3], line 14\u001b[0m, in \u001b[0;36mget_configs\u001b[0;34m(N, table, available)\u001b[0m\n\u001b[1;32m     11\u001b[0m available[last] \u001b[38;5;241m=\u001b[39m \u001b[38;5;28;01mFalse\u001b[39;00m\n\u001b[1;32m     13\u001b[0m \u001b[38;5;28;01mfor\u001b[39;00m i \u001b[38;5;129;01min\u001b[39;00m \u001b[38;5;28mrange\u001b[39m(\u001b[38;5;28mlen\u001b[39m(table)):\n\u001b[0;32m---> 14\u001b[0m     \u001b[38;5;28;01mif\u001b[39;00m \u001b[38;5;28;43mmin\u001b[39;49m\u001b[43m(\u001b[49m\u001b[43mtable\u001b[49m\u001b[43m[\u001b[49m\u001b[43mi\u001b[49m\u001b[43m]\u001b[49m\u001b[43m)\u001b[49m \u001b[38;5;241m>\u001b[39m last:\n\u001b[1;32m     15\u001b[0m         t \u001b[38;5;241m=\u001b[39m copy\u001b[38;5;241m.\u001b[39mdeepcopy(table)\n\u001b[1;32m     16\u001b[0m         t[i]\u001b[38;5;241m.\u001b[39mappend(last)\n",
      "\u001b[0;31mValueError\u001b[0m: min() arg is an empty sequence"
     ]
    }
   ],
   "source": [
    "def arrangements(N: int, visible: List[int], hidden: int) -> int:\n",
    "    #representation of the table\n",
    "    table = [[]]*len(visible)+[[]]*hidden\n",
    "    for i, v in enumerate(visible):\n",
    "        table[i].append(v)\n",
    "    \n",
    "    available = [False if v in visible else True for v in range(N)]\n",
    "        \n",
    "    configs = get_configs(N, table, available)\n",
    "    return len(configs), configs\n",
    "\n",
    "arrangements(3, [], 2)"
   ]
  },
  {
   "cell_type": "markdown",
   "id": "4e253e96",
   "metadata": {
    "execution_time": [
     1665465611408
    ]
   },
   "source": [
    "The 2d list cannot start empty. Therefore I will start it with a super large doll of size 100. "
   ]
  },
  {
   "cell_type": "code",
   "execution_count": 5,
   "id": "bdb1c24e",
   "metadata": {},
   "outputs": [
    {
     "name": "stdout",
     "output_type": "stream",
     "text": [
      "2\n",
      "[[[[[[100, 2, 1, 0], [100, 2, 1, 0]]], [[[100, 2, 1, 0], [100, 2, 1, 0]]]], [[[100, 2, 1], [100, 2, 1]]]], [[[100, 2], [100, 2]]]]\n"
     ]
    }
   ],
   "source": [
    "def arrangements(N: int, visible: List[int], hidden: int) -> int:\n",
    "    #representation of the table\n",
    "    table = [[100]]*len(visible)+[[100]]*hidden\n",
    "    for i, v in enumerate(visible):\n",
    "        table[i].append(v)\n",
    "    \n",
    "    available = [False if v in visible else True for v in range(N)]\n",
    "        \n",
    "    configs = get_configs(N, table, available)\n",
    "    return len(configs), configs\n",
    "\n",
    "s, conf = arrangements(3, [], 2)\n",
    "print(s)\n",
    "print(conf)"
   ]
  },
  {
   "cell_type": "markdown",
   "id": "7ebcfaff",
   "metadata": {
    "execution_time": [
     1665461695237,
     1665462657191,
     1665463456786,
     1665463485456,
     1665464657038,
     1665465649901
    ]
   },
   "source": [
    "Fixing get_configs to return a list of tables, so our recursion results becomes consitent"
   ]
  },
  {
   "cell_type": "code",
   "execution_count": 6,
   "id": "c5a74d2e",
   "metadata": {},
   "outputs": [
    {
     "name": "stdout",
     "output_type": "stream",
     "text": [
      "8\n",
      "[[100, 2, 1, 0], [100, 2, 1, 0]]\n",
      "[[100, 2, 1, 0], [100, 2, 1, 0]]\n",
      "[[100, 2, 1, 0], [100, 2, 1, 0]]\n",
      "[[100, 2, 1, 0], [100, 2, 1, 0]]\n",
      "[[100, 2, 1, 0], [100, 2, 1, 0]]\n",
      "[[100, 2, 1, 0], [100, 2, 1, 0]]\n",
      "[[100, 2, 1, 0], [100, 2, 1, 0]]\n",
      "[[100, 2, 1, 0], [100, 2, 1, 0]]\n"
     ]
    }
   ],
   "source": [
    "def get_configs(N, table, available):\n",
    "    if sum(available) == 0:\n",
    "        return [table]\n",
    "    \n",
    "    table_list = []\n",
    "    \n",
    "    last = len(available) - 1 - available[::-1].index(True)\n",
    "    available[last] = False\n",
    "    \n",
    "    for i in range(len(table)):\n",
    "        if min(table[i]) > last:\n",
    "            t = copy.deepcopy(table)\n",
    "            a = copy.deepcopy(available)\n",
    "            t[i].append(last)\n",
    "            table_list += get_configs(N, t, a)\n",
    "            \n",
    "    return table_list\n",
    "\n",
    "s, conf = arrangements(3, [], 2)\n",
    "print(s)\n",
    "for c in conf:\n",
    "    print(c)"
   ]
  },
  {
   "cell_type": "markdown",
   "id": "2db809ff",
   "metadata": {
    "execution_time": [
     1665465723558
    ]
   },
   "source": [
    "The results are clearly wrong, and I honestly have no ideia why.\n",
    "Looks like I am not coping the table correctly, but I do not know what is wrong."
   ]
  },
  {
   "cell_type": "code",
   "execution_count": 7,
   "id": "eadf1fac",
   "metadata": {
    "scrolled": true
   },
   "outputs": [
    {
     "name": "stdout",
     "output_type": "stream",
     "text": [
      "[[100, 1], [100], [100]]\n",
      "[[100, 1], [100, 2], [100, 2]]\n",
      "1\n",
      "[[[100, 1, 0], [100, 2], [100, 2]]]\n"
     ]
    }
   ],
   "source": [
    "def get_configs(N, table, available):\n",
    "    \n",
    "    if sum(available) == 0:\n",
    "        return [copy.deepcopy(table)]\n",
    "    \n",
    "    table_list = []\n",
    "    \n",
    "    last = len(available) - 1 - available[::-1].index(True)\n",
    "    available = copy.deepcopy(available)\n",
    "    available[last] = False\n",
    "    \n",
    "    for i in range(len(table)):\n",
    "        if min(table[i]) > last and i != 1:\n",
    "            print(table)\n",
    "            t = copy.deepcopy(table)\n",
    "            a = copy.deepcopy(available)\n",
    "            t[i].append(last)\n",
    "            table_list += get_configs(N, t, a)\n",
    "            break\n",
    "            \n",
    "    return table_list\n",
    "\n",
    "s, conf = arrangements(3, [1], 2)\n",
    "print(s)\n",
    "print(conf)"
   ]
  },
  {
   "cell_type": "code",
   "execution_count": 8,
   "id": "cd56ee22",
   "metadata": {},
   "outputs": [
    {
     "data": {
      "text/plain": [
       "0"
      ]
     },
     "execution_count": 8,
     "metadata": {},
     "output_type": "execute_result"
    }
   ],
   "source": [
    "sum([False, False, False])"
   ]
  },
  {
   "cell_type": "code",
   "execution_count": 9,
   "id": "d967e2de",
   "metadata": {},
   "outputs": [
    {
     "data": {
      "text/plain": [
       "[[100], [100], [100], [100], [100], [100], [100], [100], [100], [100]]"
      ]
     },
     "execution_count": 9,
     "metadata": {},
     "output_type": "execute_result"
    }
   ],
   "source": [
    "a = [[100]]*10\n",
    "a"
   ]
  },
  {
   "cell_type": "code",
   "execution_count": 10,
   "id": "f743451b",
   "metadata": {},
   "outputs": [
    {
     "data": {
      "text/plain": [
       "[[100, 54],\n",
       " [100, 54],\n",
       " [100, 54],\n",
       " [100, 54],\n",
       " [100, 54],\n",
       " [100, 54],\n",
       " [100, 54],\n",
       " [100, 54],\n",
       " [100, 54],\n",
       " [100, 54]]"
      ]
     },
     "execution_count": 10,
     "metadata": {},
     "output_type": "execute_result"
    }
   ],
   "source": [
    "a[0].append(54)\n",
    "a"
   ]
  },
  {
   "cell_type": "markdown",
   "id": "78d482dc",
   "metadata": {
    "execution_time": [
     1665465819182,
     1665465837859
    ]
   },
   "source": [
    "After spending a long time thinking, I realized that my initialization of the table is incorrect, as shown in the two cells above.\n",
    "I will fix the table initialization in function arrangements (with two for loops) so they are initialized properly."
   ]
  },
  {
   "cell_type": "code",
   "execution_count": 11,
   "id": "dfec818d",
   "metadata": {},
   "outputs": [
    {
     "name": "stdout",
     "output_type": "stream",
     "text": [
      "8\n",
      "[[[100, 2, 1, 0], [100]], [[100, 2, 1], [100, 0]], [[100, 2, 0], [100, 1]], [[100, 2], [100, 1, 0]], [[100, 1, 0], [100, 2]], [[100, 1], [100, 2, 0]], [[100, 0], [100, 2, 1]], [[100], [100, 2, 1, 0]]]\n"
     ]
    }
   ],
   "source": [
    "def get_configs(N, table, available):\n",
    "    \n",
    "    if sum(available) == 0:\n",
    "        return [copy.deepcopy(table)]\n",
    "    \n",
    "    table_list = []\n",
    "    \n",
    "    last = len(available) - 1 - available[::-1].index(True)\n",
    "    available = copy.deepcopy(available)\n",
    "    available[last] = False\n",
    "    \n",
    "    for i in range(len(table)):\n",
    "        if min(table[i]) > last:\n",
    "            t = copy.deepcopy(table)\n",
    "            a = copy.deepcopy(available)\n",
    "            t[i].append(last)\n",
    "            table_list += get_configs(N, t, a)\n",
    "            \n",
    "    return table_list\n",
    "\n",
    "def arrangements(N: int, visible: List[int], hidden: int) -> int:\n",
    "    #representation of the table\n",
    "    table = [[100] for i in range(len(visible))]+[[100] for i in range(hidden)]\n",
    "    for i, v in enumerate(visible):\n",
    "        table[i].append(v)\n",
    "    \n",
    "    available = [False if v in visible else True for v in range(N)]\n",
    "        \n",
    "    configs = get_configs(N, table, available)\n",
    "    return len(configs), configs\n",
    "\n",
    "s, conf = arrangements(3, [], 2)\n",
    "print(s)\n",
    "print(conf)"
   ]
  },
  {
   "cell_type": "markdown",
   "id": "cb08de54",
   "metadata": {
    "execution_time": [
     1665465876586,
     1665465912429
    ]
   },
   "source": [
    "I am returning all the possible results, however we need unique results only. I will try to filter the unique results by sorting the lists, casting them to strings and converting to a set."
   ]
  },
  {
   "cell_type": "code",
   "execution_count": 12,
   "id": "9d4deeb5",
   "metadata": {},
   "outputs": [
    {
     "name": "stdout",
     "output_type": "stream",
     "text": [
      "8\n",
      "{'[[100, 2, 1], [100, 0]]', '[[100, 1, 0], [100, 2]]', '[[100, 2], [100, 1, 0]]', '[[100, 2, 0], [100, 1]]', '[[100, 0], [100, 2, 1]]', '[[100], [100, 2, 1, 0]]', '[[100, 2, 1, 0], [100]]', '[[100, 1], [100, 2, 0]]'}\n"
     ]
    }
   ],
   "source": [
    "def arrangements(N: int, visible: List[int], hidden: int) -> int:\n",
    "    #representation of the table\n",
    "    table = [[100] for i in range(len(visible))]+[[100] for i in range(hidden)]\n",
    "    for i, v in enumerate(visible):\n",
    "        table[i].append(v)\n",
    "    \n",
    "    available = [False if v in visible else True for v in range(N)]\n",
    "        \n",
    "    configs = get_configs(N, table, available)\n",
    "    configs.sort()\n",
    "    configs = set([str(c) for c in configs])\n",
    "    \n",
    "    return len(configs), configs\n",
    "\n",
    "s, conf = arrangements(3, [], 2)\n",
    "print(s)\n",
    "print(conf)"
   ]
  },
  {
   "cell_type": "markdown",
   "id": "21e62d6f",
   "metadata": {
    "execution_time": [
     1665466011069
    ]
   },
   "source": [
    "It clearly did not work. I need to sort every possible configuration inside the list, sort the list, and them I can cast every configuration to string and convert them to a set."
   ]
  },
  {
   "cell_type": "code",
   "execution_count": 13,
   "id": "f4394600",
   "metadata": {},
   "outputs": [
    {
     "name": "stdout",
     "output_type": "stream",
     "text": [
      "4\n",
      "{'[[100], [100, 2, 1, 0]]', '[[100, 1, 0], [100, 2]]', '[[100, 1], [100, 2, 0]]', '[[100, 0], [100, 2, 1]]'}\n"
     ]
    }
   ],
   "source": [
    "def arrangements(N: int, visible: List[int], hidden: int) -> int:\n",
    "    #representation of the table\n",
    "    table = [[100] for i in range(len(visible))]+[[100] for i in range(hidden)]\n",
    "    for i, v in enumerate(visible):\n",
    "        table[i].append(v)\n",
    "    \n",
    "    available = [False if v in visible else True for v in range(N)]\n",
    "        \n",
    "    configs = get_configs(N, table, available)\n",
    "    configs = [sorted(c) for c in configs]\n",
    "    configs.sort()\n",
    "    configs = set([str(c) for c in configs])\n",
    "    \n",
    "    return len(configs), configs\n",
    "\n",
    "s, conf = arrangements(3, [], 2)\n",
    "print(s)\n",
    "print(conf)"
   ]
  },
  {
   "cell_type": "markdown",
   "id": "702834d3",
   "metadata": {
    "execution_time": [
     1665466064104
    ]
   },
   "source": [
    "Much better! Now I need to remove entries that have only one 100. A doll of size 100 was artificially inserted to fill the initialization of the algorithm. "
   ]
  },
  {
   "cell_type": "code",
   "execution_count": 14,
   "id": "2e49371e",
   "metadata": {},
   "outputs": [
    {
     "name": "stdout",
     "output_type": "stream",
     "text": [
      "3\n",
      "{'[[100, 1, 0], [100, 2]]', '[[100, 1], [100, 2, 0]]', '[[100, 0], [100, 2, 1]]'}\n"
     ]
    }
   ],
   "source": [
    "def arrangements(N: int, visible: List[int], hidden: int) -> int:\n",
    "    #representation of the table\n",
    "    table = [[100] for i in range(len(visible))]+[[100] for i in range(hidden)]\n",
    "    for i, v in enumerate(visible):\n",
    "        table[i].append(v)\n",
    "    \n",
    "    available = [False if v in visible else True for v in range(N)]\n",
    "        \n",
    "    configs = get_configs(N, table, available)\n",
    "    configs = [sorted(c) for c in configs]\n",
    "    configs = [c for c in configs if len(c[0]) > 1]\n",
    "    configs.sort()\n",
    "    configs = set([str(c) for c in configs])\n",
    "    \n",
    "    return len(configs), configs\n",
    "\n",
    "s, conf = arrangements(3, [], 2)\n",
    "print(s)\n",
    "print(conf)"
   ]
  },
  {
   "cell_type": "markdown",
   "id": "bc10589d",
   "metadata": {
    "execution_time": [
     1665464196680,
     1665464677006
    ]
   },
   "source": [
    "looks like it is finally working "
   ]
  },
  {
   "cell_type": "code",
   "execution_count": 15,
   "id": "7b892dc2",
   "metadata": {},
   "outputs": [
    {
     "name": "stdout",
     "output_type": "stream",
     "text": [
      "3\n",
      "{'[[100, 1, 0], [100, 2]]', '[[100, 1], [100, 2, 0]]', '[[100, 0], [100, 2, 1]]'}\n"
     ]
    }
   ],
   "source": [
    "s, conf = arrangements(3, [2], 1)\n",
    "print(s)\n",
    "print(conf)"
   ]
  },
  {
   "cell_type": "markdown",
   "id": "6bb059d2",
   "metadata": {
    "execution_time": [
     1665464319508,
     1665464679313,
     1665466125444
    ]
   },
   "source": [
    "I am counting dolls in the wrong way. The prompt count dolls starting from 1, but my algorithm counts from 0.\n",
    "The fix is simple and I only need to change the results related to the variable visible."
   ]
  },
  {
   "cell_type": "code",
   "execution_count": 19,
   "id": "b18c4fe3",
   "metadata": {},
   "outputs": [
    {
     "name": "stdout",
     "output_type": "stream",
     "text": [
      "2\n",
      "{'[[100, 1, 0], [100, 2]]', '[[100, 1], [100, 2, 0]]'}\n"
     ]
    }
   ],
   "source": [
    "def arrangements(N: int, visible: List[int], hidden: int) -> int:\n",
    "    #representation of the table\n",
    "    table = [[100] for i in range(len(visible))]+[[100] for i in range(hidden)]\n",
    "    for i, v in enumerate(visible):\n",
    "        table[i].append(v-1)\n",
    "    \n",
    "    available = [False if v+1 in visible else True for v in range(N)]\n",
    "        \n",
    "    configs = get_configs(N, table, available)\n",
    "    configs = [sorted(c) for c in configs]\n",
    "    configs = [c for c in configs if len(c[0]) > 1]\n",
    "    configs.sort()\n",
    "    configs = set([str(c) for c in configs])\n",
    "    \n",
    "    return len(configs), configs\n",
    "\n",
    "s, conf = arrangements(3, [2], 1)\n",
    "print(s)\n",
    "print(conf)"
   ]
  },
  {
   "cell_type": "code",
   "execution_count": 20,
   "id": "d42f5db6",
   "metadata": {},
   "outputs": [
    {
     "name": "stdout",
     "output_type": "stream",
     "text": [
      "255\n",
      "{'[[100, 6, 0], [100, 8, 7, 5, 4, 3, 2, 1]]', '[[100, 7, 6, 5, 3, 0], [100, 8, 4, 2, 1]]', '[[100, 7, 6, 5, 2], [100, 8, 4, 3, 1, 0]]', '[[100, 6, 5, 3, 2, 1, 0], [100, 8, 7, 4]]', '[[100, 5, 3, 1], [100, 8, 7, 6, 4, 2, 0]]', '[[100, 7, 5, 4, 1], [100, 8, 6, 3, 2, 0]]', '[[100, 6, 2, 1, 0], [100, 8, 7, 5, 4, 3]]', '[[100, 7, 6, 4, 2], [100, 8, 5, 3, 1, 0]]', '[[100, 7, 2, 1], [100, 8, 6, 5, 4, 3, 0]]', '[[100, 6, 4, 3, 2, 1, 0], [100, 8, 7, 5]]', '[[100, 6, 4, 3, 2], [100, 8, 7, 5, 1, 0]]', '[[100, 6, 3], [100, 8, 7, 5, 4, 2, 1, 0]]', '[[100, 7, 2, 1, 0], [100, 8, 6, 5, 4, 3]]', '[[100, 3, 2, 0], [100, 8, 7, 6, 5, 4, 1]]', '[[100, 7, 5, 3, 1, 0], [100, 8, 6, 4, 2]]', '[[100, 7, 6, 5], [100, 8, 4, 3, 2, 1, 0]]', '[[100, 7, 5, 4], [100, 8, 6, 3, 2, 1, 0]]', '[[100, 6, 4, 3, 0], [100, 8, 7, 5, 2, 1]]', '[[100, 7, 4], [100, 8, 6, 5, 3, 2, 1, 0]]', '[[100, 6, 5, 4, 1, 0], [100, 8, 7, 3, 2]]', '[[100, 7, 5, 1], [100, 8, 6, 4, 3, 2, 0]]', '[[100, 5, 2, 0], [100, 8, 7, 6, 4, 3, 1]]', '[[100, 7, 6, 3, 1], [100, 8, 5, 4, 2, 0]]', '[[100, 7, 4, 1, 0], [100, 8, 6, 5, 3, 2]]', '[[100, 3, 2], [100, 8, 7, 6, 5, 4, 1, 0]]', '[[100, 3, 2, 1, 0], [100, 8, 7, 6, 5, 4]]', '[[100, 6, 5, 1], [100, 8, 7, 4, 3, 2, 0]]', '[[100, 6, 5, 4, 3, 2, 1, 0], [100, 8, 7]]', '[[100, 7, 5, 4, 3, 2, 1], [100, 8, 6, 0]]', '[[100, 7, 6, 5, 1, 0], [100, 8, 4, 3, 2]]', '[[100, 7, 6, 5, 4, 3, 1], [100, 8, 2, 0]]', '[[100, 6, 3, 1, 0], [100, 8, 7, 5, 4, 2]]', '[[100, 5, 4, 3, 2, 0], [100, 8, 7, 6, 1]]', '[[100, 5, 4, 3, 1, 0], [100, 8, 7, 6, 2]]', '[[100, 6, 3, 1], [100, 8, 7, 5, 4, 2, 0]]', '[[100, 6, 4, 3], [100, 8, 7, 5, 2, 1, 0]]', '[[100, 6, 5, 3], [100, 8, 7, 4, 2, 1, 0]]', '[[100, 5, 2, 1, 0], [100, 8, 7, 6, 4, 3]]', '[[100, 5, 4, 1, 0], [100, 8, 7, 6, 3, 2]]', '[[100, 1, 0], [100, 8, 7, 6, 5, 4, 3, 2]]', '[[100, 6, 5, 4, 3, 1], [100, 8, 7, 2, 0]]', '[[100, 6, 5, 4, 3, 2, 0], [100, 8, 7, 1]]', '[[100, 5, 0], [100, 8, 7, 6, 4, 3, 2, 1]]', '[[100, 7, 4, 3, 0], [100, 8, 6, 5, 2, 1]]', '[[100, 7, 5, 2, 0], [100, 8, 6, 4, 3, 1]]', '[[100, 7, 6, 2], [100, 8, 5, 4, 3, 1, 0]]', '[[100, 7, 6, 4], [100, 8, 5, 3, 2, 1, 0]]', '[[100, 7, 6, 0], [100, 8, 5, 4, 3, 2, 1]]', '[[100, 7, 6, 5, 0], [100, 8, 4, 3, 2, 1]]', '[[100, 7, 5, 3, 2, 0], [100, 8, 6, 4, 1]]', '[[100, 6, 5, 3, 2], [100, 8, 7, 4, 1, 0]]', '[[100, 7, 5, 1, 0], [100, 8, 6, 4, 3, 2]]', '[[100, 7, 6, 5, 4, 2, 0], [100, 8, 3, 1]]', '[[100, 7, 6, 5, 2, 1], [100, 8, 4, 3, 0]]', '[[100, 7, 4, 3, 2, 1, 0], [100, 8, 6, 5]]', '[[100, 6, 3, 2, 0], [100, 8, 7, 5, 4, 1]]', '[[100, 7, 6, 5, 4, 3, 1, 0], [100, 8, 2]]', '[[100, 6, 5, 3, 1], [100, 8, 7, 4, 2, 0]]', '[[100, 5, 4, 1], [100, 8, 7, 6, 3, 2, 0]]', '[[100, 7, 3, 1, 0], [100, 8, 6, 5, 4, 2]]', '[[100, 6, 5, 4], [100, 8, 7, 3, 2, 1, 0]]', '[[100, 5, 4], [100, 8, 7, 6, 3, 2, 1, 0]]', '[[100, 4, 3, 0], [100, 8, 7, 6, 5, 2, 1]]', '[[100, 7, 6, 4, 3, 2, 0], [100, 8, 5, 1]]', '[[100, 5], [100, 8, 7, 6, 4, 3, 2, 1, 0]]', '[[100, 4, 3, 2, 1], [100, 8, 7, 6, 5, 0]]', '[[100, 6, 2], [100, 8, 7, 5, 4, 3, 1, 0]]', '[[100, 6, 5, 4, 0], [100, 8, 7, 3, 2, 1]]', '[[100, 7, 6, 5, 1], [100, 8, 4, 3, 2, 0]]', '[[100, 6, 5, 2], [100, 8, 7, 4, 3, 1, 0]]', '[[100, 6, 2, 1], [100, 8, 7, 5, 4, 3, 0]]', '[[100, 7, 6, 1, 0], [100, 8, 5, 4, 3, 2]]', '[[100, 7, 6, 5, 4, 3, 2, 0], [100, 8, 1]]', '[[100, 7, 5, 4, 2, 0], [100, 8, 6, 3, 1]]', '[[100, 6, 4, 1], [100, 8, 7, 5, 3, 2, 0]]', '[[100, 6, 5, 4, 3, 1, 0], [100, 8, 7, 2]]', '[[100, 5, 4, 0], [100, 8, 7, 6, 3, 2, 1]]', '[[100, 7, 4, 2, 0], [100, 8, 6, 5, 3, 1]]', '[[100, 7, 6, 5, 3], [100, 8, 4, 2, 1, 0]]', '[[100, 6, 4], [100, 8, 7, 5, 3, 2, 1, 0]]', '[[100, 6, 5, 3, 0], [100, 8, 7, 4, 2, 1]]', '[[100, 6, 5, 4, 3, 0], [100, 8, 7, 2, 1]]', '[[100, 3, 0], [100, 8, 7, 6, 5, 4, 2, 1]]', '[[100, 6, 5, 4, 3], [100, 8, 7, 2, 1, 0]]', '[[100, 7, 5, 4, 2, 1], [100, 8, 6, 3, 0]]', '[[100, 7, 5, 2], [100, 8, 6, 4, 3, 1, 0]]', '[[100, 5, 3], [100, 8, 7, 6, 4, 2, 1, 0]]', '[[100, 7, 6, 5, 4, 2, 1], [100, 8, 3, 0]]', '[[100, 7, 6, 5, 3, 2, 1], [100, 8, 4, 0]]', '[[100, 6, 5, 3, 2, 1], [100, 8, 7, 4, 0]]', '[[100, 4, 3], [100, 8, 7, 6, 5, 2, 1, 0]]', '[[100, 5, 4, 3, 2], [100, 8, 7, 6, 1, 0]]', '[[100, 7, 6], [100, 8, 5, 4, 3, 2, 1, 0]]', '[[100, 7, 6, 5, 4, 2, 1, 0], [100, 8, 3]]', '[[100, 6, 4, 3, 1], [100, 8, 7, 5, 2, 0]]', '[[100, 4], [100, 8, 7, 6, 5, 3, 2, 1, 0]]', '[[100, 7, 6, 5, 4, 3], [100, 8, 2, 1, 0]]', '[[100, 2, 0], [100, 8, 7, 6, 5, 4, 3, 1]]', '[[100, 4, 3, 2, 1, 0], [100, 8, 7, 6, 5]]', '[[100, 7, 6, 5, 4, 3, 2, 1, 0], [100, 8]]', '[[100, 2, 1, 0], [100, 8, 7, 6, 5, 4, 3]]', '[[100, 5, 1], [100, 8, 7, 6, 4, 3, 2, 0]]', '[[100, 7, 5, 3, 2, 1, 0], [100, 8, 6, 4]]', '[[100, 7, 4, 3, 1], [100, 8, 6, 5, 2, 0]]', '[[100, 7, 5, 3, 0], [100, 8, 6, 4, 2, 1]]', '[[100, 6, 5], [100, 8, 7, 4, 3, 2, 1, 0]]', '[[100, 7, 5, 4, 3, 0], [100, 8, 6, 2, 1]]', '[[100, 7, 4, 3], [100, 8, 6, 5, 2, 1, 0]]', '[[100, 7, 5, 2, 1], [100, 8, 6, 4, 3, 0]]', '[[100, 4, 3, 1, 0], [100, 8, 7, 6, 5, 2]]', '[[100, 5, 3, 1, 0], [100, 8, 7, 6, 4, 2]]', '[[100, 5, 3, 2, 1, 0], [100, 8, 7, 6, 4]]', '[[100, 1], [100, 8, 7, 6, 5, 4, 3, 2, 0]]', '[[100, 5, 4, 3, 2, 1], [100, 8, 7, 6, 0]]', '[[100, 7, 6, 4, 1], [100, 8, 5, 3, 2, 0]]', '[[100, 7, 6, 4, 2, 1, 0], [100, 8, 5, 3]]', '[[100, 5, 4, 3], [100, 8, 7, 6, 2, 1, 0]]', '[[100, 6, 1], [100, 8, 7, 5, 4, 3, 2, 0]]', '[[100, 6, 5, 2, 1, 0], [100, 8, 7, 4, 3]]', '[[100, 7, 6, 1], [100, 8, 5, 4, 3, 2, 0]]', '[[100, 2, 1], [100, 8, 7, 6, 5, 4, 3, 0]]', '[[100, 6, 5, 4, 1], [100, 8, 7, 3, 2, 0]]', '[[100, 3, 2, 1], [100, 8, 7, 6, 5, 4, 0]]', '[[100, 7, 6, 5, 4, 0], [100, 8, 3, 2, 1]]', '[[100, 7, 6, 4, 3, 2], [100, 8, 5, 1, 0]]', '[[100, 4, 1], [100, 8, 7, 6, 5, 3, 2, 0]]', '[[100, 6, 3, 2, 1, 0], [100, 8, 7, 5, 4]]', '[[100, 7, 6, 4, 3, 1], [100, 8, 5, 2, 0]]', '[[100, 4, 2, 0], [100, 8, 7, 6, 5, 3, 1]]', '[[100, 6, 5, 1, 0], [100, 8, 7, 4, 3, 2]]', '[[100, 7, 4, 1], [100, 8, 6, 5, 3, 2, 0]]', '[[100, 6, 4, 1, 0], [100, 8, 7, 5, 3, 2]]', '[[100, 7, 5, 2, 1, 0], [100, 8, 6, 4, 3]]', '[[100, 6, 4, 2, 1, 0], [100, 8, 7, 5, 3]]', '[[100, 6, 5, 4, 2, 1], [100, 8, 7, 3, 0]]', '[[100, 5, 3, 2], [100, 8, 7, 6, 4, 1, 0]]', '[[100, 7, 6, 5, 4, 1], [100, 8, 3, 2, 0]]', '[[100, 6, 3, 0], [100, 8, 7, 5, 4, 2, 1]]', '[[100, 4, 3, 2, 0], [100, 8, 7, 6, 5, 1]]', '[[100, 7, 3, 0], [100, 8, 6, 5, 4, 2, 1]]', '[[100, 4, 1, 0], [100, 8, 7, 6, 5, 3, 2]]', '[[100, 7], [100, 8, 6, 5, 4, 3, 2, 1, 0]]', '[[100, 7, 4, 2], [100, 8, 6, 5, 3, 1, 0]]', '[[100, 7, 5, 4, 0], [100, 8, 6, 3, 2, 1]]', '[[100, 6, 4, 0], [100, 8, 7, 5, 3, 2, 1]]', '[[100, 7, 6, 3, 2], [100, 8, 5, 4, 1, 0]]', '[[100, 7, 1], [100, 8, 6, 5, 4, 3, 2, 0]]', '[[100, 5, 3, 0], [100, 8, 7, 6, 4, 2, 1]]', '[[100, 7, 2], [100, 8, 6, 5, 4, 3, 1, 0]]', '[[100, 6, 5, 2, 0], [100, 8, 7, 4, 3, 1]]', '[[100, 7, 5, 4, 3, 1, 0], [100, 8, 6, 2]]', '[[100, 7, 6, 4, 3, 2, 1, 0], [100, 8, 5]]', '[[100, 7, 6, 3, 1, 0], [100, 8, 5, 4, 2]]', '[[100, 7, 6, 5, 3, 1], [100, 8, 4, 2, 0]]', '[[100, 7, 6, 5, 3, 1, 0], [100, 8, 4, 2]]', '[[100, 7, 5, 4, 3, 2, 1, 0], [100, 8, 6]]', '[[100, 5, 3, 2, 1], [100, 8, 7, 6, 4, 0]]', '[[100, 7, 4, 3, 2], [100, 8, 6, 5, 1, 0]]', '[[100, 7, 4, 0], [100, 8, 6, 5, 3, 2, 1]]', '[[100, 7, 6, 5, 4, 3, 2, 1], [100, 8, 0]]', '[[100, 5, 2, 1], [100, 8, 7, 6, 4, 3, 0]]', '[[100, 6, 5, 3, 2, 0], [100, 8, 7, 4, 1]]', '[[100, 7, 5, 4, 3, 2, 0], [100, 8, 6, 1]]', '[[100, 6, 3, 2, 1], [100, 8, 7, 5, 4, 0]]', '[[100, 7, 6, 3, 0], [100, 8, 5, 4, 2, 1]]', '[[100, 7, 5, 0], [100, 8, 6, 4, 3, 2, 1]]', '[[100, 7, 6, 4, 0], [100, 8, 5, 3, 2, 1]]', '[[100, 7, 5, 3, 2], [100, 8, 6, 4, 1, 0]]', '[[100, 7, 5, 4, 3], [100, 8, 6, 2, 1, 0]]', '[[100, 4, 3, 1], [100, 8, 7, 6, 5, 2, 0]]', '[[100, 3, 1, 0], [100, 8, 7, 6, 5, 4, 2]]', '[[100, 5, 4, 2, 0], [100, 8, 7, 6, 3, 1]]', '[[100, 6, 5, 4, 3, 2, 1], [100, 8, 7, 0]]', '[[100, 7, 6, 3, 2, 1], [100, 8, 5, 4, 0]]', '[[100, 7, 6, 5, 4], [100, 8, 3, 2, 1, 0]]', '[[100, 6, 3, 2], [100, 8, 7, 5, 4, 1, 0]]', '[[100, 6, 5, 0], [100, 8, 7, 4, 3, 2, 1]]', '[[100, 7, 6, 5, 3, 2], [100, 8, 4, 1, 0]]', '[[100, 3], [100, 8, 7, 6, 5, 4, 2, 1, 0]]', '[[100, 4, 2, 1, 0], [100, 8, 7, 6, 5, 3]]', '[[100, 6, 2, 0], [100, 8, 7, 5, 4, 3, 1]]', '[[100, 4, 0], [100, 8, 7, 6, 5, 3, 2, 1]]', '[[100, 4, 3, 2], [100, 8, 7, 6, 5, 1, 0]]', '[[100, 3, 1], [100, 8, 7, 6, 5, 4, 2, 0]]', '[[100, 6, 4, 2], [100, 8, 7, 5, 3, 1, 0]]', '[[100, 7, 5, 4, 2, 1, 0], [100, 8, 6, 3]]', '[[100, 7, 6, 2, 1, 0], [100, 8, 5, 4, 3]]', '[[100, 7, 6, 5, 3, 2, 1, 0], [100, 8, 4]]', '[[100, 7, 5], [100, 8, 6, 4, 3, 2, 1, 0]]', '[[100, 7, 6, 4, 2, 1], [100, 8, 5, 3, 0]]', '[[100, 7, 6, 3, 2, 1, 0], [100, 8, 5, 4]]', '[[100, 6, 1, 0], [100, 8, 7, 5, 4, 3, 2]]', '[[100, 7, 1, 0], [100, 8, 6, 5, 4, 3, 2]]', '[[100, 7, 6, 4, 1, 0], [100, 8, 5, 3, 2]]', '[[100, 7, 5, 4, 3, 1], [100, 8, 6, 2, 0]]', '[[100, 4, 2], [100, 8, 7, 6, 5, 3, 1, 0]]', '[[100, 5, 4, 3, 2, 1, 0], [100, 8, 7, 6]]', '[[100, 6, 4, 3, 1, 0], [100, 8, 7, 5, 2]]', '[[100, 7, 3, 1], [100, 8, 6, 5, 4, 2, 0]]', '[[100, 5, 4, 3, 1], [100, 8, 7, 6, 2, 0]]', '[[100, 6, 4, 2, 0], [100, 8, 7, 5, 3, 1]]', '[[100, 5, 4, 2, 1, 0], [100, 8, 7, 6, 3]]', '[[100, 7, 6, 4, 3, 1, 0], [100, 8, 5, 2]]', '[[100, 6, 4, 2, 1], [100, 8, 7, 5, 3, 0]]', '[[100, 7, 3, 2, 1], [100, 8, 6, 5, 4, 0]]', '[[100, 6, 4, 3, 2, 1], [100, 8, 7, 5, 0]]', '[[100, 7, 6, 5, 2, 0], [100, 8, 4, 3, 1]]', '[[100, 7, 6, 5, 4, 1, 0], [100, 8, 3, 2]]', '[[100, 6, 5, 2, 1], [100, 8, 7, 4, 3, 0]]', '[[100, 6, 5, 4, 2, 0], [100, 8, 7, 3, 1]]', '[[100, 7, 3, 2, 1, 0], [100, 8, 6, 5, 4]]', '[[100, 7, 4, 2, 1], [100, 8, 6, 5, 3, 0]]', '[[100, 7, 6, 2, 1], [100, 8, 5, 4, 3, 0]]', '[[100, 7, 6, 5, 3, 2, 0], [100, 8, 4, 1]]', '[[100, 5, 1, 0], [100, 8, 7, 6, 4, 3, 2]]', '[[100, 2], [100, 8, 7, 6, 5, 4, 3, 1, 0]]', '[[100, 5, 4, 2], [100, 8, 7, 6, 3, 1, 0]]', '[[100, 7, 2, 0], [100, 8, 6, 5, 4, 3, 1]]', '[[100, 7, 4, 3, 2, 0], [100, 8, 6, 5, 1]]', '[[100, 7, 4, 3, 2, 1], [100, 8, 6, 5, 0]]', '[[100, 0], [100, 8, 7, 6, 5, 4, 3, 2, 1]]', '[[100, 7, 6, 2, 0], [100, 8, 5, 4, 3, 1]]', '[[100, 6, 5, 3, 1, 0], [100, 8, 7, 4, 2]]', '[[100, 6, 5, 4, 3, 2], [100, 8, 7, 1, 0]]', '[[100, 7, 6, 5, 4, 2], [100, 8, 3, 1, 0]]', '[[100, 7, 6, 5, 4, 3, 0], [100, 8, 2, 1]]', '[[100, 7, 3], [100, 8, 6, 5, 4, 2, 1, 0]]', '[[100, 5, 4, 3, 0], [100, 8, 7, 6, 2, 1]]', '[[100, 7, 6, 4, 3], [100, 8, 5, 2, 1, 0]]', '[[100, 7, 6, 4, 3, 0], [100, 8, 5, 2, 1]]', '[[100, 6, 5, 4, 2, 1, 0], [100, 8, 7, 3]]', '[[100, 7, 5, 3], [100, 8, 6, 4, 2, 1, 0]]', '[[100, 5, 4, 2, 1], [100, 8, 7, 6, 3, 0]]', '[[100, 7, 4, 2, 1, 0], [100, 8, 6, 5, 3]]', '[[100, 7, 5, 3, 1], [100, 8, 6, 4, 2, 0]]', '[[100, 7, 6, 3, 2, 0], [100, 8, 5, 4, 1]]', '[[100, 7, 6, 4, 3, 2, 1], [100, 8, 5, 0]]', '[[100, 7, 3, 2], [100, 8, 6, 5, 4, 1, 0]]', '[[100, 7, 3, 2, 0], [100, 8, 6, 5, 4, 1]]', '[[100, 6], [100, 8, 7, 5, 4, 3, 2, 1, 0]]', '[[100, 7, 4, 3, 1, 0], [100, 8, 6, 5, 2]]', '[[100, 7, 5, 3, 2, 1], [100, 8, 6, 4, 0]]', '[[100, 6, 5, 4, 2], [100, 8, 7, 3, 1, 0]]', '[[100, 7, 5, 4, 2], [100, 8, 6, 3, 1, 0]]', '[[100, 7, 6, 5, 2, 1, 0], [100, 8, 4, 3]]', '[[100, 7, 0], [100, 8, 6, 5, 4, 3, 2, 1]]', '[[100, 5, 2], [100, 8, 7, 6, 4, 3, 1, 0]]', '[[100, 7, 5, 4, 3, 2], [100, 8, 6, 1, 0]]', '[[100, 7, 6, 3], [100, 8, 5, 4, 2, 1, 0]]', '[[100, 7, 6, 5, 4, 3, 2], [100, 8, 1, 0]]', '[[100, 7, 5, 4, 1, 0], [100, 8, 6, 3, 2]]', '[[100, 6, 4, 3, 2, 0], [100, 8, 7, 5, 1]]', '[[100, 5, 3, 2, 0], [100, 8, 7, 6, 4, 1]]', '[[100, 7, 6, 4, 2, 0], [100, 8, 5, 3, 1]]', '[[100, 4, 2, 1], [100, 8, 7, 6, 5, 3, 0]]'}\n"
     ]
    }
   ],
   "source": [
    "s, conf = arrangements(9, [9], 1)\n",
    "print(s)\n",
    "print(conf)"
   ]
  },
  {
   "cell_type": "markdown",
   "id": "71d1d0d9",
   "metadata": {
    "execution_time": [
     1665466168843
    ]
   },
   "source": [
    "Nice, Let me summarize the final implementation and tests. "
   ]
  },
  {
   "cell_type": "code",
   "execution_count": 21,
   "id": "4c8d89ca",
   "metadata": {},
   "outputs": [
    {
     "name": "stdout",
     "output_type": "stream",
     "text": [
      "done\n"
     ]
    }
   ],
   "source": [
    "def get_configs(N, table, available):\n",
    "    \n",
    "    if sum(available) == 0:\n",
    "        return [copy.deepcopy(table)]\n",
    "    \n",
    "    table_list = []\n",
    "    \n",
    "    last = len(available) - 1 - available[::-1].index(True)\n",
    "    available = copy.deepcopy(available)\n",
    "    available[last] = False\n",
    "    \n",
    "    for i in range(len(table)):\n",
    "        if min(table[i]) > last:\n",
    "            t = copy.deepcopy(table)\n",
    "            a = copy.deepcopy(available)\n",
    "            t[i].append(last)\n",
    "            table_list += get_configs(N, t, a)\n",
    "            \n",
    "    return table_list\n",
    "\n",
    "def arrangements(N: int, visible: List[int], hidden: int) -> int:\n",
    "    #representation of the table\n",
    "    table = [[100] for i in range(len(visible))]+[[100] for i in range(hidden)]\n",
    "    for i, v in enumerate(visible):\n",
    "        table[i].append(v-1)\n",
    "    \n",
    "    available = [False if v+1 in visible else True for v in range(N)]\n",
    "        \n",
    "    configs = get_configs(N, table, available)\n",
    "    configs = [sorted(c) for c in configs]\n",
    "    configs = [c for c in configs if len(c[0]) > 1]\n",
    "    configs.sort()\n",
    "    configs = set([str(c) for c in configs])\n",
    "    \n",
    "    return len(configs)\n",
    "\n",
    "assert arrangements(3, {}, 2) == 3\n",
    "assert arrangements(3, {2}, 1) == 2\n",
    "assert arrangements(9, {9}, 1) == 255\n",
    "print('done')"
   ]
  },
  {
   "cell_type": "markdown",
   "id": "c167c7e3",
   "metadata": {
    "execution_time": [
     1665465183656,
     1665466180783
    ]
   },
   "source": [
    "Accoding to the prompt, the result should be smaller than 263-1.\n",
    "Therefore I do not expect that my algorithm will be able to solve the last example."
   ]
  },
  {
   "cell_type": "code",
   "execution_count": 22,
   "id": "d3a5b5a6",
   "metadata": {},
   "outputs": [
    {
     "ename": "KeyboardInterrupt",
     "evalue": "",
     "output_type": "error",
     "traceback": [
      "\u001b[0;31m---------------------------------------------------------------------------\u001b[0m",
      "\u001b[0;31mKeyboardInterrupt\u001b[0m                         Traceback (most recent call last)",
      "Cell \u001b[0;32mIn [22], line 4\u001b[0m\n\u001b[1;32m      1\u001b[0m \u001b[38;5;28;01mfrom\u001b[39;00m \u001b[38;5;21;01mdatetime\u001b[39;00m \u001b[38;5;28;01mimport\u001b[39;00m datetime\n\u001b[1;32m      3\u001b[0m t1 \u001b[38;5;241m=\u001b[39m datetime\u001b[38;5;241m.\u001b[39mnow()\n\u001b[0;32m----> 4\u001b[0m \u001b[38;5;28mprint\u001b[39m(\u001b[43marrangements\u001b[49m\u001b[43m(\u001b[49m\u001b[38;5;241;43m20\u001b[39;49m\u001b[43m,\u001b[49m\u001b[43m \u001b[49m\u001b[43m{\u001b[49m\u001b[38;5;241;43m13\u001b[39;49m\u001b[43m,\u001b[49m\u001b[38;5;241;43m5\u001b[39;49m\u001b[43m,\u001b[49m\u001b[38;5;241;43m2\u001b[39;49m\u001b[43m,\u001b[49m\u001b[38;5;241;43m18\u001b[39;49m\u001b[43m}\u001b[49m\u001b[43m,\u001b[49m\u001b[43m \u001b[49m\u001b[38;5;241;43m3\u001b[39;49m\u001b[43m)\u001b[49m)\n\u001b[1;32m      5\u001b[0m t2 \u001b[38;5;241m=\u001b[39m datetime\u001b[38;5;241m.\u001b[39mnow()\n\u001b[1;32m      6\u001b[0m \u001b[38;5;28mprint\u001b[39m(t2, t1)\n",
      "Cell \u001b[0;32mIn [21], line 29\u001b[0m, in \u001b[0;36marrangements\u001b[0;34m(N, visible, hidden)\u001b[0m\n\u001b[1;32m     25\u001b[0m     table[i]\u001b[38;5;241m.\u001b[39mappend(v\u001b[38;5;241m-\u001b[39m\u001b[38;5;241m1\u001b[39m)\n\u001b[1;32m     27\u001b[0m available \u001b[38;5;241m=\u001b[39m [\u001b[38;5;28;01mFalse\u001b[39;00m \u001b[38;5;28;01mif\u001b[39;00m v\u001b[38;5;241m+\u001b[39m\u001b[38;5;241m1\u001b[39m \u001b[38;5;129;01min\u001b[39;00m visible \u001b[38;5;28;01melse\u001b[39;00m \u001b[38;5;28;01mTrue\u001b[39;00m \u001b[38;5;28;01mfor\u001b[39;00m v \u001b[38;5;129;01min\u001b[39;00m \u001b[38;5;28mrange\u001b[39m(N)]\n\u001b[0;32m---> 29\u001b[0m configs \u001b[38;5;241m=\u001b[39m \u001b[43mget_configs\u001b[49m\u001b[43m(\u001b[49m\u001b[43mN\u001b[49m\u001b[43m,\u001b[49m\u001b[43m \u001b[49m\u001b[43mtable\u001b[49m\u001b[43m,\u001b[49m\u001b[43m \u001b[49m\u001b[43mavailable\u001b[49m\u001b[43m)\u001b[49m\n\u001b[1;32m     30\u001b[0m configs \u001b[38;5;241m=\u001b[39m [\u001b[38;5;28msorted\u001b[39m(c) \u001b[38;5;28;01mfor\u001b[39;00m c \u001b[38;5;129;01min\u001b[39;00m configs]\n\u001b[1;32m     31\u001b[0m configs \u001b[38;5;241m=\u001b[39m [c \u001b[38;5;28;01mfor\u001b[39;00m c \u001b[38;5;129;01min\u001b[39;00m configs \u001b[38;5;28;01mif\u001b[39;00m \u001b[38;5;28mlen\u001b[39m(c[\u001b[38;5;241m0\u001b[39m]) \u001b[38;5;241m>\u001b[39m \u001b[38;5;241m1\u001b[39m]\n",
      "Cell \u001b[0;32mIn [21], line 17\u001b[0m, in \u001b[0;36mget_configs\u001b[0;34m(N, table, available)\u001b[0m\n\u001b[1;32m     15\u001b[0m         a \u001b[38;5;241m=\u001b[39m copy\u001b[38;5;241m.\u001b[39mdeepcopy(available)\n\u001b[1;32m     16\u001b[0m         t[i]\u001b[38;5;241m.\u001b[39mappend(last)\n\u001b[0;32m---> 17\u001b[0m         table_list \u001b[38;5;241m+\u001b[39m\u001b[38;5;241m=\u001b[39m \u001b[43mget_configs\u001b[49m\u001b[43m(\u001b[49m\u001b[43mN\u001b[49m\u001b[43m,\u001b[49m\u001b[43m \u001b[49m\u001b[43mt\u001b[49m\u001b[43m,\u001b[49m\u001b[43m \u001b[49m\u001b[43ma\u001b[49m\u001b[43m)\u001b[49m\n\u001b[1;32m     19\u001b[0m \u001b[38;5;28;01mreturn\u001b[39;00m table_list\n",
      "Cell \u001b[0;32mIn [21], line 17\u001b[0m, in \u001b[0;36mget_configs\u001b[0;34m(N, table, available)\u001b[0m\n\u001b[1;32m     15\u001b[0m         a \u001b[38;5;241m=\u001b[39m copy\u001b[38;5;241m.\u001b[39mdeepcopy(available)\n\u001b[1;32m     16\u001b[0m         t[i]\u001b[38;5;241m.\u001b[39mappend(last)\n\u001b[0;32m---> 17\u001b[0m         table_list \u001b[38;5;241m+\u001b[39m\u001b[38;5;241m=\u001b[39m \u001b[43mget_configs\u001b[49m\u001b[43m(\u001b[49m\u001b[43mN\u001b[49m\u001b[43m,\u001b[49m\u001b[43m \u001b[49m\u001b[43mt\u001b[49m\u001b[43m,\u001b[49m\u001b[43m \u001b[49m\u001b[43ma\u001b[49m\u001b[43m)\u001b[49m\n\u001b[1;32m     19\u001b[0m \u001b[38;5;28;01mreturn\u001b[39;00m table_list\n",
      "    \u001b[0;31m[... skipping similar frames: get_configs at line 17 (13 times)]\u001b[0m\n",
      "Cell \u001b[0;32mIn [21], line 17\u001b[0m, in \u001b[0;36mget_configs\u001b[0;34m(N, table, available)\u001b[0m\n\u001b[1;32m     15\u001b[0m         a \u001b[38;5;241m=\u001b[39m copy\u001b[38;5;241m.\u001b[39mdeepcopy(available)\n\u001b[1;32m     16\u001b[0m         t[i]\u001b[38;5;241m.\u001b[39mappend(last)\n\u001b[0;32m---> 17\u001b[0m         table_list \u001b[38;5;241m+\u001b[39m\u001b[38;5;241m=\u001b[39m \u001b[43mget_configs\u001b[49m\u001b[43m(\u001b[49m\u001b[43mN\u001b[49m\u001b[43m,\u001b[49m\u001b[43m \u001b[49m\u001b[43mt\u001b[49m\u001b[43m,\u001b[49m\u001b[43m \u001b[49m\u001b[43ma\u001b[49m\u001b[43m)\u001b[49m\n\u001b[1;32m     19\u001b[0m \u001b[38;5;28;01mreturn\u001b[39;00m table_list\n",
      "Cell \u001b[0;32mIn [21], line 4\u001b[0m, in \u001b[0;36mget_configs\u001b[0;34m(N, table, available)\u001b[0m\n\u001b[1;32m      1\u001b[0m \u001b[38;5;28;01mdef\u001b[39;00m \u001b[38;5;21mget_configs\u001b[39m(N, table, available):\n\u001b[1;32m      3\u001b[0m     \u001b[38;5;28;01mif\u001b[39;00m \u001b[38;5;28msum\u001b[39m(available) \u001b[38;5;241m==\u001b[39m \u001b[38;5;241m0\u001b[39m:\n\u001b[0;32m----> 4\u001b[0m         \u001b[38;5;28;01mreturn\u001b[39;00m [\u001b[43mcopy\u001b[49m\u001b[38;5;241;43m.\u001b[39;49m\u001b[43mdeepcopy\u001b[49m\u001b[43m(\u001b[49m\u001b[43mtable\u001b[49m\u001b[43m)\u001b[49m]\n\u001b[1;32m      6\u001b[0m     table_list \u001b[38;5;241m=\u001b[39m []\n\u001b[1;32m      8\u001b[0m     last \u001b[38;5;241m=\u001b[39m \u001b[38;5;28mlen\u001b[39m(available) \u001b[38;5;241m-\u001b[39m \u001b[38;5;241m1\u001b[39m \u001b[38;5;241m-\u001b[39m available[::\u001b[38;5;241m-\u001b[39m\u001b[38;5;241m1\u001b[39m]\u001b[38;5;241m.\u001b[39mindex(\u001b[38;5;28;01mTrue\u001b[39;00m)\n",
      "File \u001b[0;32m/usr/local/lib/python3.9/copy.py:146\u001b[0m, in \u001b[0;36mdeepcopy\u001b[0;34m(x, memo, _nil)\u001b[0m\n\u001b[1;32m    144\u001b[0m copier \u001b[38;5;241m=\u001b[39m _deepcopy_dispatch\u001b[38;5;241m.\u001b[39mget(\u001b[38;5;28mcls\u001b[39m)\n\u001b[1;32m    145\u001b[0m \u001b[38;5;28;01mif\u001b[39;00m copier \u001b[38;5;129;01mis\u001b[39;00m \u001b[38;5;129;01mnot\u001b[39;00m \u001b[38;5;28;01mNone\u001b[39;00m:\n\u001b[0;32m--> 146\u001b[0m     y \u001b[38;5;241m=\u001b[39m \u001b[43mcopier\u001b[49m\u001b[43m(\u001b[49m\u001b[43mx\u001b[49m\u001b[43m,\u001b[49m\u001b[43m \u001b[49m\u001b[43mmemo\u001b[49m\u001b[43m)\u001b[49m\n\u001b[1;32m    147\u001b[0m \u001b[38;5;28;01melse\u001b[39;00m:\n\u001b[1;32m    148\u001b[0m     \u001b[38;5;28;01mif\u001b[39;00m \u001b[38;5;28missubclass\u001b[39m(\u001b[38;5;28mcls\u001b[39m, \u001b[38;5;28mtype\u001b[39m):\n",
      "File \u001b[0;32m/usr/local/lib/python3.9/copy.py:205\u001b[0m, in \u001b[0;36m_deepcopy_list\u001b[0;34m(x, memo, deepcopy)\u001b[0m\n\u001b[1;32m    203\u001b[0m append \u001b[38;5;241m=\u001b[39m y\u001b[38;5;241m.\u001b[39mappend\n\u001b[1;32m    204\u001b[0m \u001b[38;5;28;01mfor\u001b[39;00m a \u001b[38;5;129;01min\u001b[39;00m x:\n\u001b[0;32m--> 205\u001b[0m     append(\u001b[43mdeepcopy\u001b[49m\u001b[43m(\u001b[49m\u001b[43ma\u001b[49m\u001b[43m,\u001b[49m\u001b[43m \u001b[49m\u001b[43mmemo\u001b[49m\u001b[43m)\u001b[49m)\n\u001b[1;32m    206\u001b[0m \u001b[38;5;28;01mreturn\u001b[39;00m y\n",
      "File \u001b[0;32m/usr/local/lib/python3.9/copy.py:146\u001b[0m, in \u001b[0;36mdeepcopy\u001b[0;34m(x, memo, _nil)\u001b[0m\n\u001b[1;32m    144\u001b[0m copier \u001b[38;5;241m=\u001b[39m _deepcopy_dispatch\u001b[38;5;241m.\u001b[39mget(\u001b[38;5;28mcls\u001b[39m)\n\u001b[1;32m    145\u001b[0m \u001b[38;5;28;01mif\u001b[39;00m copier \u001b[38;5;129;01mis\u001b[39;00m \u001b[38;5;129;01mnot\u001b[39;00m \u001b[38;5;28;01mNone\u001b[39;00m:\n\u001b[0;32m--> 146\u001b[0m     y \u001b[38;5;241m=\u001b[39m \u001b[43mcopier\u001b[49m\u001b[43m(\u001b[49m\u001b[43mx\u001b[49m\u001b[43m,\u001b[49m\u001b[43m \u001b[49m\u001b[43mmemo\u001b[49m\u001b[43m)\u001b[49m\n\u001b[1;32m    147\u001b[0m \u001b[38;5;28;01melse\u001b[39;00m:\n\u001b[1;32m    148\u001b[0m     \u001b[38;5;28;01mif\u001b[39;00m \u001b[38;5;28missubclass\u001b[39m(\u001b[38;5;28mcls\u001b[39m, \u001b[38;5;28mtype\u001b[39m):\n",
      "File \u001b[0;32m/usr/local/lib/python3.9/copy.py:205\u001b[0m, in \u001b[0;36m_deepcopy_list\u001b[0;34m(x, memo, deepcopy)\u001b[0m\n\u001b[1;32m    203\u001b[0m append \u001b[38;5;241m=\u001b[39m y\u001b[38;5;241m.\u001b[39mappend\n\u001b[1;32m    204\u001b[0m \u001b[38;5;28;01mfor\u001b[39;00m a \u001b[38;5;129;01min\u001b[39;00m x:\n\u001b[0;32m--> 205\u001b[0m     append(\u001b[43mdeepcopy\u001b[49m\u001b[43m(\u001b[49m\u001b[43ma\u001b[49m\u001b[43m,\u001b[49m\u001b[43m \u001b[49m\u001b[43mmemo\u001b[49m\u001b[43m)\u001b[49m)\n\u001b[1;32m    206\u001b[0m \u001b[38;5;28;01mreturn\u001b[39;00m y\n",
      "File \u001b[0;32m/usr/local/lib/python3.9/copy.py:146\u001b[0m, in \u001b[0;36mdeepcopy\u001b[0;34m(x, memo, _nil)\u001b[0m\n\u001b[1;32m    144\u001b[0m copier \u001b[38;5;241m=\u001b[39m _deepcopy_dispatch\u001b[38;5;241m.\u001b[39mget(\u001b[38;5;28mcls\u001b[39m)\n\u001b[1;32m    145\u001b[0m \u001b[38;5;28;01mif\u001b[39;00m copier \u001b[38;5;129;01mis\u001b[39;00m \u001b[38;5;129;01mnot\u001b[39;00m \u001b[38;5;28;01mNone\u001b[39;00m:\n\u001b[0;32m--> 146\u001b[0m     y \u001b[38;5;241m=\u001b[39m \u001b[43mcopier\u001b[49m\u001b[43m(\u001b[49m\u001b[43mx\u001b[49m\u001b[43m,\u001b[49m\u001b[43m \u001b[49m\u001b[43mmemo\u001b[49m\u001b[43m)\u001b[49m\n\u001b[1;32m    147\u001b[0m \u001b[38;5;28;01melse\u001b[39;00m:\n\u001b[1;32m    148\u001b[0m     \u001b[38;5;28;01mif\u001b[39;00m \u001b[38;5;28missubclass\u001b[39m(\u001b[38;5;28mcls\u001b[39m, \u001b[38;5;28mtype\u001b[39m):\n",
      "File \u001b[0;32m/usr/local/lib/python3.9/copy.py:182\u001b[0m, in \u001b[0;36m_deepcopy_atomic\u001b[0;34m(x, memo)\u001b[0m\n\u001b[1;32m    178\u001b[0m     \u001b[38;5;28;01mreturn\u001b[39;00m y\n\u001b[1;32m    180\u001b[0m _deepcopy_dispatch \u001b[38;5;241m=\u001b[39m d \u001b[38;5;241m=\u001b[39m {}\n\u001b[0;32m--> 182\u001b[0m \u001b[38;5;28;01mdef\u001b[39;00m \u001b[38;5;21m_deepcopy_atomic\u001b[39m(x, memo):\n\u001b[1;32m    183\u001b[0m     \u001b[38;5;28;01mreturn\u001b[39;00m x\n\u001b[1;32m    184\u001b[0m d[\u001b[38;5;28mtype\u001b[39m(\u001b[38;5;28;01mNone\u001b[39;00m)] \u001b[38;5;241m=\u001b[39m _deepcopy_atomic\n",
      "\u001b[0;31mKeyboardInterrupt\u001b[0m: "
     ]
    }
   ],
   "source": [
    "from datetime import datetime\n",
    "\n",
    "t1 = datetime.now()\n",
    "print(arrangements(20, {13,5,2,18}, 3))\n",
    "t2 = datetime.now()\n",
    "print(t2, t1)"
   ]
  },
  {
   "cell_type": "code",
   "execution_count": null,
   "id": "e5892669",
   "metadata": {},
   "outputs": [],
   "source": []
  }
 ],
 "metadata": {
  "kernelspec": {
   "display_name": "Python 3 (ipykernel)",
   "language": "python",
   "name": "python3"
  },
  "language_info": {
   "codemirror_mode": {
    "name": "ipython",
    "version": 3
   },
   "file_extension": ".py",
   "mimetype": "text/x-python",
   "name": "python",
   "nbconvert_exporter": "python",
   "pygments_lexer": "ipython3",
   "version": "3.9.13"
  }
 },
 "nbformat": 4,
 "nbformat_minor": 5
}
