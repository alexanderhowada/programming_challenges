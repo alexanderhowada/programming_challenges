{
 "cells": [
  {
   "cell_type": "markdown",
   "id": "732122f5",
   "metadata": {
    "execution_time": [
     1664940816070,
     1665552178819,
     1665553279392
    ],
    "special_cell_type": "prompt_instructions"
   },
   "source": [
    "# Coding Exercise\n",
    "\n",
    "You must correctly implement the function described in the prompt below.\n",
    "\n",
    "Feel free to test out pieces of code to help you write the solution.\n",
    "\n",
    "Please thoroughly test that the final code implements the function correctly."
   ]
  },
  {
   "cell_type": "markdown",
   "id": "673f64c0",
   "metadata": {
    "execution_time": [
     1664940816236,
     1665552179030,
     1665553279392,
     1665554747862,
     1665555309687
    ],
    "special_cell_type": "prompt_task"
   },
   "source": [
    "## Prompt\n",
    "\n",
    "**Function signature:** `decompose(s: str, A: List[str]) -> int`\n",
    "\n",
    "    Little Bonnie and her friends were dismayed to learn that their parents were reading all of their private communications.  They decided to invent a new language that would allow them to talk freely.  What they finally came up with was a language where sentences are built using a special method. \n",
    "\n",
    "    All the valid words that can be used in the new language are given in the String[] validWords.  A sentence is a concatenation (with no spaces) of a sequence of valid words.  Each valid word can appear 0 or more times in the sentence.  What makes the language special is that each word can be transformed by rearranging its letters before being used.  The cost to transform a word is defined as the number of character positions where the original word and the transformed word differ.  For example, \"abc\" can be transformed to \"abc\" with a cost of 0, to \"acb\", \"cba\" or \"bac\" with a cost of 2, and to \"bca\" or \"cab\" with a cost of 3. \n",
    "\n",
    "    Although several different sequences of valid words can produce the same sentence in this language, only the sequence with the least total transformation cost carries the meaning of the sentence.  The advantage of the new language is that the parents can no longer understand what the kids are saying.  The disadvantage is that the kids themselves also do not understand.  They need your help. \n",
    "\n",
    "    Given a String sentence, return the total cost of transformation of the sequence of valid words which carries the meaning of the sentence, or -1 if no such sequence exists.\n",
    "    Notes\n",
    "    -If a word is used multiple times in a sentence, each occurrence can be transformed differently.\n",
    " \n",
    "    Constraints\n",
    "    -sentence will contain between 1 and 50 lowercase letters ('a'-'z'), inclusive.\n",
    "    -validWords will contain between 1 and 50 elements, inclusive.\n",
    "    -Each element of validWords will contain between 1 and 50 lowercase letters ('a'-'z'), inclusive.\n",
    " \n",
    "    Examples\n",
    "    0)\n",
    "        \"neotowheret\"\n",
    "    {\"one\", \"two\", \"three\", \"there\"}\n",
    "\n",
    "    Returns: 8\n",
    "    The following transformations can be made:\n",
    "\n",
    "    \"one\" -> \"neo\" with a cost of 3 \n",
    "    \"two\" -> \"tow\" with a cost of 2 \n",
    "    \"three\" -> \"heret\" with a cost of 3 \n",
    "    \"there\" -> \"heret\" with a cost of 5 \n",
    "\n",
    "    So the sequence {\"one\", \"two\", \"three\"} is the one carrying the meaning of \"neotowheret\". Its total transformation cost is 3 + 2 + 3 = 8.\n",
    "\n",
    "    1)\n",
    "        \"abba\"\n",
    "    {\"ab\", \"ac\", \"ad\"}\n",
    "\n",
    "    Returns: 2\n",
    "    The word \"ab\" is used twice, and each time, it is transformed differently.\n",
    "\n",
    "    2)\n",
    "        \"thisismeaningless\"\n",
    "    {\"this\", \"is\", \"meaningful\"}\n",
    "\n",
    "    Returns: -1\n",
    "\n",
    "    3)\n",
    "        \"ommwreehisymkiml\"\n",
    "    {\"we\", \"were\", \"here\", \"my\", \"is\", \"mom\", \"here\", \"si\", \"milk\", \"where\", \"si\"}\n",
    "\n",
    "    Returns: 10\n",
    "\n",
    "    4)\n",
    "        \"ogodtsneeencs\"\n",
    "    {\"go\", \"good\", \"do\", \"sentences\", \"tense\", \"scen\"}\n",
    "\n",
    "    Returns: 8\n",
    "\n",
    "    5)\n",
    "        \"sepawaterords\"\n",
    "    {\"separate\",\"words\"}\n",
    "\n",
    "    Returns: -1\n",
    "    You are only allowed to rearrange letters within words, and not in the entire sentence.\n",
    "\n",
    "    "
   ]
  },
  {
   "cell_type": "markdown",
   "id": "1ea00037",
   "metadata": {
    "execution_time": [
     1664941227800,
     1664943108468,
     1665552179426,
     1665553279392,
     1665554748073,
     1665555310020
    ]
   },
   "source": [
    " After spending some time thinking, I believe that the best approach is to solve this problem recursively by dividing the initial string $s$ in a left and a right part.\n",
    " The left part will have size <code> len(A[i]) </code>, where $i$ is the $i$-th valid word, and the right part will be the remaining.\n",
    " \n",
    " First I will implement a function to return the cost for two strings s1 and s2. The cost will be -1 if we cannot mutate a string into the other."
   ]
  },
  {
   "cell_type": "code",
   "execution_count": 1,
   "id": "5557dabf",
   "metadata": {},
   "outputs": [
    {
     "data": {
      "text/plain": [
       "3"
      ]
     },
     "execution_count": 1,
     "metadata": {},
     "output_type": "execute_result"
    }
   ],
   "source": [
    "def cost(s1, s2):\n",
    "    s1 = list(s1)\n",
    "    s2 = list(s2)\n",
    "    \n",
    "    c = sum([ a == b for a, b in zip(s1, s2) ])\n",
    "    \n",
    "    if s1.sort() == s2.sort():\n",
    "        return c\n",
    "    else:\n",
    "        return -1\n",
    "    \n",
    "cost('aaa', 'aaa')"
   ]
  },
  {
   "cell_type": "markdown",
   "id": "916dbd28",
   "metadata": {
    "execution_time": [
     1664941424585,
     1664943128926,
     1665552180667,
     1665553279396,
     1665553349813,
     1665554748682,
     1665555310959
    ]
   },
   "source": [
    "The cost should be 0. We should sum if a != b instead of a == b"
   ]
  },
  {
   "cell_type": "code",
   "execution_count": 2,
   "id": "17e64e55",
   "metadata": {},
   "outputs": [
    {
     "data": {
      "text/plain": [
       "0"
      ]
     },
     "execution_count": 2,
     "metadata": {},
     "output_type": "execute_result"
    }
   ],
   "source": [
    "def cost(s1, s2):\n",
    "    s1 = list(s1)\n",
    "    s2 = list(s2)\n",
    "    \n",
    "    c = sum([ a != b for a, b in zip(s1, s2) ])\n",
    "    \n",
    "    if s1.sort() == s2.sort():\n",
    "        return c\n",
    "    else:\n",
    "        return -1\n",
    "    \n",
    "cost('aaa', 'aaa')"
   ]
  },
  {
   "cell_type": "code",
   "execution_count": 3,
   "id": "549b72a8",
   "metadata": {},
   "outputs": [
    {
     "data": {
      "text/plain": [
       "1"
      ]
     },
     "execution_count": 3,
     "metadata": {},
     "output_type": "execute_result"
    }
   ],
   "source": [
    "cost('aaa', 'aab')"
   ]
  },
  {
   "cell_type": "code",
   "execution_count": 4,
   "id": "fd8ca926",
   "metadata": {},
   "outputs": [
    {
     "name": "stdout",
     "output_type": "stream",
     "text": [
      "None\n",
      "None\n"
     ]
    }
   ],
   "source": [
    "s1 = list('aaa').sort()\n",
    "s2 = list('aab').sort()\n",
    "print(s1)\n",
    "print(s2)"
   ]
  },
  {
   "cell_type": "markdown",
   "id": "bc54becd",
   "metadata": {
    "execution_time": [
     1664941548456,
     1664941635974,
     1665552182142,
     1665553279408,
     1665553352714,
     1665554749355,
     1665555313153
    ]
   },
   "source": [
    "sort does not return any value, therefore we must sort and then compare s1 and s2, or use sorted"
   ]
  },
  {
   "cell_type": "code",
   "execution_count": 5,
   "id": "725d0957",
   "metadata": {},
   "outputs": [
    {
     "data": {
      "text/plain": [
       "-1"
      ]
     },
     "execution_count": 5,
     "metadata": {},
     "output_type": "execute_result"
    }
   ],
   "source": [
    "def cost(s1, s2):\n",
    "    s1 = list(s1)\n",
    "    s2 = list(s2)\n",
    "    \n",
    "    if sorted(s1) != sorted(s2):\n",
    "        return -1\n",
    "    \n",
    "    c = sum([ a != b for a, b in zip(s1, s2) ])\n",
    "    return c\n",
    "    \n",
    "cost('aaa', 'aab')"
   ]
  },
  {
   "cell_type": "markdown",
   "id": "91e362ba",
   "metadata": {
    "execution_time": [
     1664941763078,
     1664943200399,
     1664943216003,
     1665552182545,
     1665553279412,
     1665553354343,
     1665554749660,
     1665555314470
    ]
   },
   "source": [
    "Now lets build the recursive algorithm.\n",
    "\n",
    "The idea is that we will split the message, solve the left string and call the function recursively on the right part of the string."
   ]
  },
  {
   "cell_type": "code",
   "execution_count": 6,
   "id": "9c933df3",
   "metadata": {},
   "outputs": [
    {
     "data": {
      "text/plain": [
       "-1"
      ]
     },
     "execution_count": 6,
     "metadata": {},
     "output_type": "execute_result"
    }
   ],
   "source": [
    "from typing import List\n",
    "\n",
    "def decompose(s: str, A: List[str]) -> int:\n",
    "    cost_list = []\n",
    "    for w in A:\n",
    "        sl = s[:len(w)]\n",
    "        cl = cost(sl, w)\n",
    "        if cl == -1:\n",
    "            continue\n",
    "            \n",
    "        sr = s[len(w):]\n",
    "        cr = decompose(sr, A)\n",
    "        if cr == -1:\n",
    "            continue\n",
    "        cost_list.append( cl + cr )\n",
    "    \n",
    "    return min(cost_list, default=-1)\n",
    "        \n",
    "s = \"neotowheret\"\n",
    "A = [\"one\", \"two\", \"three\", \"there\"]\n",
    "decompose(s, A)"
   ]
  },
  {
   "cell_type": "markdown",
   "id": "37b0f02f",
   "metadata": {
    "execution_time": [
     1665552182871,
     1665553279416,
     1665553355271,
     1665554749957,
     1665555315762
    ]
   },
   "source": [
    "The result above should be 8. Let us add a few prints to debug."
   ]
  },
  {
   "cell_type": "code",
   "execution_count": 7,
   "id": "ebb56e87",
   "metadata": {},
   "outputs": [
    {
     "name": "stdout",
     "output_type": "stream",
     "text": [
      "neo one 3\n",
      "tow one -1\n",
      "tow two 2\n",
      "her one -1\n",
      "her two -1\n",
      "heret three 3\n",
      " one -1\n",
      " two -1\n",
      " three -1\n",
      " there -1\n",
      "heret three -1\n",
      "heret there 5\n",
      " one -1\n",
      " two -1\n",
      " three -1\n",
      " there -1\n",
      "heret there -1\n",
      "tow two -1\n",
      "towhe three -1\n",
      "towhe there -1\n",
      "neo one -1\n",
      "neo two -1\n",
      "neoto three -1\n",
      "neoto there -1\n"
     ]
    },
    {
     "data": {
      "text/plain": [
       "-1"
      ]
     },
     "execution_count": 7,
     "metadata": {},
     "output_type": "execute_result"
    }
   ],
   "source": [
    "def decompose(s: str, A: List[str]) -> int:\n",
    "    cost_list = []\n",
    "    for w in A:\n",
    "        sl = s[:len(w)]\n",
    "        cl = cost(sl, w)\n",
    "        print(sl, w, cl)\n",
    "        \n",
    "        if cl == -1:\n",
    "            continue\n",
    "            \n",
    "        sr = s[len(w):]\n",
    "        cr = decompose(sr, A)\n",
    "        print(sl, w, cr)\n",
    "        if cr == -1:\n",
    "            continue\n",
    "        cost_list.append( cl + cr )\n",
    "    \n",
    "    return min(cost_list, default=-1)\n",
    "        \n",
    "s = \"neotowheret\"\n",
    "A = [\"one\", \"two\", \"three\", \"there\"]\n",
    "decompose(s, A)"
   ]
  },
  {
   "cell_type": "markdown",
   "id": "d5c42c38",
   "metadata": {
    "execution_time": [
     1664942592715,
     1664943250151,
     1665552183174,
     1665553279420,
     1665553356957,
     1665554750261,
     1665555316883
    ]
   },
   "source": [
    "The problem seems to be an empty string. Let us return 0 if the string is == '' (the constrainsts say that the initial string cannot have size = 0)"
   ]
  },
  {
   "cell_type": "code",
   "execution_count": 8,
   "id": "250b3c93",
   "metadata": {},
   "outputs": [
    {
     "name": "stdout",
     "output_type": "stream",
     "text": [
      "neo one 3\n",
      "tow one -1\n",
      "tow two 2\n",
      "her one -1\n",
      "her two -1\n",
      "heret three 3\n",
      "heret three 0\n",
      "heret there 5\n",
      "heret there 0\n",
      "tow two 3\n",
      "towhe three -1\n",
      "towhe there -1\n",
      "neo one 5\n",
      "neo two -1\n",
      "neoto three -1\n",
      "neoto there -1\n"
     ]
    },
    {
     "data": {
      "text/plain": [
       "8"
      ]
     },
     "execution_count": 8,
     "metadata": {},
     "output_type": "execute_result"
    }
   ],
   "source": [
    "def decompose(s: str, A: List[str]) -> int:\n",
    "    if s == '':\n",
    "        return 0\n",
    "    \n",
    "    cost_list = []\n",
    "    for w in A:\n",
    "        sl = s[:len(w)]\n",
    "        cl = cost(sl, w)\n",
    "        print(sl, w, cl)\n",
    "        \n",
    "        if cl == -1:\n",
    "            continue\n",
    "            \n",
    "        sr = s[len(w):]\n",
    "        cr = decompose(sr, A)\n",
    "        print(sl, w, cr)\n",
    "        if cr == -1:\n",
    "            continue\n",
    "        cost_list.append( cl + cr )\n",
    "    \n",
    "    return min(cost_list, default=-1)\n",
    "        \n",
    "s = \"neotowheret\"\n",
    "A = [\"one\", \"two\", \"three\", \"there\"]\n",
    "decompose(s, A)"
   ]
  },
  {
   "cell_type": "markdown",
   "id": "bdf34dbd",
   "metadata": {
    "execution_time": [
     1664942645749,
     1665552183507,
     1665553279424,
     1665553358420,
     1665554750590,
     1665555318414
    ]
   },
   "source": [
    "Now it is working. Let me add more tests. "
   ]
  },
  {
   "cell_type": "code",
   "execution_count": 9,
   "id": "c1635785",
   "metadata": {},
   "outputs": [
    {
     "name": "stdout",
     "output_type": "stream",
     "text": [
      "Everything ok\n"
     ]
    }
   ],
   "source": [
    "def decompose(s: str, A: List[str]) -> int:\n",
    "    if s == '':\n",
    "        return 0\n",
    "    \n",
    "    cost_list = []\n",
    "    for w in A:\n",
    "        # solve the left side\n",
    "        sl = s[:len(w)]\n",
    "        cl = cost(sl, w)\n",
    "        if cl == -1:\n",
    "            continue\n",
    "            \n",
    "        # solve the right side\n",
    "        sr = s[len(w):]\n",
    "        cr = decompose(sr, A)\n",
    "        if cr == -1:\n",
    "            continue\n",
    "        \n",
    "        cost_list.append( cl + cr )\n",
    "    \n",
    "    # we are only interested in the mininum cost\n",
    "    return min(cost_list, default=-1)\n",
    "\n",
    "s = \"abba\"\n",
    "A = [\"ab\", \"ac\", \"ad\"]\n",
    "assert decompose(s, A) == 2\n",
    "\n",
    "s = \"thisismeaningless\"\n",
    "A = [\"this\", \"is\", \"meaningful\"]\n",
    "assert decompose(s, A) == -1\n",
    "\n",
    "s = \"ommwreehisymkiml\"\n",
    "A = [\"we\", \"were\", \"here\", \"my\", \"is\", \"mom\", \"here\", \"si\", \"milk\", \"where\", \"si\"]\n",
    "assert decompose(s, A) == 10\n",
    "\n",
    "s = \"ogodtsneeencs\"\n",
    "A = [\"go\", \"good\", \"do\", \"sentences\", \"tense\", \"scen\"]\n",
    "assert decompose(s, A) == 8\n",
    "\n",
    "s = \"sepawaterords\"\n",
    "A = [\"separate\",\"words\"]\n",
    "assert decompose(s, A) == -1\n",
    "\n",
    "\n",
    "print('Everything ok')"
   ]
  },
  {
   "cell_type": "code",
   "execution_count": 10,
   "id": "2d6383a9",
   "metadata": {},
   "outputs": [
    {
     "name": "stdout",
     "output_type": "stream",
     "text": [
      "correct!\n"
     ]
    }
   ],
   "source": [
    "s = 'a'*50\n",
    "A = ['z']*49+['a']\n",
    "assert decompose(s, A) == 0\n",
    "print('correct!')"
   ]
  },
  {
   "cell_type": "code",
   "execution_count": 11,
   "id": "b0a65844",
   "metadata": {},
   "outputs": [
    {
     "name": "stdout",
     "output_type": "stream",
     "text": [
      "correct!\n"
     ]
    }
   ],
   "source": [
    "s = 'a'\n",
    "A = ['z']*49+['a']\n",
    "assert decompose(s, A) == 0\n",
    "print('correct!')"
   ]
  },
  {
   "cell_type": "code",
   "execution_count": 12,
   "id": "cb28ce70",
   "metadata": {},
   "outputs": [
    {
     "name": "stdout",
     "output_type": "stream",
     "text": [
      "correct!\n"
     ]
    }
   ],
   "source": [
    "s = 'a'\n",
    "A = ['z']*50\n",
    "assert decompose(s, A) == -1\n",
    "print('correct!')"
   ]
  },
  {
   "cell_type": "code",
   "execution_count": 13,
   "id": "63f1a8b9",
   "metadata": {},
   "outputs": [
    {
     "name": "stdout",
     "output_type": "stream",
     "text": [
      "correct!\n"
     ]
    }
   ],
   "source": [
    "s = 'qwertyuioplkjhgfdsazxcvbnm'\n",
    "A = s[:10]\n",
    "assert decompose(s, A) == -1\n",
    "print('correct!')"
   ]
  },
  {
   "cell_type": "code",
   "execution_count": 14,
   "id": "fc05a1fa",
   "metadata": {},
   "outputs": [
    {
     "name": "stdout",
     "output_type": "stream",
     "text": [
      "correct!\n"
     ]
    }
   ],
   "source": [
    "s = 'qwertyuioplkjhgfdsazxcvbnm'\n",
    "A = list(s)[3:]+['weq']\n",
    "assert decompose(s, A) == 3\n",
    "print('correct!')"
   ]
  },
  {
   "cell_type": "code",
   "execution_count": 15,
   "id": "b7132ebc",
   "metadata": {},
   "outputs": [
    {
     "name": "stdout",
     "output_type": "stream",
     "text": [
      "correct!\n"
     ]
    }
   ],
   "source": [
    "s = 'qwertyuioplkjhgfdsazxcvbnm'\n",
    "A = list(s)[:-5]+['vbnmc']\n",
    "assert decompose(s, A) == 5\n",
    "print('correct!')"
   ]
  },
  {
   "cell_type": "code",
   "execution_count": 16,
   "id": "e8dd4c88",
   "metadata": {},
   "outputs": [
    {
     "ename": "KeyboardInterrupt",
     "evalue": "",
     "output_type": "error",
     "traceback": [
      "\u001b[0;31m---------------------------------------------------------------------------\u001b[0m",
      "\u001b[0;31mKeyboardInterrupt\u001b[0m                         Traceback (most recent call last)",
      "Cell \u001b[0;32mIn [16], line 1\u001b[0m\n\u001b[0;32m----> 1\u001b[0m \u001b[38;5;28;01massert\u001b[39;00m (a\u001b[38;5;241m:=\u001b[39m\u001b[43mdecompose\u001b[49m\u001b[43m(\u001b[49m\u001b[38;5;124;43m\"\u001b[39;49m\u001b[38;5;124;43maaaaaaaaaaaaaaaaaaaaaaaaaaaaaaaaaaaaaaaaaaaaaaaaaa\u001b[39;49m\u001b[38;5;124;43m\"\u001b[39;49m\u001b[43m,\u001b[49m\u001b[43m \u001b[49m\u001b[43m[\u001b[49m\u001b[38;5;124;43m\"\u001b[39;49m\u001b[38;5;124;43ma\u001b[39;49m\u001b[38;5;124;43m\"\u001b[39;49m\u001b[43m,\u001b[49m\u001b[43m \u001b[49m\u001b[38;5;124;43m\"\u001b[39;49m\u001b[38;5;124;43mb\u001b[39;49m\u001b[38;5;124;43m\"\u001b[39;49m\u001b[43m,\u001b[49m\u001b[43m \u001b[49m\u001b[38;5;124;43m\"\u001b[39;49m\u001b[38;5;124;43maaa\u001b[39;49m\u001b[38;5;124;43m\"\u001b[39;49m\u001b[43m,\u001b[49m\u001b[43m \u001b[49m\u001b[38;5;124;43m\"\u001b[39;49m\u001b[38;5;124;43mab\u001b[39;49m\u001b[38;5;124;43m\"\u001b[39;49m\u001b[43m]\u001b[49m\u001b[43m)\u001b[49m) \u001b[38;5;241m==\u001b[39m \u001b[38;5;241m0\u001b[39m, a\n",
      "Cell \u001b[0;32mIn [9], line 15\u001b[0m, in \u001b[0;36mdecompose\u001b[0;34m(s, A)\u001b[0m\n\u001b[1;32m     13\u001b[0m \u001b[38;5;66;03m# solve the right side\u001b[39;00m\n\u001b[1;32m     14\u001b[0m sr \u001b[38;5;241m=\u001b[39m s[\u001b[38;5;28mlen\u001b[39m(w):]\n\u001b[0;32m---> 15\u001b[0m cr \u001b[38;5;241m=\u001b[39m \u001b[43mdecompose\u001b[49m\u001b[43m(\u001b[49m\u001b[43msr\u001b[49m\u001b[43m,\u001b[49m\u001b[43m \u001b[49m\u001b[43mA\u001b[49m\u001b[43m)\u001b[49m\n\u001b[1;32m     16\u001b[0m \u001b[38;5;28;01mif\u001b[39;00m cr \u001b[38;5;241m==\u001b[39m \u001b[38;5;241m-\u001b[39m\u001b[38;5;241m1\u001b[39m:\n\u001b[1;32m     17\u001b[0m     \u001b[38;5;28;01mcontinue\u001b[39;00m\n",
      "Cell \u001b[0;32mIn [9], line 15\u001b[0m, in \u001b[0;36mdecompose\u001b[0;34m(s, A)\u001b[0m\n\u001b[1;32m     13\u001b[0m \u001b[38;5;66;03m# solve the right side\u001b[39;00m\n\u001b[1;32m     14\u001b[0m sr \u001b[38;5;241m=\u001b[39m s[\u001b[38;5;28mlen\u001b[39m(w):]\n\u001b[0;32m---> 15\u001b[0m cr \u001b[38;5;241m=\u001b[39m \u001b[43mdecompose\u001b[49m\u001b[43m(\u001b[49m\u001b[43msr\u001b[49m\u001b[43m,\u001b[49m\u001b[43m \u001b[49m\u001b[43mA\u001b[49m\u001b[43m)\u001b[49m\n\u001b[1;32m     16\u001b[0m \u001b[38;5;28;01mif\u001b[39;00m cr \u001b[38;5;241m==\u001b[39m \u001b[38;5;241m-\u001b[39m\u001b[38;5;241m1\u001b[39m:\n\u001b[1;32m     17\u001b[0m     \u001b[38;5;28;01mcontinue\u001b[39;00m\n",
      "    \u001b[0;31m[... skipping similar frames: decompose at line 15 (26 times)]\u001b[0m\n",
      "Cell \u001b[0;32mIn [9], line 15\u001b[0m, in \u001b[0;36mdecompose\u001b[0;34m(s, A)\u001b[0m\n\u001b[1;32m     13\u001b[0m \u001b[38;5;66;03m# solve the right side\u001b[39;00m\n\u001b[1;32m     14\u001b[0m sr \u001b[38;5;241m=\u001b[39m s[\u001b[38;5;28mlen\u001b[39m(w):]\n\u001b[0;32m---> 15\u001b[0m cr \u001b[38;5;241m=\u001b[39m \u001b[43mdecompose\u001b[49m\u001b[43m(\u001b[49m\u001b[43msr\u001b[49m\u001b[43m,\u001b[49m\u001b[43m \u001b[49m\u001b[43mA\u001b[49m\u001b[43m)\u001b[49m\n\u001b[1;32m     16\u001b[0m \u001b[38;5;28;01mif\u001b[39;00m cr \u001b[38;5;241m==\u001b[39m \u001b[38;5;241m-\u001b[39m\u001b[38;5;241m1\u001b[39m:\n\u001b[1;32m     17\u001b[0m     \u001b[38;5;28;01mcontinue\u001b[39;00m\n",
      "Cell \u001b[0;32mIn [9], line 9\u001b[0m, in \u001b[0;36mdecompose\u001b[0;34m(s, A)\u001b[0m\n\u001b[1;32m      6\u001b[0m \u001b[38;5;28;01mfor\u001b[39;00m w \u001b[38;5;129;01min\u001b[39;00m A:\n\u001b[1;32m      7\u001b[0m     \u001b[38;5;66;03m# solve the left side\u001b[39;00m\n\u001b[1;32m      8\u001b[0m     sl \u001b[38;5;241m=\u001b[39m s[:\u001b[38;5;28mlen\u001b[39m(w)]\n\u001b[0;32m----> 9\u001b[0m     cl \u001b[38;5;241m=\u001b[39m \u001b[43mcost\u001b[49m\u001b[43m(\u001b[49m\u001b[43msl\u001b[49m\u001b[43m,\u001b[49m\u001b[43m \u001b[49m\u001b[43mw\u001b[49m\u001b[43m)\u001b[49m\n\u001b[1;32m     10\u001b[0m     \u001b[38;5;28;01mif\u001b[39;00m cl \u001b[38;5;241m==\u001b[39m \u001b[38;5;241m-\u001b[39m\u001b[38;5;241m1\u001b[39m:\n\u001b[1;32m     11\u001b[0m         \u001b[38;5;28;01mcontinue\u001b[39;00m\n",
      "Cell \u001b[0;32mIn [5], line 3\u001b[0m, in \u001b[0;36mcost\u001b[0;34m(s1, s2)\u001b[0m\n\u001b[1;32m      1\u001b[0m \u001b[38;5;28;01mdef\u001b[39;00m \u001b[38;5;21mcost\u001b[39m(s1, s2):\n\u001b[1;32m      2\u001b[0m     s1 \u001b[38;5;241m=\u001b[39m \u001b[38;5;28mlist\u001b[39m(s1)\n\u001b[0;32m----> 3\u001b[0m     s2 \u001b[38;5;241m=\u001b[39m \u001b[38;5;28;43mlist\u001b[39;49m\u001b[43m(\u001b[49m\u001b[43ms2\u001b[49m\u001b[43m)\u001b[49m\n\u001b[1;32m      5\u001b[0m     \u001b[38;5;28;01mif\u001b[39;00m \u001b[38;5;28msorted\u001b[39m(s1) \u001b[38;5;241m!=\u001b[39m \u001b[38;5;28msorted\u001b[39m(s2):\n\u001b[1;32m      6\u001b[0m         \u001b[38;5;28;01mreturn\u001b[39;00m \u001b[38;5;241m-\u001b[39m\u001b[38;5;241m1\u001b[39m\n",
      "\u001b[0;31mKeyboardInterrupt\u001b[0m: "
     ]
    }
   ],
   "source": [
    "assert (a:=decompose(\"aaaaaaaaaaaaaaaaaaaaaaaaaaaaaaaaaaaaaaaaaaaaaaaaaa\", [\"a\", \"b\", \"aaa\", \"ab\"])) == 0, a"
   ]
  },
  {
   "cell_type": "markdown",
   "id": "c800da81",
   "metadata": {
    "execution_time": [
     1665552274801,
     1665552969569,
     1665553279455,
     1665553362269,
     1665553388113,
     1665554755329,
     1665555327663
    ]
   },
   "source": [
    "Our implementation is running indefinitely in the case above. \n",
    "\n",
    "To fix it, I will try to add dynamic programming to the solution decompose.\n",
    "Since the solution that I'm planning needs to carry the memory of previous results as input, I will implement is as another function."
   ]
  },
  {
   "cell_type": "code",
   "execution_count": 17,
   "id": "1663b5c7",
   "metadata": {},
   "outputs": [],
   "source": [
    "def decomp(s: str, A: List[str], prev_sol=None) -> int:\n",
    "    if s == '':\n",
    "        return 0\n",
    "    \n",
    "    if prev_sol is None:\n",
    "        prev_sol = dict()\n",
    "    \n",
    "    cost_list = []\n",
    "    for w in A:\n",
    "        # solve the left side\n",
    "        sl = s[:len(w)]\n",
    "        cl = cost(sl, w)\n",
    "        if cl == -1:\n",
    "            continue\n",
    "            \n",
    "        # solve the right side\n",
    "        sr = s[len(w):]\n",
    "        \n",
    "        if sr not in prev_sol.keys():\n",
    "            cr = decomp(sr, A, prev_sol=prev_sol)\n",
    "            prev_sol[sr] = cr\n",
    "        else:\n",
    "            cr = prev_sol[sr]\n",
    "        \n",
    "        if cr == -1:\n",
    "            continue\n",
    "        \n",
    "        cost_list.append( cl + cr )\n",
    "    \n",
    "    # we are only interested in the mininum cost\n",
    "    return min(cost_list, default=-1)"
   ]
  },
  {
   "cell_type": "code",
   "execution_count": 18,
   "id": "88ea72d6",
   "metadata": {},
   "outputs": [
    {
     "name": "stdout",
     "output_type": "stream",
     "text": [
      "done\n"
     ]
    }
   ],
   "source": [
    "assert (a:=decomp(\"aaaaaaaaaaaaaaaaaaaaaaaaaaaaaaaaaaaaaaaaaaaaaaaaaa\", [\"a\", \"b\", \"aaa\", \"ab\"])) == 0, a\n",
    "assert (a:=decomp(\"aaaaaaaaaaaaaaaaaaaaaaaaaaaaaaaaaaaaaaaaaaaaaaaaxy\", [\"a\", \"aa\", \"yx\"])) == 2, a\n",
    "print('done')"
   ]
  },
  {
   "cell_type": "markdown",
   "id": "f38f4211",
   "metadata": {
    "execution_time": [
     1665552978597,
     1665553021433,
     1665553057666,
     1665553279462,
     1665553392657,
     1665553958889,
     1665554236447,
     1665554760790,
     1665555240946,
     1665555333552,
     1665555346800
    ]
   },
   "source": [
    "Let us copy decompose to be the same as decomp, but with no inputs, and test everything again."
   ]
  },
  {
   "cell_type": "code",
   "execution_count": 21,
   "id": "1c64ea59",
   "metadata": {},
   "outputs": [],
   "source": [
    "def decompose(s: str, A: List[str]) -> int:\n",
    "    return decomp(s, A)\n",
    "\n",
    "s = \"abba\"\n",
    "A = [\"ab\", \"ac\", \"ad\"]\n",
    "assert decompose(s, A) == 2"
   ]
  },
  {
   "cell_type": "code",
   "execution_count": 22,
   "id": "8869d7d6",
   "metadata": {},
   "outputs": [],
   "source": [
    "s = \"thisismeaningless\"\n",
    "A = [\"this\", \"is\", \"meaningful\"]\n",
    "assert decompose(s, A) == -1"
   ]
  },
  {
   "cell_type": "code",
   "execution_count": 23,
   "id": "19d131dc",
   "metadata": {},
   "outputs": [],
   "source": [
    "s = \"ommwreehisymkiml\"\n",
    "A = [\"we\", \"were\", \"here\", \"my\", \"is\", \"mom\", \"here\", \"si\", \"milk\", \"where\", \"si\"]\n",
    "assert decompose(s, A) == 10"
   ]
  },
  {
   "cell_type": "code",
   "execution_count": 24,
   "id": "76c7bf50",
   "metadata": {},
   "outputs": [],
   "source": [
    "s = \"ogodtsneeencs\"\n",
    "A = [\"go\", \"good\", \"do\", \"sentences\", \"tense\", \"scen\"]\n",
    "assert decompose(s, A) == 8"
   ]
  },
  {
   "cell_type": "code",
   "execution_count": 25,
   "id": "6fb2976e",
   "metadata": {},
   "outputs": [],
   "source": [
    "s = \"sepawaterords\"\n",
    "A = [\"separate\",\"words\"]\n",
    "assert decompose(s, A) == -1"
   ]
  },
  {
   "cell_type": "code",
   "execution_count": 26,
   "id": "70557e36",
   "metadata": {},
   "outputs": [
    {
     "name": "stdout",
     "output_type": "stream",
     "text": [
      "correct!\n"
     ]
    }
   ],
   "source": [
    "s = 'a'*50\n",
    "A = ['z']*49+['a']\n",
    "assert decompose(s, A) == 0\n",
    "print('correct!')"
   ]
  },
  {
   "cell_type": "code",
   "execution_count": 27,
   "id": "3d2e3b3a",
   "metadata": {},
   "outputs": [
    {
     "name": "stdout",
     "output_type": "stream",
     "text": [
      "correct!\n"
     ]
    }
   ],
   "source": [
    "s = 'a'\n",
    "A = ['z']*49+['a']\n",
    "assert decompose(s, A) == 0\n",
    "print('correct!')"
   ]
  },
  {
   "cell_type": "code",
   "execution_count": 28,
   "id": "a8ba5754",
   "metadata": {},
   "outputs": [
    {
     "name": "stdout",
     "output_type": "stream",
     "text": [
      "correct!\n"
     ]
    }
   ],
   "source": [
    "s = 'a'\n",
    "A = ['z' for i in range(50)]\n",
    "assert (a:=decompose(s, A)) == -1,a\n",
    "print('correct!')"
   ]
  },
  {
   "cell_type": "code",
   "execution_count": 29,
   "id": "87dc1d39",
   "metadata": {},
   "outputs": [
    {
     "name": "stdout",
     "output_type": "stream",
     "text": [
      "correct!\n"
     ]
    }
   ],
   "source": [
    "A = ['q','w','e','r','t','y','u','i','o','p']\n",
    "assert decompose('qwertyuioplkjhgfdsazxcvbnm', ['q','w','e','r','t','y','u','i','o','p']) == -1\n",
    "print('correct!')"
   ]
  },
  {
   "cell_type": "code",
   "execution_count": 30,
   "id": "26887ebc",
   "metadata": {},
   "outputs": [
    {
     "name": "stdout",
     "output_type": "stream",
     "text": [
      "correct!\n"
     ]
    }
   ],
   "source": [
    "A = list('qwertyuioplkjhgfdsazxcvbnm')[3:]+['weq']\n",
    "assert decompose('qwertyuioplkjhgfdsazxcvbnm', A) == 3\n",
    "print('correct!')"
   ]
  },
  {
   "cell_type": "code",
   "execution_count": 31,
   "id": "ac640e94",
   "metadata": {},
   "outputs": [
    {
     "name": "stdout",
     "output_type": "stream",
     "text": [
      "correct!\n",
      "done\n"
     ]
    }
   ],
   "source": [
    "s = 'qwertyuioplkjhgfdsazxcvbnm'\n",
    "A = list(s)[:-5]+['vbnmc']\n",
    "assert decompose(s, A) == 5\n",
    "print('correct!')\n",
    "\n",
    "assert (a:=decomp(\"aaaaaaaaaaaaaaaaaaaaaaaaaaaaaaaaaaaaaaaaaaaaaaaaaa\", [\"a\", \"b\", \"aaa\", \"ab\"])) == 0, a\n",
    "assert (a:=decomp(\"aaaaaaaaaaaaaaaaaaaaaaaaaaaaaaaaaaaaaaaaaaaaaaaaxy\", [\"a\", \"aa\", \"yx\"])) == 2, a\n",
    "print('done')"
   ]
  },
  {
   "cell_type": "code",
   "execution_count": null,
   "id": "ddbb6d30",
   "metadata": {},
   "outputs": [],
   "source": []
  }
 ],
 "metadata": {
  "kernelspec": {
   "display_name": "Python 3 (ipykernel)",
   "language": "python",
   "name": "python3"
  },
  "language_info": {
   "codemirror_mode": {
    "name": "ipython",
    "version": 3
   },
   "file_extension": ".py",
   "mimetype": "text/x-python",
   "name": "python",
   "nbconvert_exporter": "python",
   "pygments_lexer": "ipython3",
   "version": "3.9.13"
  }
 },
 "nbformat": 4,
 "nbformat_minor": 5
}
