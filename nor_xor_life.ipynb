{
 "cells": [
  {
   "cell_type": "markdown",
   "id": "db485235",
   "metadata": {
    "execution_time": [
     1666848477275
    ],
    "special_cell_type": "prompt_instructions"
   },
   "source": [
    "# Coding Exercise\n",
    "\n",
    "You must correctly implement the function described in the prompt below.\n",
    "\n",
    "Feel free to test out pieces of code to help you write the solution.\n",
    "\n",
    "Please thoroughly test that the final code implements the function correctly."
   ]
  },
  {
   "cell_type": "markdown",
   "id": "99785db0",
   "metadata": {
    "execution_time": [
     1666848248991,
     1666848479266,
     1666852604187
    ],
    "special_cell_type": "prompt_task"
   },
   "source": [
    "## Prompt\n",
    "\n",
    "**Function signature:** `countAliveCells(f: List[str], K: int) -> int`\n",
    "\n",
    "    Magical Girl Sayaka just learned about Conway's Game of Life. She is now thinking about new rules for this game.\n",
    "    In the Game of Life, an infinite plane is divided into a grid of unit square cells. \n",
    "    At any moment, each cell is either alive or dead.\n",
    "    Every second the state of each cell changes according to a fixed rule.\n",
    "    In Sayaka's version of the game the following rule is used: \n",
    "\n",
    "     Consider any cell C. Look at the current states of the cell C and all four cells that share a side with C. \n",
    "     If at least one of these five cells are alive, cell C will be alive in the next second. Otherwise, cell C will be dead in the next second. \n",
    "     Note that each second the rule is applied on all cells at the same time.  \n",
    "    Sayaka wants to know how many cells are alive after K seconds.\n",
    "    You are given the int K and a String[] field that describes the initial state of the plane. field describes only some rectangular area of the plane. More precisely, character j of element i of field is 'o' if the cell in the i-th row of the j-th column of the rectangular area is alive, and it is '.' otherwise. Cells which aren't described in field is initially all dead. \n",
    "    Return the number of alive cells after K seconds.\n",
    "    Constraints\n",
    "    -field will contain between 1 and 50 elements, inclusive.\n",
    "    -Each elements of field will contain between 1 and 50 characters, inclusive.\n",
    "    -All elements of field will contain the same number of characters.\n",
    "    -Each character in each element of field will be either 'o' or '.'.\n",
    "    -K will be between 1 and 1500, inclusive.\n",
    " \n",
    "    Examples\n",
    "    0)\n",
    "        {\"oo\"\n",
    "    ,\"o.\"}\n",
    "    3\n",
    "\n",
    "    Returns: 36\n",
    "    The status after 3 seconds is below.\n",
    "    ...oo...\n",
    "    ..oooo..\n",
    "    .oooooo.\n",
    "    oooooooo\n",
    "    ooooooo.\n",
    "    .ooooo..\n",
    "    ..ooo...\n",
    "    ...o....\n",
    "\n",
    "    1)\n",
    "        {\"..\"\n",
    "    ,\"..\"}\n",
    "    23\n",
    "\n",
    "    Returns: 0\n",
    "    All cells of the plane can be dead.\n",
    "\n",
    "    2)\n",
    "        {\"o\"}\n",
    "    1000\n",
    "\n",
    "    Returns: 2002001\n",
    "\n",
    "    3)\n",
    "        {\"o.oo.ooo\"\n",
    "    ,\"o.o.o.oo\"\n",
    "    ,\"ooo.oooo\"\n",
    "    ,\"o.o..o.o\"\n",
    "    ,\"o.o..o.o\"\n",
    "    ,\"o..oooo.\"\n",
    "    ,\"..o.o.oo\"\n",
    "    ,\"oo.ooo.o\"}\n",
    "    1234\n",
    "\n",
    "    Returns: 3082590\n",
    "\n",
    "    "
   ]
  },
  {
   "cell_type": "markdown",
   "id": "8aaa9033",
   "metadata": {
    "execution_time": [
     1666848542094,
     1666848552722,
     1666848555867,
     1666852669959,
     1666852757296,
     1666852880328,
     1666852901189,
     1666852915785
    ]
   },
   "source": [
    "The ideia is to solve by brute force.\n",
    "In the worst case scenario we will have 1500 iterations and the cluster of alives will grow up to 1500 in size. If I allocate a lattice of size 2000 we will need up to $2000\\times2000\\times1500 \\sim 10^{10}$ iterations. Hopefully, I can optimize it latter.\n",
    "\n",
    "Acually, I will need a lattice of size 4000 because it can grow both ways.\n",
    "Also, since it is a 2D lattice, the total number of iterations increasd to $4000\\times4000\\times2000$\n",
    "\n",
    "Lets start implementing the lattice with the appropriate initial condition"
   ]
  },
  {
   "cell_type": "code",
   "execution_count": 1,
   "id": "6ecdb63a",
   "metadata": {},
   "outputs": [
    {
     "name": "stdout",
     "output_type": "stream",
     "text": [
      "[[False False False ... False False False]\n",
      " [False False False ... False False False]\n",
      " [False False False ... False False False]\n",
      " ...\n",
      " [False False False ... False False False]\n",
      " [False False False ... False False False]\n",
      " [False False False ... False False False]]\n"
     ]
    }
   ],
   "source": [
    "from numpy import ones, bool_\n",
    "\n",
    "def get_lattice(f):\n",
    "    size = [4000, 4000]\n",
    "    lattice = ones(size, dtype=bool_)\n",
    "    lattice = ~lattice\n",
    "    \n",
    "    off = 2000\n",
    "    for i, row in enumerate(f):\n",
    "        for j,char in enumerate(row):\n",
    "            lattice[off+i,off+j] = True if char == 'o' else False\n",
    "            \n",
    "    return lattice\n",
    "\n",
    "f = [\n",
    "    '...oo...',\n",
    "    '..oooo..',\n",
    "    '.oooooo.',\n",
    "    'oooooooo',\n",
    "    'ooooooo.',\n",
    "    '.ooooo..',\n",
    "    '..ooo...',\n",
    "    '...o....'\n",
    "]\n",
    "lattice = get_lattice(f)\n",
    "print(lattice[1950:2050, 1950:2050])"
   ]
  },
  {
   "cell_type": "markdown",
   "id": "c5ef39d8",
   "metadata": {
    "execution_time": [
     1666852935768
    ]
   },
   "source": [
    "I will implement a function to pretty print the lattice"
   ]
  },
  {
   "cell_type": "code",
   "execution_count": 2,
   "id": "fd59052f",
   "metadata": {},
   "outputs": [
    {
     "name": "stdout",
     "output_type": "stream",
     "text": [
      "........................................\n",
      "........................................\n",
      "........................................\n",
      "........................................\n",
      "........................................\n",
      "........................................\n",
      "........................................\n",
      "........................................\n",
      "........................................\n",
      "........................................\n",
      "........................................\n",
      "........................................\n",
      "........................................\n",
      "........................................\n",
      "........................................\n",
      "........................................\n",
      "........................................\n",
      "........................................\n",
      "........................................\n",
      "........................................\n",
      ".......................oo...............\n",
      "......................oooo..............\n",
      ".....................oooooo.............\n",
      "....................oooooooo............\n",
      "....................ooooooo.............\n",
      ".....................ooooo..............\n",
      "......................ooo...............\n",
      ".......................o................\n",
      "........................................\n",
      "........................................\n",
      "........................................\n",
      "........................................\n",
      "........................................\n",
      "........................................\n",
      "........................................\n",
      "........................................\n",
      "........................................\n",
      "........................................\n",
      "........................................\n",
      "........................................\n"
     ]
    }
   ],
   "source": [
    "from numpy import ones, bool_\n",
    "\n",
    "def get_lattice(f):\n",
    "    size = [4000, 4000]\n",
    "    lattice = ones(size, dtype=bool_)\n",
    "    lattice = ~lattice\n",
    "    \n",
    "    off = 2000\n",
    "    for i, row in enumerate(f):\n",
    "        for j,char in enumerate(row):\n",
    "            lattice[off+i,off+j] = True if char == 'o' else False\n",
    "            \n",
    "    return lattice\n",
    "\n",
    "def print_lattice(lattice):\n",
    "    \n",
    "    for row in lattice:\n",
    "        s = ''\n",
    "        for i in range(row.size):\n",
    "            s += 'o' if row[i] else '.'\n",
    "        print(s)\n",
    "\n",
    "f = [\n",
    "    '...oo...',\n",
    "    '..oooo..',\n",
    "    '.oooooo.',\n",
    "    'oooooooo',\n",
    "    'ooooooo.',\n",
    "    '.ooooo..',\n",
    "    '..ooo...',\n",
    "    '...o....'\n",
    "]\n",
    "lattice = get_lattice(f)\n",
    "print_lattice(lattice[1980:2020, 1980:2020])"
   ]
  },
  {
   "cell_type": "markdown",
   "id": "6e47a838",
   "metadata": {
    "execution_time": [
     1666849390420,
     1666852981739
    ]
   },
   "source": [
    "Implement solution by brute force.\n",
    "\n",
    "I will optimize it by keeping track of x_min, x_max, y_min and y_max, which will hold the position of the mininum and maximum indexes that we will need to update."
   ]
  },
  {
   "cell_type": "code",
   "execution_count": 3,
   "id": "37c26d19",
   "metadata": {},
   "outputs": [
    {
     "name": "stdout",
     "output_type": "stream",
     "text": [
      "........\n",
      "...oo...\n",
      "..ooo...\n",
      ".oooo...\n",
      ".oooo...\n",
      ".oooo...\n",
      ".oooo...\n",
      ".oooo...\n"
     ]
    },
    {
     "ename": "AssertionError",
     "evalue": "25",
     "output_type": "error",
     "traceback": [
      "\u001b[0;31m---------------------------------------------------------------------------\u001b[0m",
      "\u001b[0;31mAssertionError\u001b[0m                            Traceback (most recent call last)",
      "Cell \u001b[0;32mIn [3], line 53\u001b[0m\n\u001b[1;32m     50\u001b[0m \u001b[38;5;28;01mdef\u001b[39;00m \u001b[38;5;21mtest\u001b[39m():\n\u001b[1;32m     51\u001b[0m     \u001b[38;5;28;01massert\u001b[39;00m (a\u001b[38;5;241m:=\u001b[39mcountAliveCells([\u001b[38;5;124m\"\u001b[39m\u001b[38;5;124moo\u001b[39m\u001b[38;5;124m\"\u001b[39m,\u001b[38;5;124m\"\u001b[39m\u001b[38;5;124mo.\u001b[39m\u001b[38;5;124m\"\u001b[39m], \u001b[38;5;241m3\u001b[39m)) \u001b[38;5;241m==\u001b[39m \u001b[38;5;241m36\u001b[39m, a\n\u001b[0;32m---> 53\u001b[0m \u001b[43mtest\u001b[49m\u001b[43m(\u001b[49m\u001b[43m)\u001b[49m\n",
      "Cell \u001b[0;32mIn [3], line 51\u001b[0m, in \u001b[0;36mtest\u001b[0;34m()\u001b[0m\n\u001b[1;32m     50\u001b[0m \u001b[38;5;28;01mdef\u001b[39;00m \u001b[38;5;21mtest\u001b[39m():\n\u001b[0;32m---> 51\u001b[0m     \u001b[38;5;28;01massert\u001b[39;00m (a\u001b[38;5;241m:=\u001b[39mcountAliveCells([\u001b[38;5;124m\"\u001b[39m\u001b[38;5;124moo\u001b[39m\u001b[38;5;124m\"\u001b[39m,\u001b[38;5;124m\"\u001b[39m\u001b[38;5;124mo.\u001b[39m\u001b[38;5;124m\"\u001b[39m], \u001b[38;5;241m3\u001b[39m)) \u001b[38;5;241m==\u001b[39m \u001b[38;5;241m36\u001b[39m, a\n",
      "\u001b[0;31mAssertionError\u001b[0m: 25"
     ]
    }
   ],
   "source": [
    "from numpy import ones, bool_\n",
    "from typing import List\n",
    "\n",
    "def get_lattice(f):\n",
    "    size = [4000, 4000]\n",
    "    lattice = ones(size, dtype=bool_)\n",
    "    lattice = ~lattice\n",
    "    \n",
    "    off = 2000\n",
    "    for i, row in enumerate(f):\n",
    "        for j,char in enumerate(row):\n",
    "            lattice[off+i,off+j] = True if char == 'o' else False\n",
    "            \n",
    "    x_min = off\n",
    "    x_max = off+len(f[0])\n",
    "    y_min = off\n",
    "    y_max = off+len(f)\n",
    "            \n",
    "    return lattice, x_min, x_max, y_min, y_max\n",
    "\n",
    "def print_lattice(lattice):\n",
    "    \n",
    "    for row in lattice:\n",
    "        s = ''\n",
    "        for i in range(row.size):\n",
    "            s += 'o' if row[i] else '.'\n",
    "        print(s)\n",
    "\n",
    "def countAliveCells(f: List[str], K: int) -> int:\n",
    "    lattice, x_min, x_max, y_min, y_max = get_lattice(f)\n",
    "    \n",
    "    n_alive = sum([row.count('o') for row in f])\n",
    "    \n",
    "    for k in range(K):\n",
    "        \n",
    "        for x in range(x_min, x_max+1):\n",
    "            for y in range(y_min, y_max):\n",
    "                if not lattice[x,y] and \\\n",
    "                  (lattice[x+1,y] or lattice[x,y+1] or lattice[x-1,y] or lattice[x-1,y]):\n",
    "                    lattice[x,y] = True\n",
    "                    n_alive += 1\n",
    "        x_min -= 1\n",
    "        x_max += 1\n",
    "        y_min -= 1\n",
    "        y_max += 1\n",
    "\n",
    "    print_lattice(lattice[x_min:x_max,y_min:y_max])\n",
    "    return n_alive\n",
    "                        \n",
    "def test():\n",
    "    assert (a:=countAliveCells([\"oo\",\"o.\"], 3)) == 36, a\n",
    "    \n",
    "test()"
   ]
  },
  {
   "cell_type": "markdown",
   "id": "606353e5",
   "metadata": {
    "execution_time": [
     1666849958055,
     1666849980161,
     1666852994832
    ]
   },
   "source": [
    "The print shows that we are not going to the right.\n",
    "The problem is in the last term of\n",
    "\n",
    "<code> lattice[x+1,y] or lattice[x,y+1] or lattice[x-1,y] or lattice[x-1,y] </code> \n",
    "\n",
    "it should be\n",
    "\n",
    "<code> lattice[x+1,y] or lattice[x,y+1] or lattice[x-1,y] or lattice[x,y-1] </code> "
   ]
  },
  {
   "cell_type": "code",
   "execution_count": 4,
   "id": "862a46cc",
   "metadata": {},
   "outputs": [
    {
     "name": "stdout",
     "output_type": "stream",
     "text": [
      "....\n",
      ".oo.\n",
      ".oo.\n",
      ".oo.\n",
      "......\n",
      "..ooo.\n",
      ".oooo.\n",
      ".oooo.\n",
      ".oooo.\n",
      ".oooo.\n",
      "........\n",
      "...oooo.\n",
      "..ooooo.\n",
      ".oooooo.\n",
      ".oooooo.\n",
      ".oooooo.\n",
      ".oooooo.\n",
      ".oooooo.\n"
     ]
    },
    {
     "ename": "AssertionError",
     "evalue": "39",
     "output_type": "error",
     "traceback": [
      "\u001b[0;31m---------------------------------------------------------------------------\u001b[0m",
      "\u001b[0;31mAssertionError\u001b[0m                            Traceback (most recent call last)",
      "Cell \u001b[0;32mIn [4], line 53\u001b[0m\n\u001b[1;32m     50\u001b[0m \u001b[38;5;28;01mdef\u001b[39;00m \u001b[38;5;21mtest\u001b[39m():\n\u001b[1;32m     51\u001b[0m     \u001b[38;5;28;01massert\u001b[39;00m (a\u001b[38;5;241m:=\u001b[39mcountAliveCells([\u001b[38;5;124m\"\u001b[39m\u001b[38;5;124moo\u001b[39m\u001b[38;5;124m\"\u001b[39m,\u001b[38;5;124m\"\u001b[39m\u001b[38;5;124mo.\u001b[39m\u001b[38;5;124m\"\u001b[39m], \u001b[38;5;241m3\u001b[39m)) \u001b[38;5;241m==\u001b[39m \u001b[38;5;241m36\u001b[39m, a\n\u001b[0;32m---> 53\u001b[0m \u001b[43mtest\u001b[49m\u001b[43m(\u001b[49m\u001b[43m)\u001b[49m\n",
      "Cell \u001b[0;32mIn [4], line 51\u001b[0m, in \u001b[0;36mtest\u001b[0;34m()\u001b[0m\n\u001b[1;32m     50\u001b[0m \u001b[38;5;28;01mdef\u001b[39;00m \u001b[38;5;21mtest\u001b[39m():\n\u001b[0;32m---> 51\u001b[0m     \u001b[38;5;28;01massert\u001b[39;00m (a\u001b[38;5;241m:=\u001b[39mcountAliveCells([\u001b[38;5;124m\"\u001b[39m\u001b[38;5;124moo\u001b[39m\u001b[38;5;124m\"\u001b[39m,\u001b[38;5;124m\"\u001b[39m\u001b[38;5;124mo.\u001b[39m\u001b[38;5;124m\"\u001b[39m], \u001b[38;5;241m3\u001b[39m)) \u001b[38;5;241m==\u001b[39m \u001b[38;5;241m36\u001b[39m, a\n",
      "\u001b[0;31mAssertionError\u001b[0m: 39"
     ]
    }
   ],
   "source": [
    "from numpy import ones, bool_\n",
    "from typing import List\n",
    "\n",
    "def get_lattice(f):\n",
    "    size = [4000, 4000]\n",
    "    lattice = ones(size, dtype=bool_)\n",
    "    lattice = ~lattice\n",
    "    \n",
    "    off = 2000\n",
    "    for i, row in enumerate(f):\n",
    "        for j,char in enumerate(row):\n",
    "            lattice[off+i,off+j] = True if char == 'o' else False\n",
    "            \n",
    "    x_min = off\n",
    "    x_max = off+len(f[0])\n",
    "    y_min = off\n",
    "    y_max = off+len(f)\n",
    "            \n",
    "    return lattice, x_min, x_max, y_min, y_max\n",
    "\n",
    "def print_lattice(lattice):\n",
    "    \n",
    "    for row in lattice:\n",
    "        s = ''\n",
    "        for i in range(row.size):\n",
    "            s += 'o' if row[i] else '.'\n",
    "        print(s)\n",
    "\n",
    "def countAliveCells(f: List[str], K: int) -> int:\n",
    "    lattice, x_min, x_max, y_min, y_max = get_lattice(f)\n",
    "    \n",
    "    n_alive = sum([row.count('o') for row in f])\n",
    "    \n",
    "    for k in range(K):\n",
    "        \n",
    "        for x in range(x_min, x_max+1):\n",
    "            for y in range(y_min, y_max):\n",
    "                if not lattice[x,y] and \\\n",
    "                  (lattice[x+1,y] or lattice[x,y+1] or lattice[x-1,y] or lattice[x,y-1]):\n",
    "                    lattice[x,y] = True\n",
    "                    n_alive += 1\n",
    "        x_min -= 1\n",
    "        x_max += 1\n",
    "        y_min -= 1\n",
    "        y_max += 1\n",
    "\n",
    "        print_lattice(lattice[x_min:x_max,y_min:y_max])\n",
    "    return n_alive\n",
    "                        \n",
    "def test():\n",
    "    assert (a:=countAliveCells([\"oo\",\"o.\"], 3)) == 36, a\n",
    "    \n",
    "test()"
   ]
  },
  {
   "cell_type": "markdown",
   "id": "f8ddf456",
   "metadata": {
    "execution_time": [
     1666850073187,
     1666853025752
    ]
   },
   "source": [
    "I am not updating everyone at the same time. \n",
    "\n",
    "I will copy the lattice to use the last state and update everyone at once."
   ]
  },
  {
   "cell_type": "code",
   "execution_count": 5,
   "id": "d98da0db",
   "metadata": {},
   "outputs": [
    {
     "name": "stdout",
     "output_type": "stream",
     "text": [
      "....\n",
      ".oo.\n",
      ".oo.\n",
      ".o..\n",
      "......\n",
      "..oo..\n",
      ".oooo.\n",
      ".oooo.\n",
      ".ooo..\n",
      "..o...\n",
      "........\n",
      "...oo...\n",
      "..oooo..\n",
      ".oooooo.\n",
      ".oooooo.\n",
      ".ooooo..\n",
      "..ooo...\n",
      "...o....\n"
     ]
    },
    {
     "ename": "AssertionError",
     "evalue": "27",
     "output_type": "error",
     "traceback": [
      "\u001b[0;31m---------------------------------------------------------------------------\u001b[0m",
      "\u001b[0;31mAssertionError\u001b[0m                            Traceback (most recent call last)",
      "Cell \u001b[0;32mIn [5], line 57\u001b[0m\n\u001b[1;32m     54\u001b[0m \u001b[38;5;28;01mdef\u001b[39;00m \u001b[38;5;21mtest\u001b[39m():\n\u001b[1;32m     55\u001b[0m     \u001b[38;5;28;01massert\u001b[39;00m (a\u001b[38;5;241m:=\u001b[39mcountAliveCells([\u001b[38;5;124m\"\u001b[39m\u001b[38;5;124moo\u001b[39m\u001b[38;5;124m\"\u001b[39m,\u001b[38;5;124m\"\u001b[39m\u001b[38;5;124mo.\u001b[39m\u001b[38;5;124m\"\u001b[39m], \u001b[38;5;241m3\u001b[39m)) \u001b[38;5;241m==\u001b[39m \u001b[38;5;241m36\u001b[39m, a\n\u001b[0;32m---> 57\u001b[0m \u001b[43mtest\u001b[49m\u001b[43m(\u001b[49m\u001b[43m)\u001b[49m\n",
      "Cell \u001b[0;32mIn [5], line 55\u001b[0m, in \u001b[0;36mtest\u001b[0;34m()\u001b[0m\n\u001b[1;32m     54\u001b[0m \u001b[38;5;28;01mdef\u001b[39;00m \u001b[38;5;21mtest\u001b[39m():\n\u001b[0;32m---> 55\u001b[0m     \u001b[38;5;28;01massert\u001b[39;00m (a\u001b[38;5;241m:=\u001b[39mcountAliveCells([\u001b[38;5;124m\"\u001b[39m\u001b[38;5;124moo\u001b[39m\u001b[38;5;124m\"\u001b[39m,\u001b[38;5;124m\"\u001b[39m\u001b[38;5;124mo.\u001b[39m\u001b[38;5;124m\"\u001b[39m], \u001b[38;5;241m3\u001b[39m)) \u001b[38;5;241m==\u001b[39m \u001b[38;5;241m36\u001b[39m, a\n",
      "\u001b[0;31mAssertionError\u001b[0m: 27"
     ]
    }
   ],
   "source": [
    "from numpy import ones, bool_\n",
    "from typing import List\n",
    "import copy\n",
    "\n",
    "def get_lattice(f):\n",
    "    size = [4000, 4000]\n",
    "    lattice = ones(size, dtype=bool_)\n",
    "    lattice = ~lattice\n",
    "    \n",
    "    off = 2000\n",
    "    for i, row in enumerate(f):\n",
    "        for j,char in enumerate(row):\n",
    "            lattice[off+i,off+j] = True if char == 'o' else False\n",
    "            \n",
    "    x_min = off\n",
    "    x_max = off+len(f[0])\n",
    "    y_min = off\n",
    "    y_max = off+len(f)\n",
    "            \n",
    "    return lattice, x_min, x_max, y_min, y_max\n",
    "\n",
    "def print_lattice(lattice):\n",
    "    \n",
    "    for row in lattice:\n",
    "        s = ''\n",
    "        for i in range(row.size):\n",
    "            s += 'o' if row[i] else '.'\n",
    "        print(s)\n",
    "\n",
    "def countAliveCells(f: List[str], K: int) -> int:\n",
    "    lattice, x_min, x_max, y_min, y_max = get_lattice(f)\n",
    "    before = copy.deepcopy(lattice)\n",
    "    \n",
    "    n_alive = sum([row.count('o') for row in f])\n",
    "    \n",
    "    for k in range(K):\n",
    "        \n",
    "        before = copy.deepcopy(lattice)\n",
    "        \n",
    "        for x in range(x_min, x_max+1):\n",
    "            for y in range(y_min, y_max):\n",
    "                if not before[x,y] and \\\n",
    "                  (before[x+1,y] or before[x,y+1] or before[x-1,y] or before[x,y-1]):\n",
    "                    lattice[x,y] = True\n",
    "                    n_alive += 1\n",
    "        x_min -= 1\n",
    "        x_max += 1\n",
    "        y_min -= 1\n",
    "        y_max += 1\n",
    "\n",
    "        print_lattice(lattice[x_min:x_max,y_min:y_max])\n",
    "    return n_alive\n",
    "                        \n",
    "def test():\n",
    "    assert (a:=countAliveCells([\"oo\",\"o.\"], 3)) == 36, a\n",
    "    \n",
    "test()"
   ]
  },
  {
   "cell_type": "markdown",
   "id": "2fb5cb77",
   "metadata": {
    "execution_time": [
     1666853060090,
     1666853099858
    ]
   },
   "source": [
    "The estimation of the initial x_min, x_max, y_min and y_max if wrong because I need to take the neighbors of 'o'."
   ]
  },
  {
   "cell_type": "code",
   "execution_count": 6,
   "id": "e1400972",
   "metadata": {},
   "outputs": [
    {
     "name": "stdout",
     "output_type": "stream",
     "text": [
      "......\n",
      "..oo..\n",
      ".oooo.\n",
      ".ooo..\n",
      "..o...\n",
      "......\n",
      "........\n",
      "...oo...\n",
      "..oooo..\n",
      ".oooooo.\n",
      ".ooooo..\n",
      "..ooo...\n",
      "...o....\n",
      "........\n",
      "..........\n",
      "....oo....\n",
      "...oooo...\n",
      "..oooooo..\n",
      ".oooooooo.\n",
      ".ooooooo..\n",
      "..ooooo...\n",
      "...ooo....\n",
      "....o.....\n",
      "..........\n",
      "done\n"
     ]
    }
   ],
   "source": [
    "from numpy import ones, bool_\n",
    "from typing import List\n",
    "import copy\n",
    "\n",
    "def get_lattice(f):\n",
    "    size = [4000, 4000]\n",
    "    lattice = ones(size, dtype=bool_)\n",
    "    lattice = ~lattice\n",
    "    \n",
    "    off = 2000\n",
    "    for i, row in enumerate(f):\n",
    "        for j,char in enumerate(row):\n",
    "            lattice[off+i,off+j] = True if char == 'o' else False\n",
    "            \n",
    "    x_min = off-1\n",
    "    x_max = off+len(f[0])+1\n",
    "    y_min = off-1\n",
    "    y_max = off+len(f)+1\n",
    "            \n",
    "    return lattice, x_min, x_max, y_min, y_max\n",
    "\n",
    "def print_lattice(lattice):\n",
    "    \n",
    "    for row in lattice:\n",
    "        s = ''\n",
    "        for i in range(row.size):\n",
    "            s += 'o' if row[i] else '.'\n",
    "        print(s)\n",
    "\n",
    "def countAliveCells(f: List[str], K: int) -> int:\n",
    "    lattice, x_min, x_max, y_min, y_max = get_lattice(f)\n",
    "    before = copy.deepcopy(lattice)\n",
    "    \n",
    "    n_alive = sum([row.count('o') for row in f])\n",
    "    \n",
    "    for k in range(K):\n",
    "        \n",
    "        before = copy.deepcopy(lattice)\n",
    "        \n",
    "        for x in range(x_min, x_max+1):\n",
    "            for y in range(y_min, y_max):\n",
    "                if not before[x,y] and \\\n",
    "                  (before[x+1,y] or before[x,y+1] or before[x-1,y] or before[x,y-1]):\n",
    "                    lattice[x,y] = True\n",
    "                    n_alive += 1\n",
    "        x_min -= 1\n",
    "        x_max += 1\n",
    "        y_min -= 1\n",
    "        y_max += 1\n",
    "\n",
    "        print_lattice(lattice[x_min:x_max,y_min:y_max])\n",
    "    return n_alive\n",
    "                        \n",
    "def test():\n",
    "    assert (a:=countAliveCells([\"oo\",\"o.\"], 3)) == 36, a\n",
    "    print('done')\n",
    "test()"
   ]
  },
  {
   "cell_type": "markdown",
   "id": "d57482dc",
   "metadata": {
    "execution_time": [
     1666850249342,
     1666852503538,
     1666853106245
    ]
   },
   "source": [
    "I will remove print and keep testing"
   ]
  },
  {
   "cell_type": "code",
   "execution_count": 7,
   "id": "3cf50587",
   "metadata": {},
   "outputs": [
    {
     "ename": "KeyboardInterrupt",
     "evalue": "",
     "output_type": "error",
     "traceback": [
      "\u001b[0;31m---------------------------------------------------------------------------\u001b[0m",
      "\u001b[0;31mKeyboardInterrupt\u001b[0m                         Traceback (most recent call last)",
      "Cell \u001b[0;32mIn [7], line 65\u001b[0m\n\u001b[1;32m     61\u001b[0m     t2 \u001b[38;5;241m=\u001b[39m datetime\u001b[38;5;241m.\u001b[39mnow()\n\u001b[1;32m     63\u001b[0m     \u001b[38;5;28mprint\u001b[39m(\u001b[38;5;124mf\u001b[39m\u001b[38;5;124m'\u001b[39m\u001b[38;5;124melapsed time \u001b[39m\u001b[38;5;132;01m{\u001b[39;00mt2\u001b[38;5;241m-\u001b[39mt1\u001b[38;5;132;01m}\u001b[39;00m\u001b[38;5;124m'\u001b[39m)\n\u001b[0;32m---> 65\u001b[0m \u001b[43mtest\u001b[49m\u001b[43m(\u001b[49m\u001b[43m)\u001b[49m\n",
      "Cell \u001b[0;32mIn [7], line 59\u001b[0m, in \u001b[0;36mtest\u001b[0;34m()\u001b[0m\n\u001b[1;32m     57\u001b[0m \u001b[38;5;28;01massert\u001b[39;00m (a\u001b[38;5;241m:=\u001b[39mcountAliveCells([\u001b[38;5;124m\"\u001b[39m\u001b[38;5;124moo\u001b[39m\u001b[38;5;124m\"\u001b[39m,\u001b[38;5;124m\"\u001b[39m\u001b[38;5;124mo.\u001b[39m\u001b[38;5;124m\"\u001b[39m], \u001b[38;5;241m3\u001b[39m)) \u001b[38;5;241m==\u001b[39m \u001b[38;5;241m36\u001b[39m, a\n\u001b[1;32m     58\u001b[0m \u001b[38;5;28;01massert\u001b[39;00m (a\u001b[38;5;241m:=\u001b[39mcountAliveCells([\u001b[38;5;124m\"\u001b[39m\u001b[38;5;124m..\u001b[39m\u001b[38;5;124m\"\u001b[39m,\u001b[38;5;124m\"\u001b[39m\u001b[38;5;124m..\u001b[39m\u001b[38;5;124m\"\u001b[39m], \u001b[38;5;241m23\u001b[39m)) \u001b[38;5;241m==\u001b[39m \u001b[38;5;241m0\u001b[39m, a\n\u001b[0;32m---> 59\u001b[0m \u001b[38;5;28;01massert\u001b[39;00m (a\u001b[38;5;241m:=\u001b[39m\u001b[43mcountAliveCells\u001b[49m\u001b[43m(\u001b[49m\u001b[43m[\u001b[49m\u001b[38;5;124;43m\"\u001b[39;49m\u001b[38;5;124;43m..\u001b[39;49m\u001b[38;5;124;43m\"\u001b[39;49m\u001b[43m,\u001b[49m\u001b[38;5;124;43m\"\u001b[39;49m\u001b[38;5;124;43m..\u001b[39;49m\u001b[38;5;124;43m\"\u001b[39;49m\u001b[43m]\u001b[49m\u001b[43m,\u001b[49m\u001b[43m \u001b[49m\u001b[38;5;241;43m1500\u001b[39;49m\u001b[43m)\u001b[49m) \u001b[38;5;241m==\u001b[39m \u001b[38;5;241m0\u001b[39m, a\n\u001b[1;32m     61\u001b[0m t2 \u001b[38;5;241m=\u001b[39m datetime\u001b[38;5;241m.\u001b[39mnow()\n\u001b[1;32m     63\u001b[0m \u001b[38;5;28mprint\u001b[39m(\u001b[38;5;124mf\u001b[39m\u001b[38;5;124m'\u001b[39m\u001b[38;5;124melapsed time \u001b[39m\u001b[38;5;132;01m{\u001b[39;00mt2\u001b[38;5;241m-\u001b[39mt1\u001b[38;5;132;01m}\u001b[39;00m\u001b[38;5;124m'\u001b[39m)\n",
      "Cell \u001b[0;32mIn [7], line 44\u001b[0m, in \u001b[0;36mcountAliveCells\u001b[0;34m(f, K)\u001b[0m\n\u001b[1;32m     41\u001b[0m \u001b[38;5;28;01mfor\u001b[39;00m x \u001b[38;5;129;01min\u001b[39;00m \u001b[38;5;28mrange\u001b[39m(x_min, x_max\u001b[38;5;241m+\u001b[39m\u001b[38;5;241m1\u001b[39m):\n\u001b[1;32m     42\u001b[0m     \u001b[38;5;28;01mfor\u001b[39;00m y \u001b[38;5;129;01min\u001b[39;00m \u001b[38;5;28mrange\u001b[39m(y_min, y_max):\n\u001b[1;32m     43\u001b[0m         \u001b[38;5;28;01mif\u001b[39;00m \u001b[38;5;129;01mnot\u001b[39;00m before[x,y] \u001b[38;5;129;01mand\u001b[39;00m \\\n\u001b[0;32m---> 44\u001b[0m           (before[x\u001b[38;5;241m+\u001b[39m\u001b[38;5;241m1\u001b[39m,y] \u001b[38;5;129;01mor\u001b[39;00m before[x,y\u001b[38;5;241m+\u001b[39m\u001b[38;5;241m1\u001b[39m] \u001b[38;5;129;01mor\u001b[39;00m before[x\u001b[38;5;241m-\u001b[39m\u001b[38;5;241m1\u001b[39m,y] \u001b[38;5;129;01mor\u001b[39;00m before[x,y\u001b[38;5;241m-\u001b[39m\u001b[38;5;241m1\u001b[39m]):\n\u001b[1;32m     45\u001b[0m             lattice[x,y] \u001b[38;5;241m=\u001b[39m \u001b[38;5;28;01mTrue\u001b[39;00m\n\u001b[1;32m     46\u001b[0m             n_alive \u001b[38;5;241m+\u001b[39m\u001b[38;5;241m=\u001b[39m \u001b[38;5;241m1\u001b[39m\n",
      "\u001b[0;31mKeyboardInterrupt\u001b[0m: "
     ]
    }
   ],
   "source": [
    "from datetime import datetime\n",
    "from numpy import ones, bool_\n",
    "from typing import List\n",
    "import copy\n",
    "\n",
    "def get_lattice(f):\n",
    "    size = [4000, 4000]\n",
    "    lattice = ones(size, dtype=bool_)\n",
    "    lattice = ~lattice\n",
    "    \n",
    "    off = 2000\n",
    "    for i, row in enumerate(f):\n",
    "        for j,char in enumerate(row):\n",
    "            lattice[off+i,off+j] = True if char == 'o' else False\n",
    "            \n",
    "    x_min = off-1\n",
    "    x_max = off+len(f[0])+1\n",
    "    y_min = off-1\n",
    "    y_max = off+len(f)+1\n",
    "            \n",
    "    return lattice, x_min, x_max, y_min, y_max\n",
    "\n",
    "def print_lattice(lattice):\n",
    "    \n",
    "    for row in lattice:\n",
    "        s = ''\n",
    "        for i in range(row.size):\n",
    "            s += 'o' if row[i] else '.'\n",
    "        print(s)\n",
    "\n",
    "def countAliveCells(f: List[str], K: int) -> int:\n",
    "    lattice, x_min, x_max, y_min, y_max = get_lattice(f)\n",
    "    before = copy.deepcopy(lattice)\n",
    "    \n",
    "    n_alive = sum([row.count('o') for row in f])\n",
    "    \n",
    "    for k in range(K):\n",
    "        \n",
    "        before = copy.deepcopy(lattice)\n",
    "        \n",
    "        for x in range(x_min, x_max+1):\n",
    "            for y in range(y_min, y_max):\n",
    "                if not before[x,y] and \\\n",
    "                  (before[x+1,y] or before[x,y+1] or before[x-1,y] or before[x,y-1]):\n",
    "                    lattice[x,y] = True\n",
    "                    n_alive += 1\n",
    "        x_min -= 1\n",
    "        x_max += 1\n",
    "        y_min -= 1\n",
    "        y_max += 1\n",
    "        \n",
    "    return n_alive\n",
    "                        \n",
    "def test():\n",
    "    t1 = datetime.now()\n",
    "    \n",
    "    assert (a:=countAliveCells([\"oo\",\"o.\"], 3)) == 36, a\n",
    "    assert (a:=countAliveCells([\"..\",\"..\"], 23)) == 0, a\n",
    "    assert (a:=countAliveCells([\"..\",\"..\"], 1500)) == 0, a\n",
    "    \n",
    "    t2 = datetime.now()\n",
    "    \n",
    "    print(f'elapsed time {t2-t1}')\n",
    "    \n",
    "test()"
   ]
  },
  {
   "cell_type": "markdown",
   "id": "c851df4e",
   "metadata": {
    "execution_time": [
     1666850467790,
     1666852517632,
     1666853120965
    ]
   },
   "source": [
    "I stopped because it is too slow.\n",
    "\n",
    "I will optimize it by keeping better track of x/y_min/_max"
   ]
  },
  {
   "cell_type": "code",
   "execution_count": 8,
   "id": "add1c050",
   "metadata": {},
   "outputs": [
    {
     "name": "stdout",
     "output_type": "stream",
     "text": [
      "3\n",
      "0\n",
      "0\n"
     ]
    },
    {
     "ename": "KeyboardInterrupt",
     "evalue": "",
     "output_type": "error",
     "traceback": [
      "\u001b[0;31m---------------------------------------------------------------------------\u001b[0m",
      "\u001b[0;31mKeyboardInterrupt\u001b[0m                         Traceback (most recent call last)",
      "Cell \u001b[0;32mIn [8], line 73\u001b[0m\n\u001b[1;32m     69\u001b[0m     t2 \u001b[38;5;241m=\u001b[39m datetime\u001b[38;5;241m.\u001b[39mnow()\n\u001b[1;32m     71\u001b[0m     \u001b[38;5;28mprint\u001b[39m(\u001b[38;5;124mf\u001b[39m\u001b[38;5;124m'\u001b[39m\u001b[38;5;124melapsed time \u001b[39m\u001b[38;5;132;01m{\u001b[39;00mt2\u001b[38;5;241m-\u001b[39mt1\u001b[38;5;132;01m}\u001b[39;00m\u001b[38;5;124m'\u001b[39m)\n\u001b[0;32m---> 73\u001b[0m \u001b[43mtest\u001b[49m\u001b[43m(\u001b[49m\u001b[43m)\u001b[49m\n",
      "Cell \u001b[0;32mIn [8], line 67\u001b[0m, in \u001b[0;36mtest\u001b[0;34m()\u001b[0m\n\u001b[1;32m     65\u001b[0m \u001b[38;5;28;01massert\u001b[39;00m (a\u001b[38;5;241m:=\u001b[39mcountAliveCells([\u001b[38;5;124m\"\u001b[39m\u001b[38;5;124moo\u001b[39m\u001b[38;5;124m\"\u001b[39m,\u001b[38;5;124m\"\u001b[39m\u001b[38;5;124mo.\u001b[39m\u001b[38;5;124m\"\u001b[39m], \u001b[38;5;241m3\u001b[39m)) \u001b[38;5;241m==\u001b[39m \u001b[38;5;241m36\u001b[39m, a\n\u001b[1;32m     66\u001b[0m \u001b[38;5;28;01massert\u001b[39;00m (a\u001b[38;5;241m:=\u001b[39mcountAliveCells([\u001b[38;5;124m\"\u001b[39m\u001b[38;5;124m..\u001b[39m\u001b[38;5;124m\"\u001b[39m,\u001b[38;5;124m\"\u001b[39m\u001b[38;5;124m..\u001b[39m\u001b[38;5;124m\"\u001b[39m], \u001b[38;5;241m23\u001b[39m)) \u001b[38;5;241m==\u001b[39m \u001b[38;5;241m0\u001b[39m, a\n\u001b[0;32m---> 67\u001b[0m \u001b[38;5;28;01massert\u001b[39;00m (a\u001b[38;5;241m:=\u001b[39m\u001b[43mcountAliveCells\u001b[49m\u001b[43m(\u001b[49m\u001b[43m[\u001b[49m\u001b[38;5;124;43m\"\u001b[39;49m\u001b[38;5;124;43m..\u001b[39;49m\u001b[38;5;124;43m\"\u001b[39;49m\u001b[43m,\u001b[49m\u001b[38;5;124;43m\"\u001b[39;49m\u001b[38;5;124;43m..\u001b[39;49m\u001b[38;5;124;43m\"\u001b[39;49m\u001b[43m]\u001b[49m\u001b[43m,\u001b[49m\u001b[43m \u001b[49m\u001b[38;5;241;43m1500\u001b[39;49m\u001b[43m)\u001b[49m) \u001b[38;5;241m==\u001b[39m \u001b[38;5;241m0\u001b[39m, a\n\u001b[1;32m     69\u001b[0m t2 \u001b[38;5;241m=\u001b[39m datetime\u001b[38;5;241m.\u001b[39mnow()\n\u001b[1;32m     71\u001b[0m \u001b[38;5;28mprint\u001b[39m(\u001b[38;5;124mf\u001b[39m\u001b[38;5;124m'\u001b[39m\u001b[38;5;124melapsed time \u001b[39m\u001b[38;5;132;01m{\u001b[39;00mt2\u001b[38;5;241m-\u001b[39mt1\u001b[38;5;132;01m}\u001b[39;00m\u001b[38;5;124m'\u001b[39m)\n",
      "Cell \u001b[0;32mIn [8], line 45\u001b[0m, in \u001b[0;36mcountAliveCells\u001b[0;34m(f, K)\u001b[0m\n\u001b[1;32m     42\u001b[0m \u001b[38;5;28;01mfor\u001b[39;00m x \u001b[38;5;129;01min\u001b[39;00m \u001b[38;5;28mrange\u001b[39m(x_min, x_max\u001b[38;5;241m+\u001b[39m\u001b[38;5;241m1\u001b[39m):\n\u001b[1;32m     43\u001b[0m     \u001b[38;5;28;01mfor\u001b[39;00m y \u001b[38;5;129;01min\u001b[39;00m \u001b[38;5;28mrange\u001b[39m(y_min, y_max\u001b[38;5;241m+\u001b[39m\u001b[38;5;241m1\u001b[39m):\n\u001b[1;32m     44\u001b[0m         \u001b[38;5;28;01mif\u001b[39;00m \u001b[38;5;129;01mnot\u001b[39;00m before[x,y] \u001b[38;5;129;01mand\u001b[39;00m \\\n\u001b[0;32m---> 45\u001b[0m           (\u001b[43mbefore\u001b[49m\u001b[43m[\u001b[49m\u001b[43mx\u001b[49m\u001b[38;5;241;43m+\u001b[39;49m\u001b[38;5;241;43m1\u001b[39;49m\u001b[43m,\u001b[49m\u001b[43my\u001b[49m\u001b[43m]\u001b[49m \u001b[38;5;129;01mor\u001b[39;00m before[x,y\u001b[38;5;241m+\u001b[39m\u001b[38;5;241m1\u001b[39m] \u001b[38;5;129;01mor\u001b[39;00m before[x\u001b[38;5;241m-\u001b[39m\u001b[38;5;241m1\u001b[39m,y] \u001b[38;5;129;01mor\u001b[39;00m before[x,y\u001b[38;5;241m-\u001b[39m\u001b[38;5;241m1\u001b[39m]):\n\u001b[1;32m     46\u001b[0m             lattice[x,y] \u001b[38;5;241m=\u001b[39m \u001b[38;5;28;01mTrue\u001b[39;00m\n\u001b[1;32m     47\u001b[0m             n_alive \u001b[38;5;241m+\u001b[39m\u001b[38;5;241m=\u001b[39m \u001b[38;5;241m1\u001b[39m\n",
      "\u001b[0;31mKeyboardInterrupt\u001b[0m: "
     ]
    }
   ],
   "source": [
    "from datetime import datetime\n",
    "from numpy import ones, bool_\n",
    "from typing import List\n",
    "import copy\n",
    "\n",
    "def get_lattice(f):\n",
    "    size = [4000, 4000]\n",
    "    lattice = ones(size, dtype=bool_)\n",
    "    lattice = ~lattice\n",
    "    \n",
    "    off = 2000\n",
    "    for i, row in enumerate(f):\n",
    "        for j,char in enumerate(row):\n",
    "            lattice[off+i,off+j] = True if char == 'o' else False\n",
    "            \n",
    "    x_min = off-1\n",
    "    x_max = off+len(f[0])+1\n",
    "    y_min = off-1\n",
    "    y_max = off+len(f)+1\n",
    "            \n",
    "    return lattice, x_min, x_max, y_min, y_max\n",
    "\n",
    "def print_lattice(lattice):\n",
    "    \n",
    "    for row in lattice:\n",
    "        s = ''\n",
    "        for i in range(row.size):\n",
    "            s += 'o' if row[i] else '.'\n",
    "        print(s)\n",
    "\n",
    "def countAliveCells(f: List[str], K: int) -> int:\n",
    "    lattice, x_min, x_max, y_min, y_max = get_lattice(f)\n",
    "    \n",
    "    n_alive = sum([row.count('o') for row in f])\n",
    "    print(n_alive)\n",
    "    \n",
    "    for k in range(K):\n",
    "        \n",
    "        before = copy.deepcopy(lattice)\n",
    "        _x_min, _x_max, _y_min, _y_max = x_min, x_max, y_min, y_max\n",
    "        \n",
    "        for x in range(x_min, x_max+1):\n",
    "            for y in range(y_min, y_max+1):\n",
    "                if not before[x,y] and \\\n",
    "                  (before[x+1,y] or before[x,y+1] or before[x-1,y] or before[x,y-1]):\n",
    "                    lattice[x,y] = True\n",
    "                    n_alive += 1\n",
    "                    \n",
    "                    if x < _x_min:\n",
    "                        _x_min = x\n",
    "                    if x > _x_max:\n",
    "                        _x_max = x\n",
    "                    if y < _y_min:\n",
    "                        _y_min = y\n",
    "                    if y > _y_max:\n",
    "                        _y_max = y\n",
    "                        \n",
    "        x_min, x_max, y_min, y_max = _x_min-1, _x_max+1, _y_min-1, _y_max+1\n",
    "        \n",
    "    return n_alive\n",
    "                        \n",
    "def test():\n",
    "    t1 = datetime.now()\n",
    "    \n",
    "    assert (a:=countAliveCells([\"oo\",\"o.\"], 3)) == 36, a\n",
    "    assert (a:=countAliveCells([\"..\",\"..\"], 23)) == 0, a\n",
    "    assert (a:=countAliveCells([\"..\",\"..\"], 1500)) == 0, a\n",
    "    \n",
    "    t2 = datetime.now()\n",
    "    \n",
    "    print(f'elapsed time {t2-t1}')\n",
    "    \n",
    "test()"
   ]
  },
  {
   "cell_type": "markdown",
   "id": "86cfb6ce",
   "metadata": {
    "execution_time": [
     1666850852540,
     1666852545886,
     1666853264690,
     1666853394638
    ]
   },
   "source": [
    "It is still too slow.\n",
    "\n",
    "Actually, now I am growing x_min, x_max, y_min, y_max, even if the cluster of 'o's do not increase. I will fix this.\n",
    "\n",
    "Also, I do not need to a complete copy of the lattice. Now, before will be a subset of lattice."
   ]
  },
  {
   "cell_type": "code",
   "execution_count": 10,
   "id": "7d9a6a83",
   "metadata": {},
   "outputs": [
    {
     "name": "stdout",
     "output_type": "stream",
     "text": [
      "elapsed time 0:00:00.066606\n"
     ]
    }
   ],
   "source": [
    "from datetime import datetime\n",
    "from numpy import ones, bool_\n",
    "from typing import List\n",
    "import copy\n",
    "\n",
    "def get_lattice(f):\n",
    "    size = [4000, 4000]\n",
    "    lattice = ones(size, dtype=bool_)\n",
    "    lattice = ~lattice\n",
    "    \n",
    "    off = 2000\n",
    "    for i, row in enumerate(f):\n",
    "        for j,char in enumerate(row):\n",
    "            lattice[off+i,off+j] = True if char == 'o' else False\n",
    "            \n",
    "    x_min = off-1\n",
    "    x_max = off+len(f[0])+1\n",
    "    y_min = off-1\n",
    "    y_max = off+len(f)+1\n",
    "            \n",
    "    return lattice, x_min, x_max, y_min, y_max\n",
    "\n",
    "def print_lattice(lattice):\n",
    "    \n",
    "    for row in lattice:\n",
    "        s = ''\n",
    "        for i in range(row.size):\n",
    "            s += 'o' if row[i] else '.'\n",
    "        print(s)\n",
    "\n",
    "def countAliveCells(f: List[str], K: int) -> int:\n",
    "    lattice, x_min, x_max, y_min, y_max = get_lattice(f)\n",
    "    \n",
    "    n_alive = sum([row.count('o') for row in f])\n",
    "    \n",
    "    for k in range(K):\n",
    "#         print(k)\n",
    "        before = copy.deepcopy(lattice[x_min-1:x_max+2,y_min-1:y_max+2])\n",
    "        _x_min, _x_max, _y_min, _y_max = x_min, x_max, y_min, y_max\n",
    "        \n",
    "        for x in range(x_min, x_max+1):\n",
    "            for y in range(y_min, y_max+1):\n",
    "                if not before[x-x_min+1,y-y_min+1] and \\\n",
    "                      (before[x+1-x_min+1,y-y_min+1] or before[x-x_min+1,y+1-y_min+1] or\n",
    "                       before[x-1-x_min+1,y-y_min+1] or before[x-x_min+1,y-1-y_min+1]):\n",
    "                    lattice[x,y] = True\n",
    "                    n_alive += 1\n",
    "                    \n",
    "                    if x-1 < _x_min:\n",
    "                        _x_min = x-1\n",
    "                    if x+1 > _x_max:\n",
    "                        _x_max = x+1\n",
    "                    if y-1 < _y_min:\n",
    "                        _y_min = y-1\n",
    "                    if y+1 > _y_max:\n",
    "                        _y_max = y+1\n",
    "        x_min, x_max, y_min, y_max = _x_min, _x_max, _y_min, _y_max\n",
    "        \n",
    "    return n_alive\n",
    "                        \n",
    "def test():\n",
    "    t1 = datetime.now()\n",
    "    \n",
    "    assert (a:=countAliveCells([\"oo\",\"o.\"], 3)) == 36, a\n",
    "    assert (a:=countAliveCells([\"..\",\"..\"], 23)) == 0, a\n",
    "    assert (a:=countAliveCells([\"..\",\"..\"], 1500)) == 0, a\n",
    "    \n",
    "    t2 = datetime.now()\n",
    "    \n",
    "    print(f'elapsed time {t2-t1}')\n",
    "    \n",
    "test()"
   ]
  },
  {
   "cell_type": "markdown",
   "id": "6097852e",
   "metadata": {},
   "source": [
    "Nice, it is very fast.\n",
    "\n",
    "Let me keep testing."
   ]
  },
  {
   "cell_type": "code",
   "execution_count": 11,
   "id": "d7b5d3cc",
   "metadata": {},
   "outputs": [
    {
     "ename": "KeyboardInterrupt",
     "evalue": "",
     "output_type": "error",
     "traceback": [
      "\u001b[0;31m---------------------------------------------------------------------------\u001b[0m",
      "\u001b[0;31mKeyboardInterrupt\u001b[0m                         Traceback (most recent call last)",
      "Cell \u001b[0;32mIn [11], line 12\u001b[0m\n\u001b[1;32m      8\u001b[0m     t2 \u001b[38;5;241m=\u001b[39m datetime\u001b[38;5;241m.\u001b[39mnow()\n\u001b[1;32m     10\u001b[0m     \u001b[38;5;28mprint\u001b[39m(\u001b[38;5;124mf\u001b[39m\u001b[38;5;124m'\u001b[39m\u001b[38;5;124melapsed time \u001b[39m\u001b[38;5;132;01m{\u001b[39;00mt2\u001b[38;5;241m-\u001b[39mt1\u001b[38;5;132;01m}\u001b[39;00m\u001b[38;5;124m'\u001b[39m)\n\u001b[0;32m---> 12\u001b[0m \u001b[43mtest\u001b[49m\u001b[43m(\u001b[49m\u001b[43m)\u001b[49m\n",
      "Cell \u001b[0;32mIn [11], line 7\u001b[0m, in \u001b[0;36mtest\u001b[0;34m()\u001b[0m\n\u001b[1;32m      5\u001b[0m \u001b[38;5;28;01massert\u001b[39;00m (a\u001b[38;5;241m:=\u001b[39mcountAliveCells([\u001b[38;5;124m\"\u001b[39m\u001b[38;5;124m..\u001b[39m\u001b[38;5;124m\"\u001b[39m,\u001b[38;5;124m\"\u001b[39m\u001b[38;5;124m..\u001b[39m\u001b[38;5;124m\"\u001b[39m], \u001b[38;5;241m23\u001b[39m)) \u001b[38;5;241m==\u001b[39m \u001b[38;5;241m0\u001b[39m, a\n\u001b[1;32m      6\u001b[0m \u001b[38;5;28;01massert\u001b[39;00m (a\u001b[38;5;241m:=\u001b[39mcountAliveCells([\u001b[38;5;124m\"\u001b[39m\u001b[38;5;124m..\u001b[39m\u001b[38;5;124m\"\u001b[39m,\u001b[38;5;124m\"\u001b[39m\u001b[38;5;124m..\u001b[39m\u001b[38;5;124m\"\u001b[39m], \u001b[38;5;241m1500\u001b[39m)) \u001b[38;5;241m==\u001b[39m \u001b[38;5;241m0\u001b[39m, a\n\u001b[0;32m----> 7\u001b[0m \u001b[38;5;28;01massert\u001b[39;00m (a\u001b[38;5;241m:=\u001b[39m\u001b[43mcountAliveCells\u001b[49m\u001b[43m(\u001b[49m\u001b[43m[\u001b[49m\u001b[38;5;124;43m\"\u001b[39;49m\u001b[38;5;124;43mo\u001b[39;49m\u001b[38;5;124;43m\"\u001b[39;49m\u001b[43m]\u001b[49m\u001b[43m,\u001b[49m\u001b[43m \u001b[49m\u001b[38;5;241;43m1000\u001b[39;49m\u001b[43m)\u001b[49m) \u001b[38;5;241m==\u001b[39m \u001b[38;5;241m2002001\u001b[39m, a\n\u001b[1;32m      8\u001b[0m t2 \u001b[38;5;241m=\u001b[39m datetime\u001b[38;5;241m.\u001b[39mnow()\n\u001b[1;32m     10\u001b[0m \u001b[38;5;28mprint\u001b[39m(\u001b[38;5;124mf\u001b[39m\u001b[38;5;124m'\u001b[39m\u001b[38;5;124melapsed time \u001b[39m\u001b[38;5;132;01m{\u001b[39;00mt2\u001b[38;5;241m-\u001b[39mt1\u001b[38;5;132;01m}\u001b[39;00m\u001b[38;5;124m'\u001b[39m)\n",
      "Cell \u001b[0;32mIn [10], line 44\u001b[0m, in \u001b[0;36mcountAliveCells\u001b[0;34m(f, K)\u001b[0m\n\u001b[1;32m     41\u001b[0m \u001b[38;5;28;01mfor\u001b[39;00m x \u001b[38;5;129;01min\u001b[39;00m \u001b[38;5;28mrange\u001b[39m(x_min, x_max\u001b[38;5;241m+\u001b[39m\u001b[38;5;241m1\u001b[39m):\n\u001b[1;32m     42\u001b[0m     \u001b[38;5;28;01mfor\u001b[39;00m y \u001b[38;5;129;01min\u001b[39;00m \u001b[38;5;28mrange\u001b[39m(y_min, y_max\u001b[38;5;241m+\u001b[39m\u001b[38;5;241m1\u001b[39m):\n\u001b[1;32m     43\u001b[0m         \u001b[38;5;28;01mif\u001b[39;00m \u001b[38;5;129;01mnot\u001b[39;00m before[x\u001b[38;5;241m-\u001b[39mx_min\u001b[38;5;241m+\u001b[39m\u001b[38;5;241m1\u001b[39m,y\u001b[38;5;241m-\u001b[39my_min\u001b[38;5;241m+\u001b[39m\u001b[38;5;241m1\u001b[39m] \u001b[38;5;129;01mand\u001b[39;00m \\\n\u001b[0;32m---> 44\u001b[0m               (\u001b[43mbefore\u001b[49m\u001b[43m[\u001b[49m\u001b[43mx\u001b[49m\u001b[38;5;241;43m+\u001b[39;49m\u001b[38;5;241;43m1\u001b[39;49m\u001b[38;5;241;43m-\u001b[39;49m\u001b[43mx_min\u001b[49m\u001b[38;5;241;43m+\u001b[39;49m\u001b[38;5;241;43m1\u001b[39;49m\u001b[43m,\u001b[49m\u001b[43my\u001b[49m\u001b[38;5;241;43m-\u001b[39;49m\u001b[43my_min\u001b[49m\u001b[38;5;241;43m+\u001b[39;49m\u001b[38;5;241;43m1\u001b[39;49m\u001b[43m]\u001b[49m \u001b[38;5;129;01mor\u001b[39;00m before[x\u001b[38;5;241m-\u001b[39mx_min\u001b[38;5;241m+\u001b[39m\u001b[38;5;241m1\u001b[39m,y\u001b[38;5;241m+\u001b[39m\u001b[38;5;241m1\u001b[39m\u001b[38;5;241m-\u001b[39my_min\u001b[38;5;241m+\u001b[39m\u001b[38;5;241m1\u001b[39m] \u001b[38;5;129;01mor\u001b[39;00m\n\u001b[1;32m     45\u001b[0m                before[x\u001b[38;5;241m-\u001b[39m\u001b[38;5;241m1\u001b[39m\u001b[38;5;241m-\u001b[39mx_min\u001b[38;5;241m+\u001b[39m\u001b[38;5;241m1\u001b[39m,y\u001b[38;5;241m-\u001b[39my_min\u001b[38;5;241m+\u001b[39m\u001b[38;5;241m1\u001b[39m] \u001b[38;5;129;01mor\u001b[39;00m before[x\u001b[38;5;241m-\u001b[39mx_min\u001b[38;5;241m+\u001b[39m\u001b[38;5;241m1\u001b[39m,y\u001b[38;5;241m-\u001b[39m\u001b[38;5;241m1\u001b[39m\u001b[38;5;241m-\u001b[39my_min\u001b[38;5;241m+\u001b[39m\u001b[38;5;241m1\u001b[39m]):\n\u001b[1;32m     46\u001b[0m             lattice[x,y] \u001b[38;5;241m=\u001b[39m \u001b[38;5;28;01mTrue\u001b[39;00m\n\u001b[1;32m     47\u001b[0m             n_alive \u001b[38;5;241m+\u001b[39m\u001b[38;5;241m=\u001b[39m \u001b[38;5;241m1\u001b[39m\n",
      "\u001b[0;31mKeyboardInterrupt\u001b[0m: "
     ]
    }
   ],
   "source": [
    "def test():\n",
    "    t1 = datetime.now()\n",
    "    \n",
    "    assert (a:=countAliveCells([\"oo\",\"o.\"], 3)) == 36, a\n",
    "    assert (a:=countAliveCells([\"..\",\"..\"], 23)) == 0, a\n",
    "    assert (a:=countAliveCells([\"..\",\"..\"], 1500)) == 0, a\n",
    "    assert (a:=countAliveCells([\"o\"], 1000)) == 2002001, a\n",
    "    t2 = datetime.now()\n",
    "    \n",
    "    print(f'elapsed time {t2-t1}')\n",
    "    \n",
    "test()"
   ]
  },
  {
   "cell_type": "markdown",
   "id": "887fbaa7",
   "metadata": {
    "execution_time": [
     1666851772746,
     1666851905394,
     1666853351791,
     1666853401441,
     1666853465307
    ]
   },
   "source": [
    "The last case seems to be very slow.\n",
    "\n",
    "Let me try to optimize it by not coping the lattice and use a list to update at once at the end."
   ]
  },
  {
   "cell_type": "code",
   "execution_count": 12,
   "id": "add98db9",
   "metadata": {},
   "outputs": [
    {
     "ename": "KeyboardInterrupt",
     "evalue": "",
     "output_type": "error",
     "traceback": [
      "\u001b[0;31m---------------------------------------------------------------------------\u001b[0m",
      "\u001b[0;31mKeyboardInterrupt\u001b[0m                         Traceback (most recent call last)",
      "Cell \u001b[0;32mIn [12], line 75\u001b[0m\n\u001b[1;32m     71\u001b[0m     t2 \u001b[38;5;241m=\u001b[39m datetime\u001b[38;5;241m.\u001b[39mnow()\n\u001b[1;32m     73\u001b[0m     \u001b[38;5;28mprint\u001b[39m(\u001b[38;5;124mf\u001b[39m\u001b[38;5;124m'\u001b[39m\u001b[38;5;124melapsed time \u001b[39m\u001b[38;5;132;01m{\u001b[39;00mt2\u001b[38;5;241m-\u001b[39mt1\u001b[38;5;132;01m}\u001b[39;00m\u001b[38;5;124m'\u001b[39m)\n\u001b[0;32m---> 75\u001b[0m \u001b[43mtest\u001b[49m\u001b[43m(\u001b[49m\u001b[43m)\u001b[49m\n",
      "Cell \u001b[0;32mIn [12], line 69\u001b[0m, in \u001b[0;36mtest\u001b[0;34m()\u001b[0m\n\u001b[1;32m     67\u001b[0m \u001b[38;5;28;01massert\u001b[39;00m (a\u001b[38;5;241m:=\u001b[39mcountAliveCells([\u001b[38;5;124m\"\u001b[39m\u001b[38;5;124m..\u001b[39m\u001b[38;5;124m\"\u001b[39m,\u001b[38;5;124m\"\u001b[39m\u001b[38;5;124m..\u001b[39m\u001b[38;5;124m\"\u001b[39m], \u001b[38;5;241m23\u001b[39m)) \u001b[38;5;241m==\u001b[39m \u001b[38;5;241m0\u001b[39m, a\n\u001b[1;32m     68\u001b[0m \u001b[38;5;28;01massert\u001b[39;00m (a\u001b[38;5;241m:=\u001b[39mcountAliveCells([\u001b[38;5;124m\"\u001b[39m\u001b[38;5;124m..\u001b[39m\u001b[38;5;124m\"\u001b[39m,\u001b[38;5;124m\"\u001b[39m\u001b[38;5;124m..\u001b[39m\u001b[38;5;124m\"\u001b[39m], \u001b[38;5;241m1500\u001b[39m)) \u001b[38;5;241m==\u001b[39m \u001b[38;5;241m0\u001b[39m, a\n\u001b[0;32m---> 69\u001b[0m \u001b[38;5;28;01massert\u001b[39;00m (a\u001b[38;5;241m:=\u001b[39m\u001b[43mcountAliveCells\u001b[49m\u001b[43m(\u001b[49m\u001b[43m[\u001b[49m\u001b[38;5;124;43m\"\u001b[39;49m\u001b[38;5;124;43mo\u001b[39;49m\u001b[38;5;124;43m\"\u001b[39;49m\u001b[43m]\u001b[49m\u001b[43m,\u001b[49m\u001b[43m \u001b[49m\u001b[38;5;241;43m1000\u001b[39;49m\u001b[43m)\u001b[49m) \u001b[38;5;241m==\u001b[39m \u001b[38;5;241m2002001\u001b[39m, a\n\u001b[1;32m     71\u001b[0m t2 \u001b[38;5;241m=\u001b[39m datetime\u001b[38;5;241m.\u001b[39mnow()\n\u001b[1;32m     73\u001b[0m \u001b[38;5;28mprint\u001b[39m(\u001b[38;5;124mf\u001b[39m\u001b[38;5;124m'\u001b[39m\u001b[38;5;124melapsed time \u001b[39m\u001b[38;5;132;01m{\u001b[39;00mt2\u001b[38;5;241m-\u001b[39mt1\u001b[38;5;132;01m}\u001b[39;00m\u001b[38;5;124m'\u001b[39m)\n",
      "Cell \u001b[0;32mIn [12], line 45\u001b[0m, in \u001b[0;36mcountAliveCells\u001b[0;34m(f, K)\u001b[0m\n\u001b[1;32m     41\u001b[0m \u001b[38;5;28;01mfor\u001b[39;00m x \u001b[38;5;129;01min\u001b[39;00m \u001b[38;5;28mrange\u001b[39m(x_min, x_max\u001b[38;5;241m+\u001b[39m\u001b[38;5;241m1\u001b[39m):\n\u001b[1;32m     42\u001b[0m     \u001b[38;5;28;01mfor\u001b[39;00m y \u001b[38;5;129;01min\u001b[39;00m \u001b[38;5;28mrange\u001b[39m(y_min, y_max\u001b[38;5;241m+\u001b[39m\u001b[38;5;241m1\u001b[39m):\n\u001b[1;32m     43\u001b[0m         \u001b[38;5;28;01mif\u001b[39;00m \u001b[38;5;129;01mnot\u001b[39;00m lattice[x,y] \u001b[38;5;129;01mand\u001b[39;00m \\\n\u001b[1;32m     44\u001b[0m               (lattice[x\u001b[38;5;241m+\u001b[39m\u001b[38;5;241m1\u001b[39m,y] \u001b[38;5;129;01mor\u001b[39;00m lattice[x,y\u001b[38;5;241m+\u001b[39m\u001b[38;5;241m1\u001b[39m] \u001b[38;5;129;01mor\u001b[39;00m\n\u001b[0;32m---> 45\u001b[0m                lattice[x\u001b[38;5;241m-\u001b[39m\u001b[38;5;241m1\u001b[39m,y] \u001b[38;5;129;01mor\u001b[39;00m \u001b[43mlattice\u001b[49m\u001b[43m[\u001b[49m\u001b[43mx\u001b[49m\u001b[43m,\u001b[49m\u001b[43my\u001b[49m\u001b[38;5;241;43m-\u001b[39;49m\u001b[38;5;241;43m1\u001b[39;49m\u001b[43m]\u001b[49m):\n\u001b[1;32m     46\u001b[0m             to_update\u001b[38;5;241m.\u001b[39mappend([x, y])\n\u001b[1;32m     48\u001b[0m             \u001b[38;5;28;01mif\u001b[39;00m x\u001b[38;5;241m-\u001b[39m\u001b[38;5;241m1\u001b[39m \u001b[38;5;241m<\u001b[39m _x_min:\n",
      "\u001b[0;31mKeyboardInterrupt\u001b[0m: "
     ]
    }
   ],
   "source": [
    "from datetime import datetime\n",
    "from numpy import ones, bool_\n",
    "from typing import List\n",
    "import copy\n",
    "\n",
    "def get_lattice(f):\n",
    "    size = [4000, 4000]\n",
    "    lattice = ones(size, dtype=bool_)\n",
    "    lattice = ~lattice\n",
    "    \n",
    "    off = 2000\n",
    "    for i, row in enumerate(f):\n",
    "        for j,char in enumerate(row):\n",
    "            lattice[off+i,off+j] = True if char == 'o' else False\n",
    "            \n",
    "    x_min = off-1\n",
    "    x_max = off+len(f[0])+1\n",
    "    y_min = off-1\n",
    "    y_max = off+len(f)+1\n",
    "            \n",
    "    return lattice, x_min, x_max, y_min, y_max\n",
    "\n",
    "def print_lattice(lattice):\n",
    "    \n",
    "    for row in lattice:\n",
    "        s = ''\n",
    "        for i in range(row.size):\n",
    "            s += 'o' if row[i] else '.'\n",
    "        print(s)\n",
    "\n",
    "def countAliveCells(f: List[str], K: int) -> int:\n",
    "    lattice, x_min, x_max, y_min, y_max = get_lattice(f)\n",
    "    \n",
    "    n_alive = sum([row.count('o') for row in f])\n",
    "    \n",
    "    for k in range(K):\n",
    "#         print(k)\n",
    "        to_update = []\n",
    "        _x_min, _x_max, _y_min, _y_max = x_min, x_max, y_min, y_max\n",
    "        \n",
    "        for x in range(x_min, x_max+1):\n",
    "            for y in range(y_min, y_max+1):\n",
    "                if not lattice[x,y] and \\\n",
    "                      (lattice[x+1,y] or lattice[x,y+1] or\n",
    "                       lattice[x-1,y] or lattice[x,y-1]):\n",
    "                    to_update.append([x, y])\n",
    "                    \n",
    "                    if x-1 < _x_min:\n",
    "                        _x_min = x-1\n",
    "                    if x+1 > _x_max:\n",
    "                        _x_max = x+1\n",
    "                    if y-1 < _y_min:\n",
    "                        _y_min = y-1\n",
    "                    if y+1 > _y_max:\n",
    "                        _y_max = y+1\n",
    "        n_alive += len(to_update)\n",
    "        for [x,y] in to_update:\n",
    "            lattice[x,y] = True\n",
    "        x_min, x_max, y_min, y_max = _x_min, _x_max, _y_min, _y_max\n",
    "        \n",
    "    return n_alive\n",
    "                        \n",
    "def test():\n",
    "    t1 = datetime.now()\n",
    "    \n",
    "    assert (a:=countAliveCells([\"oo\",\"o.\"], 3)) == 36, a\n",
    "    assert (a:=countAliveCells([\"..\",\"..\"], 23)) == 0, a\n",
    "    assert (a:=countAliveCells([\"..\",\"..\"], 1500)) == 0, a\n",
    "    assert (a:=countAliveCells([\"o\"], 1000)) == 2002001, a\n",
    "    \n",
    "    t2 = datetime.now()\n",
    "    \n",
    "    print(f'elapsed time {t2-t1}')\n",
    "    \n",
    "test()"
   ]
  },
  {
   "cell_type": "markdown",
   "id": "d79f4665",
   "metadata": {
    "execution_time": [
     1666853416760,
     1666853596131
    ]
   },
   "source": [
    "Stopping early as it did not improved the perfomance significantly.\n",
    "\n",
    "Matrices operations are usually much faster.\n",
    "I can implement this with matrices operations:\n",
    "if I tranlate the matrix 1 unit to the right/left/top/bottom and sum, this is equivalent to the process described.\n",
    "\n",
    "Lets try and see if it gets better perfomance."
   ]
  },
  {
   "cell_type": "code",
   "execution_count": 13,
   "id": "116d2327",
   "metadata": {},
   "outputs": [
    {
     "name": "stdout",
     "output_type": "stream",
     "text": [
      "elapsed time 0:00:41.039318\n"
     ]
    }
   ],
   "source": [
    "from datetime import datetime\n",
    "from numpy import ones, bool_\n",
    "from typing import List\n",
    "import copy\n",
    "\n",
    "def get_lattice(f):\n",
    "    size = [4000, 4000]\n",
    "    lattice = ones(size, dtype=bool_)\n",
    "    lattice = ~lattice\n",
    "    \n",
    "    off = 2000\n",
    "    for i, row in enumerate(f):\n",
    "        for j,char in enumerate(row):\n",
    "            lattice[off+i,off+j] = True if char == 'o' else False\n",
    "            \n",
    "    x_min = off-1\n",
    "    x_max = off+len(f[0])+1\n",
    "    y_min = off-1\n",
    "    y_max = off+len(f)+1\n",
    "            \n",
    "    return lattice, x_min, x_max, y_min, y_max\n",
    "\n",
    "def print_lattice(lattice):\n",
    "    \n",
    "    for row in lattice:\n",
    "        s = ''\n",
    "        for i in range(row.size):\n",
    "            s += 'o' if row[i] else '.'\n",
    "        print(s)\n",
    "\n",
    "def countAliveCells(f: List[str], K: int) -> int:\n",
    "    lattice, x_min, x_max, y_min, y_max = get_lattice(f)\n",
    "    \n",
    "    n_alive = sum([row.count('o') for row in f])\n",
    "    \n",
    "    for k in range(K):\n",
    "        \n",
    "        before = copy.deepcopy(lattice)\n",
    "        \n",
    "        lattice[1:,:] += before[:-1,:]\n",
    "        lattice[:-1,:] += before[1:,:]\n",
    "        lattice[:,1:] += before[:,:-1]\n",
    "        lattice[:,:-1] += before[:,1:]\n",
    "        \n",
    "    return lattice.sum().sum()\n",
    "                        \n",
    "def test():\n",
    "    t1 = datetime.now()\n",
    "    \n",
    "    assert (a:=countAliveCells([\"oo\",\"o.\"], 3)) == 36, a\n",
    "    assert (a:=countAliveCells([\"..\",\"..\"], 23)) == 0, a\n",
    "    assert (a:=countAliveCells([\"..\",\"..\"], 1500)) == 0, a\n",
    "    assert (a:=countAliveCells([\"o\"], 1000)) == 2002001, a\n",
    "    \n",
    "    t2 = datetime.now()\n",
    "    \n",
    "    print(f'elapsed time {t2-t1}')\n",
    "    \n",
    "test()\n"
   ]
  },
  {
   "cell_type": "markdown",
   "id": "91484113",
   "metadata": {
    "execution_time": [
     1666853635010
    ]
   },
   "source": [
    "It is slow but it is doing the job.\n",
    "\n",
    "Lets do the final test."
   ]
  },
  {
   "cell_type": "code",
   "execution_count": 14,
   "id": "a16039fe",
   "metadata": {},
   "outputs": [
    {
     "name": "stdout",
     "output_type": "stream",
     "text": [
      "elapsed time 0:01:00.651124\n"
     ]
    }
   ],
   "source": [
    "def test():\n",
    "    t1 = datetime.now()\n",
    "    \n",
    "    assert (a:=countAliveCells([\"o.oo.ooo\",\"o.o.o.oo\",\"ooo.oooo\",\"o.o..o.o\",\"o.o..o.o\",\"o..oooo.\",\"..o.o.oo\",\"oo.ooo.o\"], 1234)) == 3082590, a\n",
    "    assert (a:=countAliveCells([\"oo\",\"o.\"], 3)) == 36, a\n",
    "    assert (a:=countAliveCells([\"..\",\"..\"], 23)) == 0, a\n",
    "    assert (a:=countAliveCells([\"..\",\"..\"], 1500)) == 0, a\n",
    "    assert (a:=countAliveCells([\"o\"], 1000)) == 2002001, a\n",
    "    \n",
    "    t2 = datetime.now()\n",
    "    \n",
    "    print(f'elapsed time {t2-t1}')\n",
    "    \n",
    "test()"
   ]
  },
  {
   "cell_type": "markdown",
   "id": "5d1cc444",
   "metadata": {
    "execution_time": [
     1666852488827,
     1666853638372
    ]
   },
   "source": [
    "The solution is slow and could be improved, for example, by reducing the size of the lattice. However it should cover all constraints."
   ]
  },
  {
   "cell_type": "code",
   "execution_count": null,
   "id": "4ea38c15",
   "metadata": {},
   "outputs": [],
   "source": []
  }
 ],
 "metadata": {
  "kernelspec": {
   "display_name": "Python 3 (ipykernel)",
   "language": "python",
   "name": "python3"
  },
  "language_info": {
   "codemirror_mode": {
    "name": "ipython",
    "version": 3
   },
   "file_extension": ".py",
   "mimetype": "text/x-python",
   "name": "python",
   "nbconvert_exporter": "python",
   "pygments_lexer": "ipython3",
   "version": "3.9.13"
  }
 },
 "nbformat": 4,
 "nbformat_minor": 5
}
