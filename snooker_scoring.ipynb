{
 "cells": [
  {
   "cell_type": "markdown",
   "id": "37ebeb22",
   "metadata": {
    "execution_time": [
     1667082332909,
     1667100766140
    ],
    "special_cell_type": "prompt_instructions"
   },
   "source": [
    "# Coding Exercise\n",
    "\n",
    "You must correctly implement the function described in the prompt below.\n",
    "\n",
    "Feel free to test out pieces of code to help you write the solution.\n",
    "\n",
    "Please thoroughly test that the final code implements the function correctly."
   ]
  },
  {
   "cell_type": "markdown",
   "id": "3b63d4f1",
   "metadata": {
    "execution_time": [
     1667082333105,
     1667100766452
    ],
    "special_cell_type": "prompt_task"
   },
   "source": [
    "## Prompt\n",
    "\n",
    "**Function signature:** `scoreN(N: int, R: int, C: int) -> List[int]`\n",
    "\n",
    "    \n",
    "    Snooker is a cue sport. \n",
    "    It is played on a rectangular table covered with a green cloth. \n",
    "    The table has pockets at each of the four corners and in the middle of each long side. Using a cue stick, players must strike the white ball (\"cue ball\") and use it to get other balls of various colors into the pockets (\"pot the balls\"). Players accumulate points for successfully potting the balls.\n",
    "\n",
    "    Balls that are potted can be divided into two basic groups: the \"reds\" and the \"colors\". At the beginning of a game of snooker (\"a frame\"), there are R identical red balls (\"reds\"), worth 1 points each and C distinct balls of other colors (\"colors\"), worth 2, 3, 4, 5, ..., C+1 points respectively. (Traditional snooker has R = 15 and C = 6, but we are playing a slightly more general version.)\n",
    "\n",
    "    The balls must be potted in a correct sequence. The rules are as follows:\n",
    "\n",
    "    At any moment, one of the two players is at the table. This player can play until they either finish the frame by clearing the table, or until they make a mistake.\n",
    "    With each shot the current player must pot exactly one ball.\n",
    "    If there are still red balls on the table, the ball potted by the first shot must be red. A successfully potted red ball is removed from the game.\n",
    "    After potting a red ball the player must always pot one of the colors. A colored ball successfully potted this way is placed back onto its spot on the table.\n",
    "    The game continues this way (with the player alternately potting a red and a color) until all red balls are gone. After the last red ball the player does still have to pot a color that will get placed back onto the table.\n",
    "    Once the reds are gone, the player must finish the frame by potting the colors in increasing score order. The balls potted during this phase are no longer replaced on the table.\n",
    "\n",
    "    For example, suppose you just arrived at the table and there are three reds (1 point each), a yellow, a green, a brown, a blue, a pink, and a black ball (2 to 7 points) on the table. The maximum score in this situation is obtained by potting the balls in the order red, black (gets replaced), red, black (replaced), red, black (replaced), yellow, green, brown, blue, pink, black. Your total score for these balls would be 1 + 7 + 1 + 7 + 1 + 7 + 2 + 3 + 4 + 5 + 6 + 7 = 51.\n",
    "\n",
    "    You are given the values N, R and C.\n",
    "    At some point during a frame of snooker a player came to the table and potted a valid sequence of balls that scored them exactly N points.\n",
    "    Find and return any one such sequence.\n",
    "\n",
    "    Notes\n",
    "    -For the given constraints a solution always exists.\n",
    " \n",
    "    Constraints\n",
    "    -R will be between 10 and 100, inclusive.\n",
    "    -C will be between 2 and 10, inclusive.\n",
    "    -N will be between 1 and the maximum value that can be scored for the given R and C, inclusive.\n",
    " \n",
    "    Examples\n",
    "    0)\n",
    "        51\n",
    "    15\n",
    "    6\n",
    "\n",
    "    Returns: {1, 7, 1, 7, 1, 7, 2, 3, 4, 5, 6, 7 }\n",
    "    The first four examples all have standard snooker parameters R = 15 and C = 6.\n",
    "    In this one we are asked to score exactly 51 points. The return value shows one of multiple ways to do so.\n",
    "\n",
    "    1)\n",
    "        12\n",
    "    15\n",
    "    6\n",
    "\n",
    "    Returns: {3, 4, 5 }\n",
    "\n",
    "    Our example return value corresponds to the final part of the frame. The player came to the table when only five colored balls (worth 3, 4, 5, 6, 7 points) remained on the table, and successfully potted the first three.\n",
    "\n",
    "    There are many other valid ways to score 12 points, including {1, 5, 1, 5}, {1, 3, 1, 7}, and {1, 2, 2, 3, 4}.\n",
    "\n",
    "    2)\n",
    "        17\n",
    "    15\n",
    "    6\n",
    "\n",
    "    Returns: {1, 2, 2, 3, 4, 5 }\n",
    "    In the situation described by our example return value for this test case, the player starts with one last red and all colors on the table. The play then proceeds as follows:\n",
    "\n",
    "    The player pots the last red ball.\n",
    "    The player follows this by potting a colored ball (the yellow, worth 2 points). The yellow ball gets replaced.\n",
    "    Now there are only colors left on the table, so the player continues in the only possible way: by potting the balls worth 2, 3, 4, and then 5 points.\n",
    "\n",
    "    3)\n",
    "        16\n",
    "    15\n",
    "    6\n",
    "\n",
    "    Returns: {1, 7, 1, 6, 1 }\n",
    "    In our example output the last potted ball is a red one. (The player then made a mistake when trying to pot the next color.)\n",
    "\n",
    "    4)\n",
    "        45\n",
    "    10\n",
    "    2\n",
    "\n",
    "    Returns: {1, 3, 1, 3, 1, 3, 1, 3, 1, 3, 1, 3, 1, 3, 1, 3, 1, 3, 1, 3, 2, 3 }\n",
    "    This is the largest reachable value for these values of R and C. In order to score it, we must first play each red followed by the most expensive color, and then we need to play all colors in order.\n",
    "\n",
    "    "
   ]
  },
  {
   "cell_type": "markdown",
   "id": "508492a9",
   "metadata": {
    "execution_time": [
     1667088179619,
     1667088529003,
     1667100771453,
     1667100815763,
     1667100831313,
     1667100852058
    ]
   },
   "source": [
    "In this problem we need to find any order of the scored balls that match a given score.\n",
    "\n",
    "First, we need to play all red + colored balls.\n",
    "This means that we will be able to score R times 1+c, where c is the value of any colored ball.\n",
    "The ideia in this first step is to:\n",
    "\n",
    "1. include as many 1+c as possible, starting with the highest c.\n",
    "2. handle special cases:\n",
    "    - is it possible to solve the problem with only red balls?\n",
    "    - the remaining score is in colored balls (include the remaining ball and return)\n",
    "    - the remaining score cannot be 1, otherwise we will not be able to solve the problem with the colored balls\n",
    "    \n",
    "After clearing the red balls, we will handle the final step of the game where we will score the colored balls.\n",
    "This step is very similar to the previous:\n",
    "\n",
    "1. include highest score\n",
    "2. handle special case:\n",
    "    - the remaining score is 1: cannot include the highest ball.\n"
   ]
  },
  {
   "cell_type": "code",
   "execution_count": 1,
   "id": "4f991294",
   "metadata": {},
   "outputs": [
    {
     "name": "stdout",
     "output_type": "stream",
     "text": [
      "[1, 7, 1, 7, 1, 7, 1, 7, 1, 7, 1, 7, 3]\n",
      "51\n"
     ]
    }
   ],
   "source": [
    "from typing import List\n",
    "\n",
    "def scoreN(N: int, R: int, C: int) -> List[int]:\n",
    "    \n",
    "    colored_balls = list(range(2, C+2))\n",
    "    \n",
    "    score = 0\n",
    "    ball_list = []\n",
    "    \n",
    "    # if there are any reds\n",
    "    for r in range(R):\n",
    "        \n",
    "        remaining = N - score\n",
    "        \n",
    "        # just the remaining red ball\n",
    "        if remaining == R-r:\n",
    "            score += R-r\n",
    "            ball_list += [1 for _ in range(R-r)]\n",
    "            return ball_list\n",
    "        \n",
    "        elif remaining in colored_balls:\n",
    "            score += remaining\n",
    "            ball_list.append(remaining)\n",
    "            return ball_list\n",
    "            \n",
    "        # red + c ball\n",
    "        for c in range(C+1, 1, -1):\n",
    "            # try to add ball c + red\n",
    "            if remaining >= c+1 and N-score-c-1 != 1:\n",
    "                score += c+1\n",
    "                ball_list += [1, c]\n",
    "                break\n",
    "                \n",
    "            # special case where we would have only 1 point left if we add ball c + red\n",
    "            # in this case we only add the red ball\n",
    "            elif N-remaining+c+1 == 1:\n",
    "                score += 1\n",
    "                ball_list += [1]\n",
    "    \n",
    "    # colored balls\n",
    "    c_ball = []\n",
    "    for c in range(C+1, 1, -1):\n",
    "\n",
    "        if score == N:\n",
    "            ball_list += c_ball[::-1]\n",
    "            return ball_list\n",
    "        \n",
    "        if score+c <= N and N-score-c > 1:\n",
    "            score += c\n",
    "            c_ball.append(c)\n",
    "            \n",
    "    ball_list += c_ball[::-1]\n",
    "    return ball_list\n",
    "\n",
    "s = scoreN(51, 15, 6)\n",
    "print(s)\n",
    "print(sum(s))"
   ]
  },
  {
   "cell_type": "markdown",
   "id": "06c54436",
   "metadata": {
    "execution_time": [
     1667088595392,
     1667100888146
    ]
   },
   "source": [
    "The implementation looks correct. Let me implement other tests. "
   ]
  },
  {
   "cell_type": "code",
   "execution_count": 2,
   "id": "f20c91ab",
   "metadata": {},
   "outputs": [
    {
     "name": "stdout",
     "output_type": "stream",
     "text": [
      "------------------------\n",
      "[1, 7, 1, 7, 1, 7, 1, 7, 1, 7, 1, 7, 3] 51\n",
      "------------------------\n",
      "[1, 7, 4] 12\n",
      "------------------------\n",
      "[1, 7, 1, 6, 2] 17\n",
      "------------------------\n",
      "[1, 7, 1, 7] 16\n",
      "------------------------\n",
      "[1, 3, 1, 3, 1, 3, 1, 3, 1, 3, 1, 3, 1, 3, 1, 3, 1, 3, 1, 3, 3] 45\n"
     ]
    },
    {
     "ename": "AssertionError",
     "evalue": "(43, [45, 10, 2])",
     "output_type": "error",
     "traceback": [
      "\u001b[0;31m---------------------------------------------------------------------------\u001b[0m",
      "\u001b[0;31mAssertionError\u001b[0m                            Traceback (most recent call last)",
      "Cell \u001b[0;32mIn [2], line 13\u001b[0m\n\u001b[1;32m      9\u001b[0m         \u001b[38;5;28;01massert\u001b[39;00m \u001b[38;5;28msum\u001b[39m(r) \u001b[38;5;241m==\u001b[39m a[\u001b[38;5;241m0\u001b[39m], (\u001b[38;5;28msum\u001b[39m(r), a)\n\u001b[1;32m     11\u001b[0m     \u001b[38;5;28mprint\u001b[39m(\u001b[38;5;124m'\u001b[39m\u001b[38;5;124mdone\u001b[39m\u001b[38;5;124m'\u001b[39m)\n\u001b[0;32m---> 13\u001b[0m \u001b[43mtest\u001b[49m\u001b[43m(\u001b[49m\u001b[43m)\u001b[49m\n",
      "Cell \u001b[0;32mIn [2], line 9\u001b[0m, in \u001b[0;36mtest\u001b[0;34m()\u001b[0m\n\u001b[1;32m      7\u001b[0m     r \u001b[38;5;241m=\u001b[39m scoreN(\u001b[38;5;241m*\u001b[39ma)\n\u001b[1;32m      8\u001b[0m     \u001b[38;5;28mprint\u001b[39m(r, a[\u001b[38;5;241m0\u001b[39m])\n\u001b[0;32m----> 9\u001b[0m     \u001b[38;5;28;01massert\u001b[39;00m \u001b[38;5;28msum\u001b[39m(r) \u001b[38;5;241m==\u001b[39m a[\u001b[38;5;241m0\u001b[39m], (\u001b[38;5;28msum\u001b[39m(r), a)\n\u001b[1;32m     11\u001b[0m \u001b[38;5;28mprint\u001b[39m(\u001b[38;5;124m'\u001b[39m\u001b[38;5;124mdone\u001b[39m\u001b[38;5;124m'\u001b[39m)\n",
      "\u001b[0;31mAssertionError\u001b[0m: (43, [45, 10, 2])"
     ]
    }
   ],
   "source": [
    "def test():\n",
    "    args = [\n",
    "        [51, 15, 6], [12, 15, 6], [17, 15, 6], [16,15,6], [45,10,2],\n",
    "    ]\n",
    "    for a in args:\n",
    "        print('------------------------')\n",
    "        r = scoreN(*a)\n",
    "        print(r, a[0])\n",
    "        assert sum(r) == a[0], (sum(r), a)\n",
    "    \n",
    "    print('done')\n",
    "    \n",
    "test()"
   ]
  },
  {
   "cell_type": "markdown",
   "id": "3a484cf1",
   "metadata": {
    "execution_time": [
     1667100907100
    ]
   },
   "source": [
    "Here, I am failing the last case.\n",
    "\n",
    "Looks like I have a problem in the last step, since I am not adding the colored ball 2.\n",
    "\n",
    "I will print c and c_ball at the last loop."
   ]
  },
  {
   "cell_type": "code",
   "execution_count": 3,
   "id": "bb7e1d6b",
   "metadata": {},
   "outputs": [
    {
     "name": "stdout",
     "output_type": "stream",
     "text": [
      "3 []\n",
      "2 [3]\n",
      "2 [1, 3, 1, 3, 1, 3, 1, 3, 1, 3, 1, 3, 1, 3, 1, 3, 1, 3, 1, 3] [3]\n"
     ]
    },
    {
     "data": {
      "text/plain": [
       "[1, 3, 1, 3, 1, 3, 1, 3, 1, 3, 1, 3, 1, 3, 1, 3, 1, 3, 1, 3, 3]"
      ]
     },
     "execution_count": 3,
     "metadata": {},
     "output_type": "execute_result"
    }
   ],
   "source": [
    "from typing import List\n",
    "\n",
    "def scoreN(N: int, R: int, C: int) -> List[int]:\n",
    "    \n",
    "    colored_balls = list(range(2, C+2))\n",
    "    \n",
    "    score = 0\n",
    "    ball_list = []\n",
    "    \n",
    "    # if there are any reds\n",
    "    for r in range(R):\n",
    "        \n",
    "        remaining = N - score\n",
    "        \n",
    "        # just the remaining red ball\n",
    "        if remaining == R-r:\n",
    "            score += R-r\n",
    "            ball_list += [1 for _ in range(R-r)]\n",
    "            return ball_list\n",
    "        \n",
    "        elif remaining in colored_balls:\n",
    "            score += remaining\n",
    "            ball_list.append(remaining)\n",
    "            return ball_list\n",
    "            \n",
    "        # red + c ball\n",
    "        for c in range(C+1, 1, -1):\n",
    "            # try to add ball c + red\n",
    "            if remaining >= c+1 and N-score-c-1 != 1:\n",
    "                score += c+1\n",
    "                ball_list += [1, c]\n",
    "                break\n",
    "                \n",
    "            # special case where we would have only 1 point left if we add ball c + red\n",
    "            # in this case we only add the red ball\n",
    "            elif N-remaining+c+1 == 1:\n",
    "                score += 1\n",
    "                ball_list += [1]\n",
    "    \n",
    "    # colored balls\n",
    "    c_ball = []\n",
    "    for c in range(C+1, 1, -1):\n",
    "        print(c, c_ball)\n",
    "        if score == N:\n",
    "            ball_list += c_ball[::-1]\n",
    "            return ball_list\n",
    "        \n",
    "        if score+c <= N and N-score-c > 1:\n",
    "            score += c\n",
    "            c_ball.append(c)\n",
    "            \n",
    "    print(c, ball_list, c_ball)\n",
    "    ball_list += c_ball[::-1]\n",
    "    return ball_list\n",
    "\n",
    "scoreN(*[45,10,2])"
   ]
  },
  {
   "cell_type": "markdown",
   "id": "e89080cd",
   "metadata": {
    "execution_time": [
     1667100911905
    ]
   },
   "source": [
    "In the last if, I need to include the case where score+c == N"
   ]
  },
  {
   "cell_type": "code",
   "execution_count": 4,
   "id": "0b479f75",
   "metadata": {},
   "outputs": [
    {
     "name": "stdout",
     "output_type": "stream",
     "text": [
      "3 []\n",
      "2 [3]\n",
      "2 [1, 3, 1, 3, 1, 3, 1, 3, 1, 3, 1, 3, 1, 3, 1, 3, 1, 3, 1, 3] [3, 2]\n",
      "[1, 3, 1, 3, 1, 3, 1, 3, 1, 3, 1, 3, 1, 3, 1, 3, 1, 3, 1, 3, 2, 3]\n",
      "45\n"
     ]
    }
   ],
   "source": [
    "from typing import List\n",
    "\n",
    "def scoreN(N: int, R: int, C: int) -> List[int]:\n",
    "    \n",
    "    colored_balls = list(range(2, C+2))\n",
    "    \n",
    "    score = 0\n",
    "    ball_list = []\n",
    "    \n",
    "    # if there are any reds\n",
    "    for r in range(R):\n",
    "        \n",
    "        remaining = N - score\n",
    "        \n",
    "        # just the remaining red ball\n",
    "        if remaining == R-r:\n",
    "            score += R-r\n",
    "            ball_list += [1 for _ in range(R-r)]\n",
    "            return ball_list\n",
    "        \n",
    "        elif remaining in colored_balls:\n",
    "            score += remaining\n",
    "            ball_list.append(remaining)\n",
    "            return ball_list\n",
    "            \n",
    "        # red + c ball\n",
    "        for c in range(C+1, 1, -1):\n",
    "            # try to add ball c + red\n",
    "            if remaining >= c+1 and N-score-c-1 != 1:\n",
    "                score += c+1\n",
    "                ball_list += [1, c]\n",
    "                break\n",
    "                \n",
    "            # special case where we would have only 1 point left if we add ball c + red\n",
    "            # in this case we only add the red ball\n",
    "            elif N-remaining+c+1 == 1:\n",
    "                score += 1\n",
    "                ball_list += [1]\n",
    "    \n",
    "    # colored balls\n",
    "    c_ball = []\n",
    "    for c in range(C+1, 1, -1):\n",
    "        print(c, c_ball)\n",
    "        if score == N:\n",
    "            ball_list += c_ball[::-1]\n",
    "            return ball_list\n",
    "        \n",
    "        if score+c == N:\n",
    "            score += c\n",
    "            c_ball.append(c)\n",
    "        if score+c < N and N-score-c > 1:\n",
    "            score += c\n",
    "            c_ball.append(c)\n",
    "            \n",
    "    print(c, ball_list, c_ball)\n",
    "    ball_list += c_ball[::-1]\n",
    "    return ball_list\n",
    "\n",
    "r = scoreN(*[45,10,2])\n",
    "print(r)\n",
    "print(sum(r))"
   ]
  },
  {
   "cell_type": "code",
   "execution_count": 5,
   "id": "29c9b426",
   "metadata": {},
   "outputs": [
    {
     "ename": "SyntaxError",
     "evalue": "invalid syntax (3774361738.py, line 1)",
     "output_type": "error",
     "traceback": [
      "\u001b[0;36m  Cell \u001b[0;32mIn [5], line 1\u001b[0;36m\u001b[0m\n\u001b[0;31m    Looks correct. Let me remove the print and test it againg.\u001b[0m\n\u001b[0m          ^\u001b[0m\n\u001b[0;31mSyntaxError\u001b[0m\u001b[0;31m:\u001b[0m invalid syntax\n"
     ]
    }
   ],
   "source": [
    "Looks correct. Let me remove the print and test it againg."
   ]
  },
  {
   "cell_type": "code",
   "execution_count": 6,
   "id": "1634a630",
   "metadata": {},
   "outputs": [
    {
     "name": "stdout",
     "output_type": "stream",
     "text": [
      "------------------------\n",
      "[1, 7, 1, 7, 1, 7, 1, 7, 1, 7, 1, 7, 3] 51\n",
      "------------------------\n",
      "[1, 7, 4] 12\n",
      "------------------------\n",
      "[1, 7, 1, 6, 2] 17\n",
      "------------------------\n",
      "[1, 7, 1, 7] 16\n",
      "------------------------\n",
      "2 [1, 3, 1, 3, 1, 3, 1, 3, 1, 3, 1, 3, 1, 3, 1, 3, 1, 3, 1, 3] [3, 2]\n",
      "[1, 3, 1, 3, 1, 3, 1, 3, 1, 3, 1, 3, 1, 3, 1, 3, 1, 3, 1, 3, 2, 3] 45\n",
      "done\n"
     ]
    }
   ],
   "source": [
    "from typing import List\n",
    "\n",
    "def scoreN(N: int, R: int, C: int) -> List[int]:\n",
    "    \n",
    "    colored_balls = list(range(2, C+2))\n",
    "    \n",
    "    score = 0\n",
    "    ball_list = []\n",
    "    \n",
    "    # if there are any reds\n",
    "    for r in range(R):\n",
    "        \n",
    "        remaining = N - score\n",
    "        \n",
    "        # just the remaining red ball\n",
    "        if remaining == R-r:\n",
    "            score += R-r\n",
    "            ball_list += [1 for _ in range(R-r)]\n",
    "            return ball_list\n",
    "        \n",
    "        elif remaining in colored_balls:\n",
    "            score += remaining\n",
    "            ball_list.append(remaining)\n",
    "            return ball_list\n",
    "            \n",
    "        # red + c ball\n",
    "        for c in range(C+1, 1, -1):\n",
    "            # try to add ball c + red\n",
    "            if remaining >= c+1 and N-score-c-1 != 1:\n",
    "                score += c+1\n",
    "                ball_list += [1, c]\n",
    "                break\n",
    "                \n",
    "            # special case where we would have only 1 point left if we add ball c + red\n",
    "            # in this case we only add the red ball\n",
    "            elif N-remaining+c+1 == 1:\n",
    "                score += 1\n",
    "                ball_list += [1]\n",
    "    \n",
    "    # colored balls\n",
    "    c_ball = []\n",
    "    for c in range(C+1, 1, -1):\n",
    "        \n",
    "        if score == N:\n",
    "            ball_list += c_ball[::-1]\n",
    "            return ball_list\n",
    "        \n",
    "        if score+c == N:\n",
    "            score += c\n",
    "            c_ball.append(c)\n",
    "        if score+c < N and N-score-c > 1:\n",
    "            score += c\n",
    "            c_ball.append(c)\n",
    "            \n",
    "    print(c, ball_list, c_ball)\n",
    "    ball_list += c_ball[::-1]\n",
    "    return ball_list\n",
    "\n",
    "def test():\n",
    "    args = [\n",
    "        [51, 15, 6], [12, 15, 6], [17, 15, 6], [16,15,6], [45,10,2],\n",
    "    ]\n",
    "    for a in args:\n",
    "        print('------------------------')\n",
    "        r = scoreN(*a)\n",
    "        print(r, a[0])\n",
    "        assert sum(r) == a[0], (sum(r), a)\n",
    "    \n",
    "    print('done')\n",
    "    \n",
    "test()"
   ]
  },
  {
   "cell_type": "markdown",
   "id": "b93ec6ee",
   "metadata": {
    "execution_time": [
     1667100917947
    ]
   },
   "source": [
    "Adding test when N = 1"
   ]
  },
  {
   "cell_type": "code",
   "execution_count": 7,
   "id": "e676b1a1",
   "metadata": {},
   "outputs": [
    {
     "name": "stdout",
     "output_type": "stream",
     "text": [
      "------------------------\n",
      "[1, 7, 1, 7, 1, 7, 1, 7, 1, 7, 1, 7, 3] 51\n",
      "------------------------\n",
      "[1, 7, 4] 12\n",
      "------------------------\n",
      "[1, 7, 1, 6, 2] 17\n",
      "------------------------\n",
      "[1, 7, 1, 7] 16\n",
      "------------------------\n",
      "2 [1, 3, 1, 3, 1, 3, 1, 3, 1, 3, 1, 3, 1, 3, 1, 3, 1, 3, 1, 3] [3, 2]\n",
      "[1, 3, 1, 3, 1, 3, 1, 3, 1, 3, 1, 3, 1, 3, 1, 3, 1, 3, 1, 3, 2, 3] 45\n",
      "------------------------\n",
      "[1] 1\n",
      "done\n"
     ]
    }
   ],
   "source": [
    "def test():\n",
    "    args = [\n",
    "        [51, 15, 6], [12, 15, 6], [17, 15, 6], [16,15,6], [45,10,2], [1,100,100]\n",
    "    ]\n",
    "    for a in args:\n",
    "        print('------------------------')\n",
    "        r = scoreN(*a)\n",
    "        print(r, a[0])\n",
    "        assert sum(r) == a[0], (sum(r), a)\n",
    "    \n",
    "    print('done')\n",
    "    \n",
    "test()"
   ]
  },
  {
   "cell_type": "code",
   "execution_count": null,
   "id": "fb940c57",
   "metadata": {},
   "outputs": [],
   "source": []
  }
 ],
 "metadata": {
  "kernelspec": {
   "display_name": "Python 3 (ipykernel)",
   "language": "python",
   "name": "python3"
  },
  "language_info": {
   "codemirror_mode": {
    "name": "ipython",
    "version": 3
   },
   "file_extension": ".py",
   "mimetype": "text/x-python",
   "name": "python",
   "nbconvert_exporter": "python",
   "pygments_lexer": "ipython3",
   "version": "3.9.13"
  }
 },
 "nbformat": 4,
 "nbformat_minor": 5
}
