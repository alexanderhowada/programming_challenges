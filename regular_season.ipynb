{
 "cells": [
  {
   "cell_type": "markdown",
   "id": "46dbf5d7",
   "metadata": {
    "execution_time": [
     1665604531314
    ],
    "special_cell_type": "prompt_instructions"
   },
   "source": [
    "# Coding Exercise\n",
    "\n",
    "You must correctly implement the function described in the prompt below.\n",
    "\n",
    "Feel free to test out pieces of code to help you write the solution.\n",
    "\n",
    "Please thoroughly test that the final code implements the function correctly."
   ]
  },
  {
   "cell_type": "markdown",
   "id": "7f6fa8d7",
   "metadata": {
    "execution_time": [
     1665604531595
    ],
    "special_cell_type": "prompt_task"
   },
   "source": [
    "## Prompt\n",
    "\n",
    "**Function signature:** `finalStandings(teams: List[str], rounds: int) -> List[str]`\n",
    "\n",
    "    A new basketball season will start this autumn, and you want to predict its results. You have been watching the tournaments for ages and following the teams closely, so you can exactly determine the probability that a particular team will win a match vs some other team. Now you want to know, given these probabilities, how many games each of the teams is expected to win in the upcoming tournament.\n",
    "\n",
    "    You will be given a String[], teams. Each element of teams will be formatted as \"NAME P1 P2 ... PN\", where NAME is the name of the team, and P1, P2, ..., PN are the probabilities that this team will win home games against the 1st, 2nd, ..., Nth teams, respectively (the ith probability for the ith team will always be equal to 0). Ties are not possible due to the rules, so if the ith team has a probability p of beating the jth team in a home game, then the jth team has a probability of (100-p) of beating the ith team when the ith team is at home. Finally, you will be given an int rounds, which gives you the number of rounds in the championship. This means that team A will play 2*rounds games against each other team B (rounds as the visitors and rounds as the home team). You should predict the expected number of games each team will win in the tournament. You should round your prediction to the nearest integer (.5 rounds up).\n",
    "\n",
    "    The return value should be a String[], with each element formatted as \"NAME NUMBER\", where NAME is the name of the team, and NUMBER is the predicted number of wins. NUMBER should have no extra leading zeroes. The return value should be sorted by NUMBER in decreasing order (so the first element of the result will represent the most probable champion). If several teams have the same rounded number of wins, sort them using predicted number of wins before rounding (again in decreasing order); if a tie still remains, sort the tied teams by NAME in ascending alphabetical order.\n",
    "    Notes\n",
    "    -If a team has a probability of p that it will win a particular game, then that game contributes p/100 to the expected number of games the team will win.  However, it is advisable that you wait to divide by 100 until you have completed the summation of the expected number of wins (in order to avoid problems with floating point precision).\n",
    " \n",
    "    Constraints\n",
    "    -teams will contain between 2 and 20 elements, inclusive.\n",
    "    -No element of teams will contain more than 50 characters.\n",
    "    -Each element of teams will be formatted as \"NAME P1 P2 ... Pn\".\n",
    "    -Each NAME will contain only uppercase letters ('A'-'Z').\n",
    "    -P1, P2, ..., Pn will each be an integer between 0 and 100, inclusive, with no extra leading zeros.\n",
    "    -The ith probability of the ith element of teams will be 0.\n",
    "    -rounds will be between 1 and 10, inclusive.\n",
    "    -No two elements of teams will have the same NAME.\n",
    " \n",
    "    Examples\n",
    "    0)\n",
    "        {\"A 0 10 50\",\n",
    "    \"B 100 0 100\",\n",
    "    \"C 50 10 0\"}\n",
    "    5\n",
    "\n",
    "    Returns: { \"B 19\",  \"A 6\",  \"C 6\" }\n",
    "    Teams A and C are each expected to win half of their games against the other.\n",
    "    A and C will both lose all their road games against team B.\n",
    "    They are both expected to win 0.5 home games against B (0.1 * 5).\n",
    "    Summarizing and rounding 0.5 up will give us the result:\n",
    "\n",
    "    B - 19 wins.\n",
    "    A - 6 wins.\n",
    "    C - 6 wins.\n",
    "\n",
    "    Be aware of rounding AFTER calculating the summary for each team. Also, the sum of predictions for all teams may be NOT equal to the sum of games played (there were 30 games played, but teams are predicted to have 31 wins after the  rounding).\n",
    "\n",
    "    1)\n",
    "        {\"SPURS 0 33 67 100\",\n",
    "    \"LAKERS 67 0 33 100\",\n",
    "    \"WOLVES 33 67 0 100\",\n",
    "    \"KINGS 0 75 75 0\"}\n",
    "    2\n",
    "\n",
    "    Returns: { \"SPURS 8\",  \"LAKERS 7\",  \"WOLVES 7\",  \"KINGS 3\" }\n",
    "\n",
    "    2)\n",
    "        {\"A 0 10 20 30 40 50 60 70 80 90\",\n",
    "    \"AA 90 0 10 20 30 40 50 60 70 80\",\n",
    "    \"AAA 80 90 0 10 20 30 40 50 60 70\",\n",
    "    \"AAAA 70 80 90 0 10 20 30 40 50 60\",\n",
    "    \"AAAAA 60 70 80 90 0 10 20 30 40 50\",\n",
    "    \"AAAAAA 50 60 70 80 90 0 10 20 30 40\",\n",
    "    \"AAAAAAA 40 50 60 70 80 90 0 10 20 30\",\n",
    "    \"AAAAAAAA 30 40 50 60 70 80 90 0 10 20\",\n",
    "    \"AAAAAAAAA 20 30 40 50 60 70 80 90 0 10\",\n",
    "    \"AAAAAAAAAA 10 20 30 40 50 60 70 80 90 0\"}\n",
    "    10\n",
    "\n",
    "    Returns: \n",
    "    { \"A 90\",\n",
    "     \"AA 90\",\n",
    "     \"AAA 90\",\n",
    "     \"AAAA 90\",\n",
    "     \"AAAAA 90\",\n",
    "     \"AAAAAA 90\",\n",
    "     \"AAAAAAA 90\",\n",
    "     \"AAAAAAAA 90\",\n",
    "     \"AAAAAAAAA 90\",\n",
    "     \"AAAAAAAAAA 90\" }\n",
    "    Don't forget about alphabetical order.\n",
    "\n",
    "    3)\n",
    "        {\"WF 0 0 71 10 62 87 49 75 50\",\"OZ 38 0 79 55 36 96 63 17 37\",\n",
    "    \"C 13 75 0 96 61 2 33 5 64\",\"LCG 13 85 87 0 60 72 86 1 12\",\n",
    "    \"GDDYC 71 62 21 6 0 17 63 34 32\",\"B 37 66 81 81 53 0 61 80 90\",\n",
    "    \"XK 14 63 40 25 13 86 0 6 43\",\"YVN 57 30 55 22 31 11 81 0 13\",\n",
    "    \"SKGAN 28 79 90 79 75 62 36 86 0\"}\n",
    "    10\n",
    "\n",
    "    Returns: \n",
    "    { \"SKGAN 99\",\n",
    "     \"WF 93\",\n",
    "     \"B 92\",\n",
    "     \"LCG 84\",\n",
    "     \"YVN 80\",\n",
    "     \"OZ 76\",\n",
    "     \"GDDYC 72\",\n",
    "     \"C 63\",\n",
    "     \"XK 62\" }\n",
    "\n",
    "    4)\n",
    "        {\n",
    "    \"ZSN 0 61 70 44 69 40 84 59 20\",\n",
    "    \"SJKB 95 0 88 39 99 18 90 58 44\",\n",
    "    \"EBIUF 63 71 0 5 28 26 41 90 71\",\n",
    "    \"MA 73 90 39 0 40 91 31 39 57\",\n",
    "    \"NPT 35 74 75 74 0 74 14 20 27\",\n",
    "    \"JVY 68 92 37 52 11 0 91 20 52\",\n",
    "    \"ZBOW 66 44 69 9 8 7 0 2 35\",\n",
    "    \"HH 31 70 14 39 6 68 73 0 20\",\n",
    "    \"P 70 62 66 54 9 55 5 98 0\"}\n",
    "    10\n",
    "\n",
    "    Returns: \n",
    "    { \"MA 94\",\n",
    "     \"NPT 92\",\n",
    "     \"P 89\",\n",
    "     \"JVY 84\",\n",
    "     \"SJKB 77\",\n",
    "     \"ZSN 75\",\n",
    "     \"EBIUF 74\",\n",
    "     \"HH 74\",\n",
    "     \"ZBOW 61\" }\n",
    "\n",
    "    "
   ]
  },
  {
   "cell_type": "markdown",
   "id": "6a09c3b6",
   "metadata": {
    "execution_time": [
     1665604816347,
     1665604822370
    ]
   },
   "source": [
    "The goal is that, given a list a winning probabilities, we calculate the average number of wins for each team after a number of rounds.\n",
    "\n",
    "To calculate the number of wins, we will sum all the percentages, divide by 100, multiply by the number of rounds, and round to the nearest integer.\n",
    "\n",
    "Let us start by transforming the input into a pandas dataframe for easy manipulation"
   ]
  },
  {
   "cell_type": "code",
   "execution_count": 2,
   "id": "6ee0bdf2",
   "metadata": {},
   "outputs": [
    {
     "data": {
      "text/html": [
       "<div>\n",
       "<style scoped>\n",
       "    .dataframe tbody tr th:only-of-type {\n",
       "        vertical-align: middle;\n",
       "    }\n",
       "\n",
       "    .dataframe tbody tr th {\n",
       "        vertical-align: top;\n",
       "    }\n",
       "\n",
       "    .dataframe thead th {\n",
       "        text-align: right;\n",
       "    }\n",
       "</style>\n",
       "<table border=\"1\" class=\"dataframe\">\n",
       "  <thead>\n",
       "    <tr style=\"text-align: right;\">\n",
       "      <th></th>\n",
       "      <th>0</th>\n",
       "    </tr>\n",
       "  </thead>\n",
       "  <tbody>\n",
       "    <tr>\n",
       "      <th>0</th>\n",
       "      <td>C</td>\n",
       "    </tr>\n",
       "    <tr>\n",
       "      <th>1</th>\n",
       "      <td>50</td>\n",
       "    </tr>\n",
       "    <tr>\n",
       "      <th>2</th>\n",
       "      <td>10</td>\n",
       "    </tr>\n",
       "    <tr>\n",
       "      <th>3</th>\n",
       "      <td>0</td>\n",
       "    </tr>\n",
       "  </tbody>\n",
       "</table>\n",
       "</div>"
      ],
      "text/plain": [
       "    0\n",
       "0   C\n",
       "1  50\n",
       "2  10\n",
       "3   0"
      ]
     },
     "execution_count": 2,
     "metadata": {},
     "output_type": "execute_result"
    }
   ],
   "source": [
    "from pandas import DataFrame\n",
    "\n",
    "def to_dataframe(teams):\n",
    "    \n",
    "    p = dict()\n",
    "    \n",
    "    for team in teams:\n",
    "        team = team.split(' ')\n",
    "        p[team[0]] = map(int, team[1:])\n",
    "        \n",
    "    return DataFrame(team)\n",
    "\n",
    "teams = [\n",
    "    \"A 0 10 50\",\n",
    "    \"B 100 0 100\",\n",
    "    \"C 50 10 0\"\n",
    "]\n",
    "to_dataframe(teams)"
   ]
  },
  {
   "cell_type": "markdown",
   "id": "f48a36c8",
   "metadata": {
    "execution_time": [
     1665605077841,
     1665605099080
    ]
   },
   "source": [
    "The return value is wrong. I should return DataFrame(p)."
   ]
  },
  {
   "cell_type": "code",
   "execution_count": 3,
   "id": "ec2e6d5c",
   "metadata": {},
   "outputs": [
    {
     "data": {
      "text/html": [
       "<div>\n",
       "<style scoped>\n",
       "    .dataframe tbody tr th:only-of-type {\n",
       "        vertical-align: middle;\n",
       "    }\n",
       "\n",
       "    .dataframe tbody tr th {\n",
       "        vertical-align: top;\n",
       "    }\n",
       "\n",
       "    .dataframe thead th {\n",
       "        text-align: right;\n",
       "    }\n",
       "</style>\n",
       "<table border=\"1\" class=\"dataframe\">\n",
       "  <thead>\n",
       "    <tr style=\"text-align: right;\">\n",
       "      <th></th>\n",
       "      <th>A</th>\n",
       "      <th>B</th>\n",
       "      <th>C</th>\n",
       "    </tr>\n",
       "  </thead>\n",
       "  <tbody>\n",
       "    <tr>\n",
       "      <th>0</th>\n",
       "      <td>0</td>\n",
       "      <td>100</td>\n",
       "      <td>50</td>\n",
       "    </tr>\n",
       "    <tr>\n",
       "      <th>1</th>\n",
       "      <td>10</td>\n",
       "      <td>0</td>\n",
       "      <td>10</td>\n",
       "    </tr>\n",
       "    <tr>\n",
       "      <th>2</th>\n",
       "      <td>50</td>\n",
       "      <td>100</td>\n",
       "      <td>0</td>\n",
       "    </tr>\n",
       "  </tbody>\n",
       "</table>\n",
       "</div>"
      ],
      "text/plain": [
       "    A    B   C\n",
       "0   0  100  50\n",
       "1  10    0  10\n",
       "2  50  100   0"
      ]
     },
     "execution_count": 3,
     "metadata": {},
     "output_type": "execute_result"
    }
   ],
   "source": [
    "def to_dataframe(teams):\n",
    "    \n",
    "    p = dict()\n",
    "    \n",
    "    for team in teams:\n",
    "        team = team.split(' ')\n",
    "        p[team[0]] = map(int, team[1:])\n",
    "        \n",
    "    return DataFrame(p)\n",
    "\n",
    "teams = [\n",
    "    \"A 0 10 50\",\n",
    "    \"B 100 0 100\",\n",
    "    \"C 50 10 0\"\n",
    "]\n",
    "to_dataframe(teams)"
   ]
  },
  {
   "cell_type": "markdown",
   "id": "41a07255",
   "metadata": {
    "execution_time": [
     1665605206232
    ]
   },
   "source": [
    "At each round, the number of wins will be the sum of the team probabilities.\n",
    "Therefore, we only need to sum the columns, multiply by the number of rounds, and then round the result to the nearest integer."
   ]
  },
  {
   "cell_type": "code",
   "execution_count": 4,
   "id": "8af4a239",
   "metadata": {},
   "outputs": [
    {
     "data": {
      "text/plain": [
       "['B 1000', 'A 300', 'C 300']"
      ]
     },
     "execution_count": 4,
     "metadata": {},
     "output_type": "execute_result"
    }
   ],
   "source": [
    "from typing import List\n",
    "\n",
    "def finalStandings(teams: List[str], rounds: int) -> List[str]:\n",
    "    \n",
    "    teams_df = to_dataframe(teams)\n",
    "    \n",
    "    t_wins = rounds*teams_df.sum() #calculate total of wins\n",
    "    t_wins.index.name = 'team'     #rename index\n",
    "    t_wins.name = 'score'          #rename series\n",
    "    t_wins = t_wins.reset_index()  #transform index in column\n",
    "    t_wins = t_wins.sort_values(by=['score', 'team'], ascending=[False, True]) #sort resuls\n",
    "    \n",
    "    t_wins['str'] = t_wins['team'].astype(str)+' '+t_wins['score'].round().astype(str)\n",
    "    \n",
    "    return t_wins['str'].values.tolist()\n",
    "    \n",
    "teams = [\n",
    "    \"A 0 10 50\",\n",
    "    \"B 100 0 100\",\n",
    "    \"C 50 10 0\"\n",
    "]\n",
    "finalStandings(teams, 5)"
   ]
  },
  {
   "cell_type": "markdown",
   "id": "3cd4edb5",
   "metadata": {
    "execution_time": [
     1665605873396,
     1665605893954
    ]
   },
   "source": [
    "The result is incorrect for many reasons.\n",
    "\n",
    "1. I am only taking into account the games played at home\n",
    "2. I forgot to divide the results by 100\n",
    "\n",
    "To take the games not played at home into account, I have to sum 100-row, except the diagonals.\n",
    "The first step to fix this is to attribute a team to each row"
   ]
  },
  {
   "cell_type": "code",
   "execution_count": 5,
   "id": "2ad7be82",
   "metadata": {},
   "outputs": [
    {
     "data": {
      "text/html": [
       "<div>\n",
       "<style scoped>\n",
       "    .dataframe tbody tr th:only-of-type {\n",
       "        vertical-align: middle;\n",
       "    }\n",
       "\n",
       "    .dataframe tbody tr th {\n",
       "        vertical-align: top;\n",
       "    }\n",
       "\n",
       "    .dataframe thead th {\n",
       "        text-align: right;\n",
       "    }\n",
       "</style>\n",
       "<table border=\"1\" class=\"dataframe\">\n",
       "  <thead>\n",
       "    <tr style=\"text-align: right;\">\n",
       "      <th></th>\n",
       "      <th>A</th>\n",
       "      <th>B</th>\n",
       "      <th>C</th>\n",
       "    </tr>\n",
       "  </thead>\n",
       "  <tbody>\n",
       "    <tr>\n",
       "      <th>A</th>\n",
       "      <td>0</td>\n",
       "      <td>100</td>\n",
       "      <td>50</td>\n",
       "    </tr>\n",
       "    <tr>\n",
       "      <th>B</th>\n",
       "      <td>10</td>\n",
       "      <td>0</td>\n",
       "      <td>10</td>\n",
       "    </tr>\n",
       "    <tr>\n",
       "      <th>C</th>\n",
       "      <td>50</td>\n",
       "      <td>100</td>\n",
       "      <td>0</td>\n",
       "    </tr>\n",
       "  </tbody>\n",
       "</table>\n",
       "</div>"
      ],
      "text/plain": [
       "    A    B   C\n",
       "A   0  100  50\n",
       "B  10    0  10\n",
       "C  50  100   0"
      ]
     },
     "execution_count": 5,
     "metadata": {},
     "output_type": "execute_result"
    }
   ],
   "source": [
    "def to_dataframe(teams):\n",
    "    \n",
    "    p = dict()\n",
    "    \n",
    "    for team in teams:\n",
    "        team = team.split(' ')\n",
    "        p[team[0]] = map(int, team[1:])\n",
    "        \n",
    "    return DataFrame(p, index = p.keys())\n",
    "\n",
    "teams = [\n",
    "    \"A 0 10 50\",\n",
    "    \"B 100 0 100\",\n",
    "    \"C 50 10 0\"\n",
    "]\n",
    "to_dataframe(teams)"
   ]
  },
  {
   "cell_type": "markdown",
   "id": "7dff5502",
   "metadata": {
    "execution_time": [
     1665605968925
    ]
   },
   "source": [
    "Next, I will sum 100-rows and subtract the diagonal 100"
   ]
  },
  {
   "cell_type": "code",
   "execution_count": 8,
   "id": "f844c6a9",
   "metadata": {},
   "outputs": [
    {
     "data": {
      "text/plain": [
       "A     10\n",
       "B    280\n",
       "C     10\n",
       "dtype: int64"
      ]
     },
     "metadata": {},
     "output_type": "display_data"
    },
    {
     "data": {
      "text/plain": [
       "['B 9.0', 'A -4.0', 'C -4.0']"
      ]
     },
     "execution_count": 8,
     "metadata": {},
     "output_type": "execute_result"
    }
   ],
   "source": [
    "def finalStandings(teams: List[str], rounds: int) -> List[str]:\n",
    "    \n",
    "    teams_df = to_dataframe(teams)\n",
    "    \n",
    "    t_wins = 100-teams_df.sum(axis=1)+teams_df.sum(axis=0) #calculate total of wins\n",
    "    display(t_wins)\n",
    "    t_wins -= 100 #subtracts the diagonal\n",
    "    t_wins *= 5/100 #multiply by the number of rounds and divide by 100\n",
    "    t_wins.index.name = 'team'     #rename index\n",
    "    t_wins.name = 'score'          #rename series\n",
    "    t_wins = t_wins.reset_index()  #transform index in column\n",
    "    t_wins = t_wins.sort_values(by=['score', 'team'], ascending=[False, True]) #sort resuls\n",
    "    \n",
    "    t_wins['str'] = t_wins['team'].astype(str)+' '+t_wins['score'].round().astype(str)\n",
    "    \n",
    "    return t_wins['str'].values.tolist()\n",
    "\n",
    "teams = [\n",
    "    \"A 0 10 50\",\n",
    "    \"B 100 0 100\",\n",
    "    \"C 50 10 0\"\n",
    "]\n",
    "finalStandings(teams, 5)"
   ]
  },
  {
   "cell_type": "markdown",
   "id": "17c39fd0",
   "metadata": {
    "execution_time": [
     1665606595593,
     1665606614874
    ]
   },
   "source": [
    "I am subtracting the wrong number of 100s.\n",
    "I should subtract 100 times the number of teams (each element in the row), except the team itself."
   ]
  },
  {
   "cell_type": "code",
   "execution_count": 10,
   "id": "6a431dd6",
   "metadata": {},
   "outputs": [
    {
     "data": {
      "text/plain": [
       "A    110\n",
       "B    380\n",
       "C    110\n",
       "dtype: int64"
      ]
     },
     "metadata": {},
     "output_type": "display_data"
    },
    {
     "data": {
      "text/plain": [
       "['B 19.0', 'A 6.0', 'C 6.0']"
      ]
     },
     "execution_count": 10,
     "metadata": {},
     "output_type": "execute_result"
    }
   ],
   "source": [
    "def finalStandings(teams: List[str], rounds: int) -> List[str]:\n",
    "    \n",
    "    teams_df = to_dataframe(teams)\n",
    "    \n",
    "    t_wins = 100*(teams_df.index.size-1) \\\n",
    "             -teams_df.sum(axis=1)\\\n",
    "             +teams_df.sum(axis=0) #calculate total of wins\n",
    "    t_wins *= rounds/100 #multiply by the number of rounds and divide by 100\n",
    "    t_wins.index.name = 'team'     #rename index\n",
    "    t_wins.name = 'score'          #rename series\n",
    "    t_wins = t_wins.reset_index()  #transform index in column\n",
    "    t_wins = t_wins.sort_values(by=['score', 'team'], ascending=[False, True]) #sort resuls\n",
    "    \n",
    "    t_wins['str'] = t_wins['team'].astype(str)+' '+t_wins['score'].round().astype(str)\n",
    "    \n",
    "    return t_wins['str'].values.tolist()\n",
    "\n",
    "teams = [\n",
    "    \"A 0 10 50\",\n",
    "    \"B 100 0 100\",\n",
    "    \"C 50 10 0\"\n",
    "]\n",
    "finalStandings(teams, 5)"
   ]
  },
  {
   "cell_type": "markdown",
   "id": "624f3dfe",
   "metadata": {
    "execution_time": [
     1665606633556
    ]
   },
   "source": [
    "I will remove the display and keep testing "
   ]
  },
  {
   "cell_type": "code",
   "execution_count": 11,
   "id": "de9374e1",
   "metadata": {},
   "outputs": [
    {
     "name": "stdout",
     "output_type": "stream",
     "text": [
      "['SPURS 8.0', 'LAKERS 6.0', 'WOLVES 6.0', 'KINGS 3.0']\n"
     ]
    },
    {
     "data": {
      "text/plain": [
       "['SPURS 8', 'LAKERS 7', 'WOLVES 7', 'KINGS 3']"
      ]
     },
     "execution_count": 11,
     "metadata": {},
     "output_type": "execute_result"
    }
   ],
   "source": [
    "def finalStandings(teams: List[str], rounds: int) -> List[str]:\n",
    "    \n",
    "    teams_df = to_dataframe(teams)\n",
    "    \n",
    "    t_wins = 100*(teams_df.index.size-1) \\\n",
    "             -teams_df.sum(axis=1)\\\n",
    "             +teams_df.sum(axis=0) #calculate total of wins\n",
    "    t_wins *= rounds/100 #multiply by the number of rounds and divide by 100\n",
    "    t_wins.index.name = 'team'     #rename index\n",
    "    t_wins.name = 'score'          #rename series\n",
    "    t_wins = t_wins.reset_index()  #transform index in column\n",
    "    t_wins = t_wins.sort_values(by=['score', 'team'], ascending=[False, True]) #sort resuls\n",
    "    \n",
    "    t_wins['str'] = t_wins['team'].astype(str)+' '+t_wins['score'].round().astype(str)\n",
    "    \n",
    "    return t_wins['str'].values.tolist()\n",
    "\n",
    "team = [\"SPURS 0 33 67 100\",\n",
    "\"LAKERS 67 0 33 100\",\n",
    "\"WOLVES 33 67 0 100\",\n",
    "\"KINGS 0 75 75 0\"]\n",
    "rounds = 2\n",
    "\n",
    "r = finalStandings(team, rounds)\n",
    "print(r)\n",
    "[\"SPURS 8\",  \"LAKERS 7\",  \"WOLVES 7\",  \"KINGS 3\"]"
   ]
  },
  {
   "cell_type": "markdown",
   "id": "4f25c750",
   "metadata": {
    "execution_time": [
     1665606742360
    ]
   },
   "source": [
    "The result is correct, except by the .0 at the end of the score.\n",
    "I will fix this by casting the score to int, after rounding"
   ]
  },
  {
   "cell_type": "code",
   "execution_count": 18,
   "id": "a69e8501",
   "metadata": {},
   "outputs": [
    {
     "name": "stdout",
     "output_type": "stream",
     "text": [
      "['B 19', 'A 6', 'C 6']\n",
      "[\"B 19\",  \"A 6\",  \"C 6\"]\n",
      "['SPURS 8', 'LAKERS 6', 'WOLVES 6', 'KINGS 3']\n",
      "[\"SPURS 8\",  \"LAKERS 7\",  \"WOLVES 7\",  \"KINGS 3\"]\n"
     ]
    }
   ],
   "source": [
    "def finalStandings(teams: List[str], rounds: int) -> List[str]:\n",
    "    \n",
    "    teams_df = to_dataframe(teams)\n",
    "    \n",
    "    t_wins = (100*(teams_df.index.size-1)\n",
    "              -teams_df.sum(axis=1)\n",
    "              +teams_df.sum(axis=0)) #calculate total of wins\n",
    "    t_wins *= rounds/100           #multiply by the number of rounds and divide by 100\n",
    "    t_wins.index.name = 'team'     #rename index\n",
    "    t_wins.name = 'score'          #rename series\n",
    "    t_wins = t_wins.reset_index()  #transform index in column\n",
    "    t_wins = t_wins.sort_values(by=['score', 'team'], ascending=[False, True]) #sort resuls\n",
    "    \n",
    "    t_wins['str'] = t_wins['team'].astype(str)+' '\\\n",
    "                   +t_wins['score'].round().astype(int).astype(str)\n",
    "    \n",
    "    return t_wins['str'].values.tolist()\n",
    "\n",
    "teams = [\n",
    "    \"A 0 10 50\",\n",
    "    \"B 100 0 100\",\n",
    "    \"C 50 10 0\"\n",
    "]\n",
    "print(finalStandings(teams, 5))\n",
    "print('[\"B 19\",  \"A 6\",  \"C 6\"]')\n",
    "\n",
    "team = [\"SPURS 0 33 67 100\",\n",
    "\"LAKERS 67 0 33 100\",\n",
    "\"WOLVES 33 67 0 100\",\n",
    "\"KINGS 0 75 75 0\"]\n",
    "rounds = 2\n",
    "\n",
    "print(finalStandings(team, rounds))\n",
    "print('[\"SPURS 8\",  \"LAKERS 7\",  \"WOLVES 7\",  \"KINGS 3\"]')"
   ]
  },
  {
   "cell_type": "markdown",
   "id": "4c179cbd",
   "metadata": {
    "execution_time": [
     1665607203286,
     1665607330004
    ]
   },
   "source": [
    "Now I realized that I am rounding in the wrong way. I will fix this by implementing a custom function for rounding."
   ]
  },
  {
   "cell_type": "code",
   "execution_count": 19,
   "id": "9d72a4b0",
   "metadata": {},
   "outputs": [
    {
     "name": "stdout",
     "output_type": "stream",
     "text": [
      "['B 19', 'A 6', 'C 6']\n",
      "[\"B 19\",  \"A 6\",  \"C 6\"]\n",
      "['SPURS 8', 'LAKERS 7', 'WOLVES 7', 'KINGS 3']\n",
      "[\"SPURS 8\",  \"LAKERS 7\",  \"WOLVES 7\",  \"KINGS 3\"]\n"
     ]
    }
   ],
   "source": [
    "def custom_round(n):\n",
    "    frac = n-int(n)\n",
    "    \n",
    "    if frac >= 0.5:\n",
    "        return int(n)+1\n",
    "    else:\n",
    "        return int(n)\n",
    "    \n",
    "def finalStandings(teams: List[str], rounds: int) -> List[str]:\n",
    "    \n",
    "    teams_df = to_dataframe(teams)\n",
    "    \n",
    "    t_wins = (100*(teams_df.index.size-1)\n",
    "              -teams_df.sum(axis=1)\n",
    "              +teams_df.sum(axis=0)) #calculate total of wins\n",
    "    t_wins *= rounds/100           #multiply by the number of rounds and divide by 100\n",
    "    t_wins.index.name = 'team'     #rename index\n",
    "    t_wins.name = 'score'          #rename series\n",
    "    t_wins = t_wins.reset_index()  #transform index in column\n",
    "    t_wins = t_wins.sort_values(by=['score', 'team'], ascending=[False, True]) #sort resuls\n",
    "    \n",
    "    t_wins['str'] = t_wins['team'].astype(str)+' '\\\n",
    "                   +t_wins['score'].apply(custom_round).astype(int).astype(str)\n",
    "    \n",
    "    return t_wins['str'].values.tolist()\n",
    "\n",
    "teams = [\n",
    "    \"A 0 10 50\",\n",
    "    \"B 100 0 100\",\n",
    "    \"C 50 10 0\"\n",
    "]\n",
    "print(finalStandings(teams, 5))\n",
    "print('[\"B 19\",  \"A 6\",  \"C 6\"]')\n",
    "\n",
    "team = [\"SPURS 0 33 67 100\",\n",
    "\"LAKERS 67 0 33 100\",\n",
    "\"WOLVES 33 67 0 100\",\n",
    "\"KINGS 0 75 75 0\"]\n",
    "rounds = 2\n",
    "\n",
    "print(finalStandings(team, rounds))\n",
    "print('[\"SPURS 8\",  \"LAKERS 7\",  \"WOLVES 7\",  \"KINGS 3\"]')"
   ]
  },
  {
   "cell_type": "code",
   "execution_count": 20,
   "id": "202f4b49",
   "metadata": {},
   "outputs": [
    {
     "name": "stdout",
     "output_type": "stream",
     "text": [
      "['A 90', 'AA 90', 'AAA 90', 'AAAA 90', 'AAAAA 90', 'AAAAAA 90', 'AAAAAAA 90', 'AAAAAAAA 90', 'AAAAAAAAA 90', 'AAAAAAAAAA 90']\n",
      "[\"A 90\", \"AA 90\", \"AAA 90\", \"AAAA 90\", \"AAAAA 90\", \"AAAAAA 90\", \"AAAAAAA 90\", \"AAAAAAAA 90\", \"AAAAAAAAA 90\", \"AAAAAAAAAA 90\"]\n"
     ]
    }
   ],
   "source": [
    "team = [\"A 0 10 20 30 40 50 60 70 80 90\",\n",
    "\"AA 90 0 10 20 30 40 50 60 70 80\",\n",
    "\"AAA 80 90 0 10 20 30 40 50 60 70\",\n",
    "\"AAAA 70 80 90 0 10 20 30 40 50 60\",\n",
    "\"AAAAA 60 70 80 90 0 10 20 30 40 50\",\n",
    "\"AAAAAA 50 60 70 80 90 0 10 20 30 40\",\n",
    "\"AAAAAAA 40 50 60 70 80 90 0 10 20 30\",\n",
    "\"AAAAAAAA 30 40 50 60 70 80 90 0 10 20\",\n",
    "\"AAAAAAAAA 20 30 40 50 60 70 80 90 0 10\",\n",
    "\"AAAAAAAAAA 10 20 30 40 50 60 70 80 90 0\"]\n",
    "rounds = 10\n",
    "\n",
    "print(finalStandings(team, rounds))\n",
    "print('[\"A 90\", \"AA 90\", \"AAA 90\", \"AAAA 90\", \"AAAAA 90\", \"AAAAAA 90\", \"AAAAAAA 90\", \"AAAAAAAA 90\", \"AAAAAAAAA 90\", \"AAAAAAAAAA 90\"]')"
   ]
  },
  {
   "cell_type": "code",
   "execution_count": 22,
   "id": "c910f0d3",
   "metadata": {},
   "outputs": [
    {
     "name": "stdout",
     "output_type": "stream",
     "text": [
      "['SKGAN 99', 'WF 93', 'B 92', 'LCG 84', 'YVN 80', 'OZ 76', 'GDDYC 72', 'C 63', 'XK 62']\n",
      "[\"SKGAN 99\", \"WF 93\", \"B 92\", \"LCG 84\", \"YVN 80\", \"OZ 76\", \"GDDYC 72\", \"C 63\", \"XK 62\"]\n"
     ]
    }
   ],
   "source": [
    "team = [\"WF 0 0 71 10 62 87 49 75 50\",\"OZ 38 0 79 55 36 96 63 17 37\",\n",
    "\"C 13 75 0 96 61 2 33 5 64\",\"LCG 13 85 87 0 60 72 86 1 12\",\n",
    "\"GDDYC 71 62 21 6 0 17 63 34 32\",\"B 37 66 81 81 53 0 61 80 90\",\n",
    "\"XK 14 63 40 25 13 86 0 6 43\",\"YVN 57 30 55 22 31 11 81 0 13\",\n",
    "\"SKGAN 28 79 90 79 75 62 36 86 0\"]\n",
    "rounds = 10\n",
    "\n",
    "print(finalStandings(team, rounds))\n",
    "print('[\"SKGAN 99\", \"WF 93\", \"B 92\", \"LCG 84\", \"YVN 80\", \"OZ 76\", \"GDDYC 72\", \"C 63\", \"XK 62\"]')"
   ]
  },
  {
   "cell_type": "code",
   "execution_count": 23,
   "id": "0d8e5513",
   "metadata": {},
   "outputs": [
    {
     "name": "stdout",
     "output_type": "stream",
     "text": [
      "['MA 94', 'NPT 92', 'P 89', 'JVY 84', 'SJKB 77', 'ZSN 75', 'EBIUF 74', 'HH 74', 'ZBOW 61']\n",
      "[\"MA 94\", \"NPT 92\", \"P 89\", \"JVY 84\", \"SJKB 77\", \"ZSN 75\", \"EBIUF 74\", \"HH 74\", \"ZBOW 61\"]\n"
     ]
    }
   ],
   "source": [
    "team = [\"ZSN 0 61 70 44 69 40 84 59 20\",\n",
    "\"SJKB 95 0 88 39 99 18 90 58 44\",\n",
    "\"EBIUF 63 71 0 5 28 26 41 90 71\",\n",
    "\"MA 73 90 39 0 40 91 31 39 57\",\n",
    "\"NPT 35 74 75 74 0 74 14 20 27\",\n",
    "\"JVY 68 92 37 52 11 0 91 20 52\",\n",
    "\"ZBOW 66 44 69 9 8 7 0 2 35\",\n",
    "\"HH 31 70 14 39 6 68 73 0 20\",\n",
    "\"P 70 62 66 54 9 55 5 98 0\"]\n",
    "rounds = 10\n",
    "\n",
    "print(finalStandings(team, rounds))\n",
    "print('[\"MA 94\", \"NPT 92\", \"P 89\", \"JVY 84\", \"SJKB 77\", \"ZSN 75\", \"EBIUF 74\", \"HH 74\", \"ZBOW 61\"]')"
   ]
  },
  {
   "cell_type": "code",
   "execution_count": 25,
   "id": "ba2b5508",
   "metadata": {},
   "outputs": [
    {
     "name": "stdout",
     "output_type": "stream",
     "text": [
      "['B 10', 'A 0']\n",
      "[\"B 10\", \"A 0\"]\n"
     ]
    }
   ],
   "source": [
    "team = [\"A 0 0\", \"B 100 0\"]\n",
    "rounds = 5\n",
    "print(finalStandings(team, rounds))\n",
    "print('[\"B 10\", \"A 0\"]')"
   ]
  },
  {
   "cell_type": "code",
   "execution_count": null,
   "id": "9b38fa27",
   "metadata": {},
   "outputs": [],
   "source": []
  }
 ],
 "metadata": {
  "kernelspec": {
   "display_name": "Python 3 (ipykernel)",
   "language": "python",
   "name": "python3"
  },
  "language_info": {
   "codemirror_mode": {
    "name": "ipython",
    "version": 3
   },
   "file_extension": ".py",
   "mimetype": "text/x-python",
   "name": "python",
   "nbconvert_exporter": "python",
   "pygments_lexer": "ipython3",
   "version": "3.9.13"
  }
 },
 "nbformat": 4,
 "nbformat_minor": 5
}
