{
 "cells": [
  {
   "cell_type": "markdown",
   "id": "495a7703",
   "metadata": {
    "execution_time": [
     1667099990760
    ],
    "special_cell_type": "prompt_instructions"
   },
   "source": [
    "# Coding Exercise\n",
    "\n",
    "You must correctly implement the function described in the prompt below.\n",
    "\n",
    "Feel free to test out pieces of code to help you write the solution.\n",
    "\n",
    "Please thoroughly test that the final code implements the function correctly."
   ]
  },
  {
   "cell_type": "markdown",
   "id": "a8f64b4f",
   "metadata": {
    "execution_time": [
     1667099991155
    ],
    "special_cell_type": "prompt_task"
   },
   "source": [
    "## Prompt\n",
    "\n",
    "**Function signature:** `predictRain(ilkoProb: int, deliverProbs: List[int]) -> float`\n",
    "\n",
    "    \n",
    "    Ilko is a meteorologist whose goal is to predict the weather for the report given in the evening news on TV.\n",
    "    Ilko has a complex numerical model that tries to predict a single boolean: whether it will rain tomorrow.\n",
    "    The success rate of the model's predictions is ilkoProb percent.\n",
    "    Every day at 4:47 pm, Ilko runs the model, reads its output, thinks about it, and finally he sends a one-word instruction to the TV station: he either tells them to broadcast the word \"sunny\" or the word \"rainy\".\n",
    "\n",
    "    However, the TV station does not simply broadcast the word Ilko sent.\n",
    "    There is a whole chain of people who get involved:\n",
    "    Ilko reports the forecast to his contact person, that person tells their secretary to pass it on, the secretary writes it down and uses internal mail to send it to a different floor, and so on.\n",
    "    The problem is that each person in the chain will, with some probability, mix up the message and deliver the opposite forecast from the one they received.\n",
    "\n",
    "    You are given the List[int] deliverProbs.\n",
    "    Each element of deliverProbs corresponds to one person in the chain, in the order in which the message passes through them.\n",
    "    Person i will correctly deliver the forecast they receive with probability deliverProbs[i] percent.\n",
    "\n",
    "    Ilko knows all the information mentioned above, including all the probabilities.\n",
    "    His reputation depends on the accuracy of the forecast that actually gets aired by the TV station.\n",
    "    Thus, he will do all he can to maximize the accuracy of that forecast.\n",
    "\n",
    "    Compute and return the probability that the forecast aired by the TV station tonight will match the weather tomorrow.\n",
    "\n",
    "    Notes\n",
    "    -Formally, assume that all random events mentioned in the statement are mutually independent. In particular, the probability that Ilko's model correctly predicts whether it will rain tomorrow is ilkoProb/100.\n",
    "    -Your answer will be accepted if it has a relative or an absolute error up to 1e-9.\n",
    "    -Remember that Ilko has perfect knowledge of all things mentioned in the problem statement, and that he is actively trying to maximize the probability that the weather will match the forecast broadcast by the station.\n",
    " \n",
    "    Constraints\n",
    "    -ilkoProb will be between 0 and 100, inclusive.\n",
    "    -deliverProbs will have between 0 and 50 elements, inclusive.\n",
    "    -Each element of deliverProbs will be between 0 and 100, inclusive.\n",
    " \n",
    "    Examples\n",
    "    0)\n",
    "        93\n",
    "    {}\n",
    "\n",
    "    Returns: 0.93\n",
    "    Ilko's model correctly predicts rain with probability 93%.\n",
    "    There are no people involved in the TV station.\n",
    "    Thus, what happens is that:\n",
    "\n",
    "    Ilko looks at the prediction given by his model.\n",
    "    Ilko sends that prediction to the TV station.\n",
    "    The prediction goes straight into the broadcast.\n",
    "\n",
    "    Obviously, the forecast aired on the news will match reality with probability 93%.\n",
    "\n",
    "    1)\n",
    "        93\n",
    "    {50}\n",
    "\n",
    "    Returns: 0.5\n",
    "    Ilko uses the same model, but now he reports to a person who always loses it and then just flips a coin to determine what forecast the station will broadcast that night.\n",
    "\n",
    "    2)\n",
    "        100\n",
    "    {90,90}\n",
    "\n",
    "    Returns: 0.82\n",
    "\n",
    "    In this test case, Ilko's model is completely accurate. Sadly, the forecast goes through two people before it gets aired, and each of them will make a mistake with probability 10%. That's still good enough to mostly preserve the forecast Ilko reports to the station, but they do introduce some mistakes here and there.\n",
    "\n",
    "    Note that the actual probability that the station airs the correct forecast is 82%, not 81%.\n",
    "    This is because the following is also a possible chain of events:\n",
    "\n",
    "    Ilko reports the correct forecast to the station.\n",
    "    The first person makes a mistake and reports the opposite forecast to the second person.\n",
    "    The second person also makes a mistake and broadcasts the opposite forecast from the one they received - but that is the forecast Ilko originally sent!\n",
    "\n",
    "    3)\n",
    "        89\n",
    "    {13, 92, 7}\n",
    "\n",
    "    Returns: 0.7084846399999999\n",
    "\n",
    "    4)\n",
    "        50\n",
    "    {3, 17, 92, 34, 2, 14}\n",
    "\n",
    "    Returns: 0.5\n",
    "    This time, the accuracy of Ilko's model is as good as a coin flip. The people at the TV station don't really matter, the final forecast will still be correct with probability exactly 50 percent.\n",
    "\n",
    "    "
   ]
  },
  {
   "cell_type": "markdown",
   "id": "99465592",
   "metadata": {
    "execution_time": [
     1667099041014,
     1667099051539,
     1667099064404,
     1667099992365
    ]
   },
   "source": [
    "Here, we need to calculate the probabilty that Ilko will get the right forcast.\n",
    "\n",
    "In order to compute this probability, we need to compute the total probability of deliverProbs when they deliver the right/wrong message.\n",
    "A message is right if 0 or an even number of mistakes are made, and wrong otherwise.\n",
    "The idea is to keep an array with this state and multiply the appropriate probability (p if it is right and 1-p if it is wrong).\n",
    "\n",
    "Note that there are up to 50 elements in deliverProbs, therefore I will need to compute up to $2^{50}$ different combinations, however I can stop whenever the relative error is $< 10^{-9}$ and return it early.\n",
    "\n",
    "Lets start with a class to calculate the probability."
   ]
  },
  {
   "cell_type": "code",
   "execution_count": 1,
   "id": "7d785265",
   "metadata": {},
   "outputs": [
    {
     "name": "stdout",
     "output_type": "stream",
     "text": [
      "0\n",
      "0.5\n"
     ]
    }
   ],
   "source": [
    "class Probability:\n",
    "    def __init__(self, probs):\n",
    "        self.probs = probs\n",
    "        self.precision = 1e-14\n",
    "        self.memory = dict()\n",
    "        \n",
    "    def calc(self, state):\n",
    "        p = 1\n",
    "        for i, s in enumerate(state):\n",
    "            if s:\n",
    "                p *= self.probs[i]\n",
    "            else:\n",
    "                p *= 100-self.probs[i+1]\n",
    "            \n",
    "            if p == 0:\n",
    "                return 0\n",
    "                \n",
    "        return p/100**len(state)\n",
    "        \n",
    "P = Probability([50, 100, 100])\n",
    "print(P.calc([1, 0, 1]))\n",
    "print(P.calc([1, 1, 1]))"
   ]
  },
  {
   "cell_type": "markdown",
   "id": "16951c68",
   "metadata": {
    "execution_time": [
     1667099239972,
     1667099997348
    ]
   },
   "source": [
    "Looks like the class is working.\n",
    "\n",
    "Now I will try to write a function to calculate all the possible combinations of passing the right/wrong forcast.\n",
    "This function will keep track of even and odd combinations to decide is the pipeline of employees will pass the right or wrong message.\n",
    "I will use memoization to return an early result if the probability is smaller than a given precision."
   ]
  },
  {
   "cell_type": "code",
   "execution_count": null,
   "id": "1c4d23c1",
   "metadata": {},
   "outputs": [],
   "source": [
    "import copy\n",
    "\n",
    "def calculate_prob(deliverProbs, prob = [], memory = dict(), idx = 0):\n",
    "    \n",
    "    PRECISION = 1e-14\n",
    "    \n",
    "    if p is None:\n",
    "        p = {\n",
    "            'even': 1, 'odd': 1\n",
    "        }\n",
    "        \n",
    "    if p['even'] < PRECISION and p['odd'] < PRECISION:\n",
    "        p['even'] += p['even']*2**(len(deliverProbs-idx-2))\n",
    "        p['odd']  += p['odd']*2**(len(deliverProbs-idx-2))\n",
    "        return prob\n",
    "    \n",
    "    h = hash(str(prob))\n",
    "    if h in memory.keys():\n",
    "        return memory[h]\n",
    "    \n",
    "    if len(prob) < len(deliverProbs):\n",
    "        new_prob1 = copy.copy(prob)\n",
    "        new_p1    = copy.deepcopy(p)\n",
    "        new_prob1.append(1)\n",
    "        prob['even'] = \n",
    "    \n",
    "    \n",
    "    "
   ]
  },
  {
   "cell_type": "markdown",
   "id": "2955f20e",
   "metadata": {
    "execution_time": [
     1667099500363,
     1667099505436,
     1667099511270,
     1667099519314,
     1667099548707,
     1667100021174,
     1667100061148,
     1667100074987
    ]
   },
   "source": [
    "The code is getting cumbersome, therefore I decided to stop before executing and completing it.\n",
    "\n",
    "After thinking for some time, I realized that there is a much easier way to solve the problem:\n",
    "since the probabilities are independent, I can always reduce two probabilities into a single one.\n",
    "\n",
    "Consider the case of three probabilities [p1, p2, p3].\n",
    "- the probability of the first two people getting it right <code> right = p1 * p2+(1-p1) * (1-p2) </code>\n",
    "- since the probabilities are independent, we now have a new problem with [right, p3]\n",
    "- hence the final probability of getting it right is <code> right * p3+(1-right) * (1-p3) </code>\n",
    "\n",
    "Lets implement the function to calcute this."
   ]
  },
  {
   "cell_type": "code",
   "execution_count": 2,
   "id": "8ebf7153",
   "metadata": {},
   "outputs": [
    {
     "data": {
      "text/plain": [
       "0.8200000000000001"
      ]
     },
     "execution_count": 2,
     "metadata": {},
     "output_type": "execute_result"
    }
   ],
   "source": [
    "def get_right(deliverProbs):\n",
    "    \n",
    "    if len(deliverProbs) == 0:\n",
    "        return 1\n",
    "    elif len(deliverProbs) == 1:\n",
    "        return deliverProbs[0]\n",
    "    \n",
    "    p1 = deliverProbs[0]/100\n",
    "    p2 = deliverProbs[1]/100\n",
    "    right = p1*p2+(1-p1)*(1-p2)\n",
    "    \n",
    "    for p in deliverProbs[2:]:\n",
    "        right = right*p+(1-right)*(1-p)\n",
    "        \n",
    "    return right\n",
    "\n",
    "get_right([90, 90])"
   ]
  },
  {
   "cell_type": "code",
   "execution_count": 3,
   "id": "59a07eb9",
   "metadata": {},
   "outputs": [
    {
     "data": {
      "text/plain": [
       "-3.5404"
      ]
     },
     "execution_count": 3,
     "metadata": {},
     "output_type": "execute_result"
    }
   ],
   "source": [
    "get_right([13, 92, 7])"
   ]
  },
  {
   "cell_type": "markdown",
   "id": "3bf659c7",
   "metadata": {
    "execution_time": [
     1667099603359,
     1667100081633
    ]
   },
   "source": [
    "The first result is correct, while the second is incorrect.\n",
    "\n",
    "I forgot to divide by 100 in the for loop."
   ]
  },
  {
   "cell_type": "code",
   "execution_count": 4,
   "id": "c8115abe",
   "metadata": {},
   "outputs": [
    {
     "data": {
      "text/plain": [
       "0.767288"
      ]
     },
     "execution_count": 4,
     "metadata": {},
     "output_type": "execute_result"
    }
   ],
   "source": [
    "def get_right(deliverProbs):\n",
    "    \n",
    "    if len(deliverProbs) == 0:\n",
    "        return 1\n",
    "    elif len(deliverProbs) == 1:\n",
    "        return deliverProbs[0]\n",
    "    \n",
    "    p1 = deliverProbs[0]/100\n",
    "    p2 = deliverProbs[1]/100\n",
    "    right = p1*p2+(1-p1)*(1-p2)\n",
    "    \n",
    "    for p in deliverProbs[2:]:\n",
    "        right = right*p/100+(1-right)*(1-p/100)\n",
    "        \n",
    "    return right\n",
    "\n",
    "get_right([13, 92, 7])"
   ]
  },
  {
   "cell_type": "markdown",
   "id": "ad993522",
   "metadata": {
    "execution_time": [
     1667099685991,
     1667100084505
    ]
   },
   "source": [
    "The probability looks correct now.\n",
    "\n",
    "If the probability of the model is 0.89, than the final probability of getting it right is"
   ]
  },
  {
   "cell_type": "code",
   "execution_count": 5,
   "id": "b1ec46e1",
   "metadata": {},
   "outputs": [
    {
     "data": {
      "text/plain": [
       "0.7084846399999999"
      ]
     },
     "execution_count": 5,
     "metadata": {},
     "output_type": "execute_result"
    }
   ],
   "source": [
    "0.767288*0.89+(1-0.767288)*(1-0.89)"
   ]
  },
  {
   "cell_type": "markdown",
   "id": "362cccf4",
   "metadata": {
    "execution_time": [
     1667099717570,
     1667100088458
    ]
   },
   "source": [
    "This is the correct result.\n",
    "\n",
    "Let me implent the function predictRain and a few tests."
   ]
  },
  {
   "cell_type": "code",
   "execution_count": 6,
   "id": "d0990143",
   "metadata": {},
   "outputs": [
    {
     "name": "stdout",
     "output_type": "stream",
     "text": [
      "[93, [50], 0.5] 43.07 0.5\n"
     ]
    },
    {
     "ename": "AssertionError",
     "evalue": "",
     "output_type": "error",
     "traceback": [
      "\u001b[0;31m---------------------------------------------------------------------------\u001b[0m",
      "\u001b[0;31mAssertionError\u001b[0m                            Traceback (most recent call last)",
      "Cell \u001b[0;32mIn [6], line 38\u001b[0m\n\u001b[1;32m     35\u001b[0m         \u001b[38;5;28mprint\u001b[39m(p, res, p[\u001b[38;5;241m2\u001b[39m])\n\u001b[1;32m     36\u001b[0m         \u001b[38;5;28;01massert\u001b[39;00m isclose(res, p[\u001b[38;5;241m2\u001b[39m], rtol\u001b[38;5;241m=\u001b[39m\u001b[38;5;241m1e-10\u001b[39m, atol\u001b[38;5;241m=\u001b[39m\u001b[38;5;241m1e-10\u001b[39m)\n\u001b[0;32m---> 38\u001b[0m \u001b[43mtest\u001b[49m\u001b[43m(\u001b[49m\u001b[43m)\u001b[49m\n",
      "Cell \u001b[0;32mIn [6], line 36\u001b[0m, in \u001b[0;36mtest\u001b[0;34m()\u001b[0m\n\u001b[1;32m     34\u001b[0m res \u001b[38;5;241m=\u001b[39m predictRain(p[\u001b[38;5;241m0\u001b[39m], p[\u001b[38;5;241m1\u001b[39m])\n\u001b[1;32m     35\u001b[0m \u001b[38;5;28mprint\u001b[39m(p, res, p[\u001b[38;5;241m2\u001b[39m])\n\u001b[0;32m---> 36\u001b[0m \u001b[38;5;28;01massert\u001b[39;00m isclose(res, p[\u001b[38;5;241m2\u001b[39m], rtol\u001b[38;5;241m=\u001b[39m\u001b[38;5;241m1e-10\u001b[39m, atol\u001b[38;5;241m=\u001b[39m\u001b[38;5;241m1e-10\u001b[39m)\n",
      "\u001b[0;31mAssertionError\u001b[0m: "
     ]
    }
   ],
   "source": [
    "from typing import List\n",
    "from numpy import isclose\n",
    "\n",
    "def get_right(deliverProbs):\n",
    "    \n",
    "    if len(deliverProbs) == 0:\n",
    "        return 1\n",
    "    elif len(deliverProbs) == 1:\n",
    "        return deliverProbs[0]\n",
    "    \n",
    "    p1 = deliverProbs[0]/100\n",
    "    p2 = deliverProbs[1]/100\n",
    "    right = p1*p2+(1-p1)*(1-p2)\n",
    "    \n",
    "    for p in deliverProbs[2:]:\n",
    "        right = right*p/100+(1-right)*(1-p/100)\n",
    "        \n",
    "    return right\n",
    "\n",
    "def predictRain(ilkoProb: int, deliverProbs: List[int]) -> float:\n",
    "    p = get_right(deliverProbs)\n",
    "    ilkoProb /= 100\n",
    "    \n",
    "    return ilkoProb*p+(1-ilkoProb)*(1-p)\n",
    "\n",
    "def test():\n",
    "    params = [\n",
    "        [93, [50], 0.5],\n",
    "        [100, [90,90], 0.82],\n",
    "        [89, [13, 92, 7], 0.7084846399999999],\n",
    "        [50, [3, 17, 92, 34, 2, 14], 0.5],\n",
    "    ]\n",
    "    for p in params:\n",
    "        res = predictRain(p[0], p[1])\n",
    "        print(p, res, p[2])\n",
    "        assert isclose(res, p[2], rtol=1e-10, atol=1e-10)\n",
    "        \n",
    "test()"
   ]
  },
  {
   "cell_type": "markdown",
   "id": "9f1f0032",
   "metadata": {
    "execution_time": [
     1667099818384,
     1667100097361
    ]
   },
   "source": [
    "I am failing the first assertion. The result above 1 indicates that I forgot to divide deliverProbs by 100 somewhere.\n",
    "\n",
    "The problem happend when len(deliverProbs) == 1.\n",
    "In this case I should return the result divided by 100."
   ]
  },
  {
   "cell_type": "code",
   "execution_count": 7,
   "id": "2b3e39d5",
   "metadata": {},
   "outputs": [
    {
     "name": "stdout",
     "output_type": "stream",
     "text": [
      "[93, [50], 0.5] 0.5 0.5\n",
      "[100, [90, 90], 0.82] 0.8200000000000001 0.82\n",
      "[89, [13, 92, 7], 0.7084846399999999] 0.7084846399999999 0.7084846399999999\n",
      "[50, [3, 17, 92, 34, 2, 14], 0.5] 0.5 0.5\n",
      "done\n"
     ]
    }
   ],
   "source": [
    "from typing import List\n",
    "from numpy import isclose\n",
    "\n",
    "def get_right(deliverProbs):\n",
    "    \n",
    "    if len(deliverProbs) == 0:\n",
    "        return 1\n",
    "    elif len(deliverProbs) == 1:\n",
    "        return deliverProbs[0]/100\n",
    "    \n",
    "    p1 = deliverProbs[0]/100\n",
    "    p2 = deliverProbs[1]/100\n",
    "    right = p1*p2+(1-p1)*(1-p2)\n",
    "    \n",
    "    for p in deliverProbs[2:]:\n",
    "        right = right*p/100+(1-right)*(1-p/100)\n",
    "        \n",
    "    return right\n",
    "\n",
    "def predictRain(ilkoProb: int, deliverProbs: List[int]) -> float:\n",
    "    p = get_right(deliverProbs)\n",
    "    ilkoProb /= 100\n",
    "    \n",
    "    return ilkoProb*p+(1-ilkoProb)*(1-p)\n",
    "\n",
    "def test():\n",
    "    params = [\n",
    "        [93, [50], 0.5],\n",
    "        [100, [90,90], 0.82],\n",
    "        [89, [13, 92, 7], 0.7084846399999999],\n",
    "        [50, [3, 17, 92, 34, 2, 14], 0.5],\n",
    "    ]\n",
    "    for p in params:\n",
    "        res = predictRain(p[0], p[1])\n",
    "        print(p, res, p[2])\n",
    "        assert isclose(res, p[2], rtol=1e-10, atol=1e-10)\n",
    "    print('done')\n",
    "    \n",
    "test()"
   ]
  },
  {
   "cell_type": "markdown",
   "id": "cd518ee3",
   "metadata": {
    "execution_time": [
     1667100100147,
     1667100186422
    ]
   },
   "source": [
    "Nice, all tests are working. \n",
    "\n",
    "Let me add a few more"
   ]
  },
  {
   "cell_type": "code",
   "execution_count": 13,
   "id": "a9a9f168",
   "metadata": {},
   "outputs": [
    {
     "name": "stdout",
     "output_type": "stream",
     "text": [
      "[93, [50], 0.5] 0.5 0.5\n",
      "[100, [90, 90], 0.82] 0.8200000000000001 0.82\n",
      "[89, [13, 92, 7], 0.7084846399999999] 0.7084846399999999 0.7084846399999999\n",
      "[50, [3, 17, 92, 34, 2, 14], 0.5] 0.5 0.5\n",
      "[50, [3, 17, 92, 34, 2, 14], 0.5] 0.5 0.5\n",
      "[50, [50, 50, 50, 50, 50, 50, 50, 50, 50, 50, 50, 50, 50, 50, 50, 50, 50, 50, 50, 50, 50, 50, 50, 50, 50, 50, 50, 50, 50, 50, 50, 50, 50, 50, 50, 50, 50, 50, 50, 50, 50, 50, 50, 50, 50, 50, 50, 50, 50, 50], 0.5] 0.5 0.5\n",
      "[0, [100, 100, 100, 100, 100, 100, 100, 100, 100, 100, 100, 100, 100, 100, 100, 100, 100, 100, 100, 100, 100, 100, 100, 100, 100, 100, 100, 100, 100, 100, 100, 100, 100, 100, 100, 100, 100, 100, 100, 100, 100, 100, 100, 100, 100, 100, 100, 100, 100, 100], 0] 0.0 0\n",
      "[0, [0, 0, 0, 0, 0, 0, 0, 0, 0, 0, 0, 0, 0, 0, 0, 0, 0, 0, 0, 0, 0, 0, 0, 0, 0, 0, 0, 0, 0, 0, 0, 0, 0, 0, 0, 0, 0, 0, 0, 0, 0, 0, 0, 0, 0, 0, 0, 0, 0], 1] 1.0 1\n",
      "[0, [100, 90], 0.1] 0.09999999999999998 0.1\n",
      "done\n"
     ]
    }
   ],
   "source": [
    "def test():\n",
    "    params = [\n",
    "        [93, [50], 0.5],\n",
    "        [100, [90,90], 0.82],\n",
    "        [89, [13, 92, 7], 0.7084846399999999],\n",
    "        [50, [3, 17, 92, 34, 2, 14], 0.5],\n",
    "        [50, [3, 17, 92, 34, 2, 14], 0.5],\n",
    "        [50, [50]*50, 0.5],\n",
    "        [0, [100]*50, 0],\n",
    "        [0, [0]*49, 1],\n",
    "        [0, [100, 90], 0.1],\n",
    "    ]\n",
    "    for p in params:\n",
    "        res = predictRain(p[0], p[1])\n",
    "        print(p, res, p[2])\n",
    "        assert isclose(res, p[2], rtol=1e-10, atol=1e-10)\n",
    "    print('done')\n",
    "    \n",
    "test()"
   ]
  },
  {
   "cell_type": "code",
   "execution_count": null,
   "id": "f1d43f63",
   "metadata": {},
   "outputs": [],
   "source": []
  }
 ],
 "metadata": {
  "kernelspec": {
   "display_name": "Python 3 (ipykernel)",
   "language": "python",
   "name": "python3"
  },
  "language_info": {
   "codemirror_mode": {
    "name": "ipython",
    "version": 3
   },
   "file_extension": ".py",
   "mimetype": "text/x-python",
   "name": "python",
   "nbconvert_exporter": "python",
   "pygments_lexer": "ipython3",
   "version": "3.9.13"
  }
 },
 "nbformat": 4,
 "nbformat_minor": 5
}
